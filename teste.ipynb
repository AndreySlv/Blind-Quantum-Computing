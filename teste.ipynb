{
 "cells": [
  {
   "cell_type": "code",
   "execution_count": 4,
   "id": "46e7b8f3",
   "metadata": {},
   "outputs": [
    {
     "name": "stdout",
     "output_type": "stream",
     "text": [
      "Requirement already satisfied: pip in /home/codespace/.python/current/lib/python3.12/site-packages (25.2)\n",
      "\u001b[31mERROR: Could not find a version that satisfies the requirement install (from versions: none)\u001b[0m\u001b[31m\n",
      "\u001b[0m\u001b[31mERROR: No matching distribution found for install\u001b[0m\u001b[31m\n",
      "\u001b[0m"
     ]
    }
   ],
   "source": [
    "!pip install pip install pennylane pennylane-datasets scikit-learn"
   ]
  },
  {
   "cell_type": "code",
   "execution_count": 5,
   "id": "1cc2bdc0",
   "metadata": {},
   "outputs": [
    {
     "name": "stdout",
     "output_type": "stream",
     "text": [
      "Atributos disponíveis no dataset: ['img_test', 'img_train', 'labels_test', 'labels_train']\n",
      "Campos disponíveis: {}\n"
     ]
    }
   ],
   "source": [
    "import pennylane as qml\n",
    "\n",
    "data = qml.data.load(\"other\", name=\"plus-minus\")[0]\n",
    "print(\"Atributos disponíveis no dataset:\", dir(data))\n",
    "print(\"Campos disponíveis:\", getattr(data, \"fields\", \"Sem campos\"))"
   ]
  },
  {
   "cell_type": "code",
   "execution_count": null,
   "id": "d8acf885",
   "metadata": {},
   "outputs": [
    {
     "name": "stdout",
     "output_type": "stream",
     "text": [
      "Epoch 01 | Loss = 0.6828 | Train Acc = 0.238\n",
      "Epoch 05 | Loss = 0.6795 | Train Acc = 0.238\n",
      "Epoch 10 | Loss = 0.6764 | Train Acc = 0.243\n",
      "Epoch 15 | Loss = 0.6743 | Train Acc = 0.237\n",
      "Epoch 20 | Loss = 0.6729 | Train Acc = 0.239\n",
      "\n",
      "Acurácia final no teste: 0.195\n"
     ]
    },
    {
     "ename": "",
     "evalue": "",
     "output_type": "error",
     "traceback": [
      "\u001b[1;31mO Kernel deu pane ao executar o código na célula atual ou em uma célula anterior. \n",
      "\u001b[1;31mAnalise o código nas células para identificar uma possível causa da pane. \n",
      "\u001b[1;31mClique <a href='https://aka.ms/vscodeJupyterKernelCrash'>aqui</a> para obter mais informações. \n",
      "\u001b[1;31mConsulte Jupyter <a href='command:jupyter.viewOutput'>log</a> para obter mais detalhes."
     ]
    }
   ],
   "source": [
    "\n",
    "import pennylane as qml\n",
    "from pennylane import numpy as np\n",
    "from sklearn.metrics import accuracy_score\n",
    "\n",
    "[ds] = qml.data.load(\"plus-minus\")\n",
    "\n",
    "X_train, Y_train = ds.img_train, ds.labels_train\n",
    "X_test, Y_test   = ds.img_test, ds.labels_test\n",
    "\n",
    "# Cada imagem é 16x16 = 256 pixels -> precisa de 8 qubits (2^8 = 256)\n",
    "n_qubits = 8\n",
    "dev = qml.device(\"default.qubit\", wires=n_qubits)\n",
    "\n",
    "@qml.qnode(dev, interface=\"autograd\")\n",
    "def circuit(image, params):\n",
    "    qml.AmplitudeEmbedding(image.flatten(), wires=range(n_qubits), normalize=True)\n",
    "    for i in range(n_qubits):\n",
    "        qml.RX(params[i], wires=i)\n",
    "    for i in range(n_qubits - 1):\n",
    "        qml.CNOT(wires=[i, i + 1])\n",
    "    return qml.expval(qml.PauliZ(0))\n",
    "\n",
    "def predict(x, params):\n",
    "    return circuit(x, params)\n",
    "\n",
    "def loss_fn(params, X, y):\n",
    "    preds = np.array([predict(x, params) for x in X])\n",
    "    probs = (preds + 1) / 2   # [-1,1] -> [0,1]\n",
    "    eps = 1e-7\n",
    "    probs = np.clip(probs, eps, 1 - eps)\n",
    "    return -np.mean(y * np.log(probs) + (1 - y) * np.log(1 - probs))\n",
    "\n",
    "np.random.seed(0)\n",
    "params = np.random.random(n_qubits, requires_grad=True)\n",
    "\n",
    "opt = qml.GradientDescentOptimizer(stepsize=0.3)\n",
    "epochs = 20\n",
    "\n",
    "for epoch in range(1, epochs + 1):\n",
    "    params, loss = opt.step_and_cost(lambda w: loss_fn(w, X_train, Y_train), params)\n",
    "\n",
    "    if epoch % 5 == 0 or epoch == 1:\n",
    "        preds = np.array([predict(x, params) for x in X_train])\n",
    "        labels = ((preds + 1) / 2 >= 0.5).astype(int)\n",
    "        acc = accuracy_score(Y_train, labels)\n",
    "        print(f\"Epoch {epoch:02d} | Loss = {loss:.4f} | Train Acc = {acc:.3f}\")\n",
    "\n",
    "preds_test = np.array([predict(x, params) for x in X_test])\n",
    "labels_test = ((preds_test + 1) / 2 >= 0.5).astype(int)\n",
    "test_acc = accuracy_score(Y_test, labels_test)\n",
    "\n",
    "print(f\"\\nAcurácia final no teste: {test_acc:.3f}\")\n"
   ]
  },
  {
   "cell_type": "code",
   "execution_count": 9,
   "id": "90dd1c9b",
   "metadata": {},
   "outputs": [
    {
     "name": "stdout",
     "output_type": "stream",
     "text": [
      "Requirement already satisfied: qiskit in /home/codespace/.python/current/lib/python3.12/site-packages (1.4.4)\n",
      "Requirement already satisfied: qiskit-aer in /home/codespace/.python/current/lib/python3.12/site-packages (0.17.1)\n",
      "Requirement already satisfied: qiskit-machine-learning in /home/codespace/.python/current/lib/python3.12/site-packages (0.8.3)\n",
      "Requirement already satisfied: scikit-learn in /home/codespace/.python/current/lib/python3.12/site-packages (1.7.1)\n",
      "Requirement already satisfied: matplotlib in /home/codespace/.python/current/lib/python3.12/site-packages (3.10.5)\n",
      "Requirement already satisfied: numpy in /home/codespace/.python/current/lib/python3.12/site-packages (2.2.6)\n",
      "Requirement already satisfied: rustworkx>=0.15.0 in /home/codespace/.local/lib/python3.12/site-packages (from qiskit) (0.15.1)\n",
      "Requirement already satisfied: scipy>=1.5 in /home/codespace/.local/lib/python3.12/site-packages (from qiskit) (1.14.1)\n",
      "Requirement already satisfied: sympy>=1.3 in /home/codespace/.local/lib/python3.12/site-packages (from qiskit) (1.13.3)\n",
      "Requirement already satisfied: dill>=0.3 in /home/codespace/.local/lib/python3.12/site-packages (from qiskit) (0.3.9)\n",
      "Requirement already satisfied: python-dateutil>=2.8.0 in /home/codespace/.local/lib/python3.12/site-packages (from qiskit) (2.9.0.post0)\n",
      "Requirement already satisfied: stevedore>=3.0.0 in /home/codespace/.local/lib/python3.12/site-packages (from qiskit) (5.3.0)\n",
      "Requirement already satisfied: typing-extensions in /home/codespace/.local/lib/python3.12/site-packages (from qiskit) (4.12.2)\n",
      "Requirement already satisfied: symengine<0.14,>=0.11 in /home/codespace/.local/lib/python3.12/site-packages (from qiskit) (0.13.0)\n",
      "Requirement already satisfied: psutil>=5 in /home/codespace/.local/lib/python3.12/site-packages (from qiskit-aer) (6.0.0)\n",
      "Requirement already satisfied: setuptools>=40.1 in /home/codespace/.local/lib/python3.12/site-packages (from qiskit-machine-learning) (80.9.0)\n",
      "Requirement already satisfied: joblib>=1.2.0 in /home/codespace/.local/lib/python3.12/site-packages (from scikit-learn) (1.5.1)\n",
      "Requirement already satisfied: threadpoolctl>=3.1.0 in /home/codespace/.local/lib/python3.12/site-packages (from scikit-learn) (3.6.0)\n",
      "Requirement already satisfied: contourpy>=1.0.1 in /home/codespace/.local/lib/python3.12/site-packages (from matplotlib) (1.3.0)\n",
      "Requirement already satisfied: cycler>=0.10 in /home/codespace/.local/lib/python3.12/site-packages (from matplotlib) (0.12.1)\n",
      "Requirement already satisfied: fonttools>=4.22.0 in /home/codespace/.local/lib/python3.12/site-packages (from matplotlib) (4.53.1)\n",
      "Requirement already satisfied: kiwisolver>=1.3.1 in /home/codespace/.local/lib/python3.12/site-packages (from matplotlib) (1.4.5)\n",
      "Requirement already satisfied: packaging>=20.0 in /home/codespace/.local/lib/python3.12/site-packages (from matplotlib) (24.1)\n",
      "Requirement already satisfied: pillow>=8 in /home/codespace/.local/lib/python3.12/site-packages (from matplotlib) (10.4.0)\n",
      "Requirement already satisfied: pyparsing>=2.3.1 in /home/codespace/.local/lib/python3.12/site-packages (from matplotlib) (3.1.4)\n",
      "Requirement already satisfied: six>=1.5 in /home/codespace/.local/lib/python3.12/site-packages (from python-dateutil>=2.8.0->qiskit) (1.16.0)\n",
      "Requirement already satisfied: pbr>=2.0.0 in /home/codespace/.local/lib/python3.12/site-packages (from stevedore>=3.0.0->qiskit) (6.1.0)\n",
      "Requirement already satisfied: mpmath<1.4,>=1.1.0 in /home/codespace/.local/lib/python3.12/site-packages (from sympy>=1.3->qiskit) (1.3.0)\n",
      "Requirement already satisfied: qiskit-machine-learning in /home/codespace/.python/current/lib/python3.12/site-packages (0.8.3)\n",
      "Requirement already satisfied: qiskit<2.0,>=1.0 in /home/codespace/.python/current/lib/python3.12/site-packages (from qiskit-machine-learning) (1.4.4)\n",
      "Requirement already satisfied: numpy>=2.0 in /home/codespace/.python/current/lib/python3.12/site-packages (from qiskit-machine-learning) (2.2.6)\n",
      "Requirement already satisfied: scipy>=1.4 in /home/codespace/.local/lib/python3.12/site-packages (from qiskit-machine-learning) (1.14.1)\n",
      "Requirement already satisfied: scikit-learn>=1.2 in /home/codespace/.python/current/lib/python3.12/site-packages (from qiskit-machine-learning) (1.7.1)\n",
      "Requirement already satisfied: setuptools>=40.1 in /home/codespace/.local/lib/python3.12/site-packages (from qiskit-machine-learning) (80.9.0)\n",
      "Requirement already satisfied: dill>=0.3.4 in /home/codespace/.local/lib/python3.12/site-packages (from qiskit-machine-learning) (0.3.9)\n",
      "Requirement already satisfied: rustworkx>=0.15.0 in /home/codespace/.local/lib/python3.12/site-packages (from qiskit<2.0,>=1.0->qiskit-machine-learning) (0.15.1)\n",
      "Requirement already satisfied: sympy>=1.3 in /home/codespace/.local/lib/python3.12/site-packages (from qiskit<2.0,>=1.0->qiskit-machine-learning) (1.13.3)\n",
      "Requirement already satisfied: python-dateutil>=2.8.0 in /home/codespace/.local/lib/python3.12/site-packages (from qiskit<2.0,>=1.0->qiskit-machine-learning) (2.9.0.post0)\n",
      "Requirement already satisfied: stevedore>=3.0.0 in /home/codespace/.local/lib/python3.12/site-packages (from qiskit<2.0,>=1.0->qiskit-machine-learning) (5.3.0)\n",
      "Requirement already satisfied: typing-extensions in /home/codespace/.local/lib/python3.12/site-packages (from qiskit<2.0,>=1.0->qiskit-machine-learning) (4.12.2)\n",
      "Requirement already satisfied: symengine<0.14,>=0.11 in /home/codespace/.local/lib/python3.12/site-packages (from qiskit<2.0,>=1.0->qiskit-machine-learning) (0.13.0)\n",
      "Requirement already satisfied: six>=1.5 in /home/codespace/.local/lib/python3.12/site-packages (from python-dateutil>=2.8.0->qiskit<2.0,>=1.0->qiskit-machine-learning) (1.16.0)\n",
      "Requirement already satisfied: joblib>=1.2.0 in /home/codespace/.local/lib/python3.12/site-packages (from scikit-learn>=1.2->qiskit-machine-learning) (1.5.1)\n",
      "Requirement already satisfied: threadpoolctl>=3.1.0 in /home/codespace/.local/lib/python3.12/site-packages (from scikit-learn>=1.2->qiskit-machine-learning) (3.6.0)\n",
      "Requirement already satisfied: pbr>=2.0.0 in /home/codespace/.local/lib/python3.12/site-packages (from stevedore>=3.0.0->qiskit<2.0,>=1.0->qiskit-machine-learning) (6.1.0)\n",
      "Requirement already satisfied: mpmath<1.4,>=1.1.0 in /home/codespace/.local/lib/python3.12/site-packages (from sympy>=1.3->qiskit<2.0,>=1.0->qiskit-machine-learning) (1.3.0)\n"
     ]
    }
   ],
   "source": [
    "!pip install qiskit qiskit-aer qiskit-machine-learning scikit-learn matplotlib numpy\n",
    "!pip install qiskit-machine-learning\n"
   ]
  },
  {
   "cell_type": "code",
   "execution_count": 1,
   "id": "01eaee11",
   "metadata": {},
   "outputs": [
    {
     "name": "stderr",
     "output_type": "stream",
     "text": [
      "/tmp/ipykernel_26400/68314634.py:89: DeprecationWarning: The class ``qiskit.primitives.sampler.Sampler`` is deprecated as of qiskit 1.2. It will be removed no earlier than 3 months after the release date. All implementations of the `BaseSamplerV1` interface have been deprecated in favor of their V2 counterparts. The V2 alternative for the `Sampler` class is `StatevectorSampler`.\n",
      "  sampler = Sampler(options={\"backend\": simulator})\n",
      "/tmp/ipykernel_26400/68314634.py:91: DeprecationWarning: V1 Primitives are deprecated as of qiskit-machine-learning 0.8.0 and will be removed no sooner than 4 months after the release date. Use V2 primitives for continued compatibility and support.\n",
      "  qnn = SamplerQNN(\n"
     ]
    },
    {
     "name": "stdout",
     "output_type": "stream",
     "text": [
      "\n",
      "TREINANDO QNN MULTI-CLASS COM BACKEND RUIDOSO...\n"
     ]
    },
    {
     "ename": "",
     "evalue": "",
     "output_type": "error",
     "traceback": [
      "\u001b[1;31mO Kernel deu pane ao executar o código na célula atual ou em uma célula anterior. \n",
      "\u001b[1;31mAnalise o código nas células para identificar uma possível causa da pane. \n",
      "\u001b[1;31mClique <a href='https://aka.ms/vscodeJupyterKernelCrash'>aqui</a> para obter mais informações. \n",
      "\u001b[1;31mConsulte Jupyter <a href='command:jupyter.viewOutput'>log</a> para obter mais detalhes."
     ]
    }
   ],
   "source": [
    "# INSTALAR DEPENDÊNCIAS SE PRECISAR:\n",
    "# pip install --upgrade qiskit qiskit-aer qiskit-machine-learning pennylane scikit-learn matplotlib numpy\n",
    "\n",
    "import random\n",
    "import numpy as np\n",
    "import pennylane as qml\n",
    "from sklearn.model_selection import train_test_split\n",
    "from sklearn.preprocessing import MinMaxScaler\n",
    "from sklearn.metrics import accuracy_score, classification_report\n",
    "\n",
    "from qiskit import QuantumCircuit, transpile\n",
    "from qiskit.circuit.library import ZZFeatureMap, RealAmplitudes\n",
    "from qiskit.primitives import Sampler\n",
    "from qiskit_machine_learning.neural_networks import SamplerQNN\n",
    "from qiskit_machine_learning.algorithms.classifiers import NeuralNetworkClassifier\n",
    "from qiskit_machine_learning.utils.loss_functions import CrossEntropyLoss\n",
    "from qiskit_algorithms.optimizers import COBYLA\n",
    "\n",
    "from qiskit_aer import AerSimulator\n",
    "from qiskit_aer.noise import NoiseModel, depolarizing_error\n",
    "\n",
    "SEED = 42\n",
    "random.seed(SEED)\n",
    "np.random.seed(SEED)\n",
    "\n",
    "try:\n",
    "    from qiskit_algorithms.utils import algorithm_globals\n",
    "    algorithm_globals.random_seed = SEED\n",
    "except ImportError:\n",
    "    pass\n",
    "\n",
    "noise_model = NoiseModel()\n",
    "error_1q = depolarizing_error(0.01, 1)\n",
    "error_2q = depolarizing_error(0.02, 2)\n",
    "noise_model.add_all_qubit_quantum_error(error_1q, ['h','x','y','z','rx','ry','rz','s','sdg','t','tdg'])\n",
    "noise_model.add_all_qubit_quantum_error(error_2q, ['cx','cz','swap'])\n",
    "\n",
    "simulator = AerSimulator(noise_model=noise_model, shots=1024, method='statevector')\n",
    "\n",
    "[ds] = qml.data.load(\"plus-minus\")\n",
    "\n",
    "X = ds.img_train\n",
    "y = ds.labels_train\n",
    "X_test = ds.img_test\n",
    "y_test = ds.labels_test\n",
    "\n",
    "X = X.reshape((X.shape[0], -1))\n",
    "X_test = X_test.reshape((X_test.shape[0], -1))\n",
    "scaler = MinMaxScaler((0,1))\n",
    "X = scaler.fit_transform(X)\n",
    "X_test = scaler.transform(X_test)\n",
    "\n",
    "X_train, X_val, y_train, y_val = train_test_split(\n",
    "    X, y, test_size=0.2, random_state=SEED, stratify=y\n",
    ")\n",
    "\n",
    "num_classes = len(np.unique(y))\n",
    "num_qubits = X.shape[1]\n",
    "\n",
    "feature_map = ZZFeatureMap(num_qubits, reps=1)\n",
    "ansatz = RealAmplitudes(num_qubits, reps=1)\n",
    "qc = QuantumCircuit(num_qubits)\n",
    "qc.compose(feature_map, inplace=True)\n",
    "qc.compose(ansatz, inplace=True)\n",
    "\n",
    "def interpret(x):\n",
    "    return int(x, 2) % num_classes\n",
    "\n",
    "sampler = Sampler(options={\"backend\": simulator})\n",
    "\n",
    "qnn = SamplerQNN(\n",
    "    circuit=qc,\n",
    "    sampler=sampler,\n",
    "    input_params=feature_map.parameters,\n",
    "    weight_params=ansatz.parameters,\n",
    "    interpret=interpret,\n",
    "    output_shape=num_classes,\n",
    ")\n",
    "\n",
    "def enviar_circuito_por_epoca(circuito, epoch):\n",
    "    print(f\"[Epoch {epoch+1}] Enviando circuito parametrizado para rede...\")\n",
    "\n",
    "    print(circuito)\n",
    "\n",
    "vqc = NeuralNetworkClassifier(\n",
    "    neural_network=qnn,\n",
    "    optimizer=COBYLA(maxiter=1),  # rodar uma iteração por \"epoch\"\n",
    "    loss=CrossEntropyLoss(),\n",
    "    one_hot=True,\n",
    "    callback=lambda weights, loss, step: enviar_circuito_por_epoca(\n",
    "        qc.assign_parameters(weights), step\n",
    "    ),\n",
    ")\n",
    "\n",
    "EPOCHS = 10\n",
    "print(\"\\nTREINANDO QNN MULTI-CLASS COM BACKEND RUIDOSO...\")\n",
    "\n",
    "for epoch in range(EPOCHS):\n",
    "    vqc.fit(X_train, y_train)\n",
    "\n",
    "    y_pred_val = vqc.predict(X_val)\n",
    "    acc_val = accuracy_score(y_val, y_pred_val)\n",
    "    print(f\"[Epoch {epoch+1}] Accuracy validação: {acc_val:.4f}\")\n",
    "\n",
    "y_pred_test = vqc.predict(X_test)\n",
    "print(\"\\nRESULTADOS FINAIS NO TESTE:\")\n",
    "print(\"Acurácia:\", accuracy_score(y_test, y_pred_test))\n",
    "print(classification_report(y_test, y_pred_test))\n"
   ]
  }
 ],
 "metadata": {
  "kernelspec": {
   "display_name": "Python 3",
   "language": "python",
   "name": "python3"
  },
  "language_info": {
   "codemirror_mode": {
    "name": "ipython",
    "version": 3
   },
   "file_extension": ".py",
   "mimetype": "text/x-python",
   "name": "python",
   "nbconvert_exporter": "python",
   "pygments_lexer": "ipython3",
   "version": "3.12.1"
  }
 },
 "nbformat": 4,
 "nbformat_minor": 5
}
