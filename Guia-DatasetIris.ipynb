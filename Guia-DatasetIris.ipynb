{
 "cells": [
  {
   "cell_type": "markdown",
   "metadata": {},
   "source": [
    "# Blind Quantum Computing\n",
    "\n",
    "Este notebook executa o código de Blind Quantum Computing utilizando Qiskit. O objetivo é demonstrar como rodar experimentos quânticos de forma segura e privada, utilizando um dataset de exemplo (Iris)."
   ]
  },
  {
   "cell_type": "code",
   "execution_count": 1,
   "id": "e258a9d5",
   "metadata": {},
   "outputs": [],
   "source": [
    "import random\n",
    "import matplotlib.pyplot as plt\n",
    "from quantumnet.components import Network, Logger"
   ]
  },
  {
   "cell_type": "code",
   "execution_count": 2,
   "id": "0bef704f",
   "metadata": {},
   "outputs": [
    {
     "name": "stdout",
     "output_type": "stream",
     "text": [
      "Requirement already satisfied: qiskit in ./.venv/lib/python3.12/site-packages (1.4.3)\n",
      "Requirement already satisfied: rustworkx>=0.15.0 in ./.venv/lib/python3.12/site-packages (from qiskit) (0.16.0)\n",
      "Requirement already satisfied: numpy<3,>=1.17 in ./.venv/lib/python3.12/site-packages (from qiskit) (2.3.1)\n",
      "Requirement already satisfied: scipy>=1.5 in ./.venv/lib/python3.12/site-packages (from qiskit) (1.16.0)\n",
      "Requirement already satisfied: sympy>=1.3 in ./.venv/lib/python3.12/site-packages (from qiskit) (1.14.0)\n",
      "Requirement already satisfied: dill>=0.3 in ./.venv/lib/python3.12/site-packages (from qiskit) (0.4.0)\n",
      "Requirement already satisfied: python-dateutil>=2.8.0 in ./.venv/lib/python3.12/site-packages (from qiskit) (2.9.0.post0)\n",
      "Requirement already satisfied: stevedore>=3.0.0 in ./.venv/lib/python3.12/site-packages (from qiskit) (5.4.1)\n",
      "Requirement already satisfied: typing-extensions in ./.venv/lib/python3.12/site-packages (from qiskit) (4.14.0)\n",
      "Requirement already satisfied: symengine<0.14,>=0.11 in ./.venv/lib/python3.12/site-packages (from qiskit) (0.13.0)\n",
      "Requirement already satisfied: six>=1.5 in ./.venv/lib/python3.12/site-packages (from python-dateutil>=2.8.0->qiskit) (1.17.0)\n",
      "Requirement already satisfied: pbr>=2.0.0 in ./.venv/lib/python3.12/site-packages (from stevedore>=3.0.0->qiskit) (6.1.1)\n",
      "Requirement already satisfied: setuptools in ./.venv/lib/python3.12/site-packages (from pbr>=2.0.0->stevedore>=3.0.0->qiskit) (80.9.0)\n",
      "Requirement already satisfied: mpmath<1.4,>=1.1.0 in ./.venv/lib/python3.12/site-packages (from sympy>=1.3->qiskit) (1.3.0)\n",
      "Requirement already satisfied: matplotlib in ./.venv/lib/python3.12/site-packages (3.10.3)\n",
      "Requirement already satisfied: contourpy>=1.0.1 in ./.venv/lib/python3.12/site-packages (from matplotlib) (1.3.2)\n",
      "Requirement already satisfied: cycler>=0.10 in ./.venv/lib/python3.12/site-packages (from matplotlib) (0.12.1)\n",
      "Requirement already satisfied: fonttools>=4.22.0 in ./.venv/lib/python3.12/site-packages (from matplotlib) (4.58.4)\n",
      "Requirement already satisfied: kiwisolver>=1.3.1 in ./.venv/lib/python3.12/site-packages (from matplotlib) (1.4.8)\n",
      "Requirement already satisfied: numpy>=1.23 in ./.venv/lib/python3.12/site-packages (from matplotlib) (2.3.1)\n",
      "Requirement already satisfied: packaging>=20.0 in ./.venv/lib/python3.12/site-packages (from matplotlib) (25.0)\n",
      "Requirement already satisfied: pillow>=8 in ./.venv/lib/python3.12/site-packages (from matplotlib) (11.2.1)\n",
      "Requirement already satisfied: pyparsing>=2.3.1 in ./.venv/lib/python3.12/site-packages (from matplotlib) (3.2.3)\n",
      "Requirement already satisfied: python-dateutil>=2.7 in ./.venv/lib/python3.12/site-packages (from matplotlib) (2.9.0.post0)\n",
      "Requirement already satisfied: six>=1.5 in ./.venv/lib/python3.12/site-packages (from python-dateutil>=2.7->matplotlib) (1.17.0)\n",
      "Requirement already satisfied: qiskit in ./.venv/lib/python3.12/site-packages (1.4.3)\n",
      "Requirement already satisfied: qiskit-machine-learning in ./.venv/lib/python3.12/site-packages (0.8.3)\n",
      "Requirement already satisfied: scikit-learn in ./.venv/lib/python3.12/site-packages (1.7.0)\n",
      "Requirement already satisfied: torch in ./.venv/lib/python3.12/site-packages (2.7.1)\n",
      "Requirement already satisfied: rustworkx>=0.15.0 in ./.venv/lib/python3.12/site-packages (from qiskit) (0.16.0)\n",
      "Requirement already satisfied: numpy<3,>=1.17 in ./.venv/lib/python3.12/site-packages (from qiskit) (2.3.1)\n",
      "Requirement already satisfied: scipy>=1.5 in ./.venv/lib/python3.12/site-packages (from qiskit) (1.16.0)\n",
      "Requirement already satisfied: sympy>=1.3 in ./.venv/lib/python3.12/site-packages (from qiskit) (1.14.0)\n",
      "Requirement already satisfied: dill>=0.3 in ./.venv/lib/python3.12/site-packages (from qiskit) (0.4.0)\n",
      "Requirement already satisfied: python-dateutil>=2.8.0 in ./.venv/lib/python3.12/site-packages (from qiskit) (2.9.0.post0)\n",
      "Requirement already satisfied: stevedore>=3.0.0 in ./.venv/lib/python3.12/site-packages (from qiskit) (5.4.1)\n",
      "Requirement already satisfied: typing-extensions in ./.venv/lib/python3.12/site-packages (from qiskit) (4.14.0)\n",
      "Requirement already satisfied: symengine<0.14,>=0.11 in ./.venv/lib/python3.12/site-packages (from qiskit) (0.13.0)\n",
      "Requirement already satisfied: setuptools>=40.1 in ./.venv/lib/python3.12/site-packages (from qiskit-machine-learning) (80.9.0)\n",
      "Requirement already satisfied: joblib>=1.2.0 in ./.venv/lib/python3.12/site-packages (from scikit-learn) (1.5.1)\n",
      "Requirement already satisfied: threadpoolctl>=3.1.0 in ./.venv/lib/python3.12/site-packages (from scikit-learn) (3.6.0)\n",
      "Requirement already satisfied: filelock in ./.venv/lib/python3.12/site-packages (from torch) (3.18.0)\n",
      "Requirement already satisfied: networkx in ./.venv/lib/python3.12/site-packages (from torch) (3.5)\n",
      "Requirement already satisfied: jinja2 in ./.venv/lib/python3.12/site-packages (from torch) (3.1.6)\n",
      "Requirement already satisfied: fsspec in ./.venv/lib/python3.12/site-packages (from torch) (2025.5.1)\n",
      "Requirement already satisfied: nvidia-cuda-nvrtc-cu12==12.6.77 in ./.venv/lib/python3.12/site-packages (from torch) (12.6.77)\n",
      "Requirement already satisfied: nvidia-cuda-runtime-cu12==12.6.77 in ./.venv/lib/python3.12/site-packages (from torch) (12.6.77)\n",
      "Requirement already satisfied: nvidia-cuda-cupti-cu12==12.6.80 in ./.venv/lib/python3.12/site-packages (from torch) (12.6.80)\n",
      "Requirement already satisfied: nvidia-cudnn-cu12==9.5.1.17 in ./.venv/lib/python3.12/site-packages (from torch) (9.5.1.17)\n",
      "Requirement already satisfied: nvidia-cublas-cu12==12.6.4.1 in ./.venv/lib/python3.12/site-packages (from torch) (12.6.4.1)\n",
      "Requirement already satisfied: nvidia-cufft-cu12==11.3.0.4 in ./.venv/lib/python3.12/site-packages (from torch) (11.3.0.4)\n",
      "Requirement already satisfied: nvidia-curand-cu12==10.3.7.77 in ./.venv/lib/python3.12/site-packages (from torch) (10.3.7.77)\n",
      "Requirement already satisfied: nvidia-cusolver-cu12==11.7.1.2 in ./.venv/lib/python3.12/site-packages (from torch) (11.7.1.2)\n",
      "Requirement already satisfied: nvidia-cusparse-cu12==12.5.4.2 in ./.venv/lib/python3.12/site-packages (from torch) (12.5.4.2)\n",
      "Requirement already satisfied: nvidia-cusparselt-cu12==0.6.3 in ./.venv/lib/python3.12/site-packages (from torch) (0.6.3)\n",
      "Requirement already satisfied: nvidia-nccl-cu12==2.26.2 in ./.venv/lib/python3.12/site-packages (from torch) (2.26.2)\n",
      "Requirement already satisfied: nvidia-nvtx-cu12==12.6.77 in ./.venv/lib/python3.12/site-packages (from torch) (12.6.77)\n",
      "Requirement already satisfied: nvidia-nvjitlink-cu12==12.6.85 in ./.venv/lib/python3.12/site-packages (from torch) (12.6.85)\n",
      "Requirement already satisfied: nvidia-cufile-cu12==1.11.1.6 in ./.venv/lib/python3.12/site-packages (from torch) (1.11.1.6)\n",
      "Requirement already satisfied: triton==3.3.1 in ./.venv/lib/python3.12/site-packages (from torch) (3.3.1)\n",
      "Requirement already satisfied: six>=1.5 in ./.venv/lib/python3.12/site-packages (from python-dateutil>=2.8.0->qiskit) (1.17.0)\n",
      "Requirement already satisfied: pbr>=2.0.0 in ./.venv/lib/python3.12/site-packages (from stevedore>=3.0.0->qiskit) (6.1.1)\n",
      "Requirement already satisfied: mpmath<1.4,>=1.1.0 in ./.venv/lib/python3.12/site-packages (from sympy>=1.3->qiskit) (1.3.0)\n",
      "Requirement already satisfied: MarkupSafe>=2.0 in ./.venv/lib/python3.12/site-packages (from jinja2->torch) (3.0.2)\n"
     ]
    }
   ],
   "source": [
    "# Instalar dependências\n",
    "!pip install qiskit\n",
    "!pip install matplotlib\n",
    "!pip install qiskit qiskit-machine-learning scikit-learn torch"
   ]
  },
  {
   "cell_type": "code",
   "execution_count": 3,
   "id": "123b3a02",
   "metadata": {},
   "outputs": [],
   "source": [
    "import random\n",
    "from quantumnet.components import Network, Host\n",
    "from quantumnet.components import ServerNode, ClientNode, RegularNode\n",
    "from quantumnet.objects import Qubit, Logger"
   ]
  },
  {
   "cell_type": "code",
   "execution_count": 4,
   "metadata": {},
   "outputs": [],
   "source": [
    "# instalar as bibliotecas necessárias\n",
    "\n",
    "from qiskit import QuantumCircuit\n",
    "from qiskit.circuit.library import ZZFeatureMap, RealAmplitudes\n",
    "from qiskit_machine_learning.neural_networks import EstimatorQNN\n",
    "from qiskit_machine_learning.connectors import TorchConnector\n",
    "from sklearn.model_selection import train_test_split\n",
    "from sklearn.preprocessing import MinMaxScaler\n",
    "from sklearn.datasets import load_iris\n",
    "from sklearn.metrics import accuracy_score, precision_score, recall_score, f1_score\n",
    "import torch\n",
    "import numpy as np\n"
   ]
  },
  {
   "cell_type": "markdown",
   "id": "f346e9e1",
   "metadata": {},
   "source": [
    "# Inicializar a rede"
   ]
  },
  {
   "cell_type": "code",
   "execution_count": 5,
   "id": "ddf9d3fd",
   "metadata": {},
   "outputs": [
    {
     "name": "stdout",
     "output_type": "stream",
     "text": [
      "Hosts inicializados\n",
      "Canais inicializados\n",
      "Pares EPRs adicionados\n"
     ]
    },
    {
     "data": {
      "image/png": "[encoded data removed]",
      "text/plain": [
       "<Figure size 640x480 with 1 Axes>"
      ]
     },
     "metadata": {},
     "output_type": "display_data"
    }
   ],
   "source": [
    "rede = Network()\n",
    "rede.set_ready_topology('grade',8,3,3) \n",
    "rede.draw()\n",
    "Logger.activate(Logger)"
   ]
  },
  {
   "cell_type": "markdown",
   "id": "7053bbdb",
   "metadata": {},
   "source": [
    "# Carrega o conjunto de dados Iris\n",
    "- X → dados (características/features) \n",
    "- y → rótulos (classes/labels)"
   ]
  },
  {
   "cell_type": "code",
   "execution_count": 6,
   "id": "cf2f77c5",
   "metadata": {},
   "outputs": [],
   "source": [
    "iris = load_iris()\n",
    "X = iris.data \n",
    "y = iris.target"
   ]
  },
  {
   "cell_type": "markdown",
   "id": "031feca8",
   "metadata": {},
   "source": [
    "# Reduz para duas classes (binário)\n",
    "- o QNN padrão trabalha com 0/1\n",
    "\n",
    "- Por isso, o conjunto Iris foi reduzido para apenas 2 classes, ou seja, só foram usados os exemplos das flores das espécies setosa e versicolor, excluindo a terceira (virginica).\n",
    "- Porém, as características (ou variáveis de entrada) — como comprimento e largura da sépala e da pétala — foram mantidas.\n",
    "- Isso significa que só simplificamos as saídas (as classes), mas não mexemos nas entradas.\n",
    "\n",
    "- Essa decisão foi feita para simplificar o código e permitir um foco mais direto no funcionamento do QML (Quantum Machine Learning) com redes neurais quânticas.\n",
    "- Embora seja possível adaptar o QNN para problemas multiclasse, isso exigiria um código mais avançado "
   ]
  },
  {
   "cell_type": "code",
   "execution_count": 7,
   "id": "ac2e83e1",
   "metadata": {},
   "outputs": [],
   "source": [
    "X = X[y != 2]\n",
    "y = y[y != 2]"
   ]
  },
  {
   "cell_type": "markdown",
   "id": "8e242a67",
   "metadata": {},
   "source": [
    "# Divide os dados \n",
    "80% treino e 20% teste\n",
    "\n",
    "- test_size -> define que 20% dos dados serão usados para teste (logo, 80% vão para treino)\n",
    "- random_state -> os dados são embaralhados aleatoriamente antes de dividir em treino e teste.\n",
    "- stratify -> mantém a mesma proporção de cada classe nos conjuntos de treino e teste (boa prática em classificações)"
   ]
  },
  {
   "cell_type": "code",
   "execution_count": 8,
   "id": "2897adcd",
   "metadata": {},
   "outputs": [],
   "source": [
    "X_train, X_test, y_train, y_test = train_test_split(X, y, test_size=0.2, random_state=42, stratify=y)"
   ]
  },
  {
   "cell_type": "markdown",
   "id": "08049260",
   "metadata": {},
   "source": [
    "# Normaliza os dados\n",
    "- Normalizar = colocar tudo na mesma escala (de 0 a 1).\n",
    "- Isso ajuda o modelo a aprender melhor e evita que uma variável \"grite\" mais que as outras.\n",
    "- ex: Se uma variável vai de 0 a 1000 e outra vai de 0 a 1, a maior domina o aprendizado"
   ]
  },
  {
   "cell_type": "code",
   "execution_count": 9,
   "id": "e0c07bf4",
   "metadata": {},
   "outputs": [],
   "source": [
    "scaler = MinMaxScaler()\n",
    "X_train = scaler.fit_transform(X_train)\n",
    "X_test = scaler.transform(X_test)"
   ]
  },
  {
   "cell_type": "markdown",
   "id": "5c9c481d",
   "metadata": {},
   "source": [
    "# Define número de qubits\n",
    "- Se o conjunto de dados tem 4 features (ex: comprimento da pétala, largura da pétala etc),\n",
    "- então são necessários 4 qubits para representar e processar cada uma dessas features no circuito quântico."
   ]
  },
  {
   "cell_type": "code",
   "execution_count": 10,
   "id": "7c334bdf",
   "metadata": {},
   "outputs": [],
   "source": [
    "num_qubits = X_train.shape[1]"
   ]
  },
  {
   "cell_type": "markdown",
   "id": "9e029039",
   "metadata": {},
   "source": [
    "# Feature map e ansatz\n",
    "- Feature Map → insere as features no circuito quântico\n",
    "- RealAmplitudes → um tipo específico de ansatz do Qiskit, onde ele monta um circuito que trabalha com rotações e entrelaçamento. Isso faz com que ele consiga representar padrões/pesos diferentes nas features. \"onde tem peso para aprender\"\n",
    "\n",
    "- Quantos mais os números de reps crescer mais a chance de overfitting (treinar de uma forma errada)"
   ]
  },
  {
   "cell_type": "code",
   "execution_count": 11,
   "id": "ed8b1169",
   "metadata": {},
   "outputs": [],
   "source": [
    "feature_map = ZZFeatureMap(feature_dimension=num_qubits)\n",
    "ansatz = RealAmplitudes(num_qubits, reps=1)"
   ]
  },
  {
   "cell_type": "markdown",
   "id": "208560c7",
   "metadata": {},
   "source": [
    "# Cria o circuito\n",
    "- etapa que cria um circuito quântico vazio, transforma os dados clássicos (números normais) em um estado quântico e ) e depois coloca o ansatz para o modelo conseguir aprender os padrões/pesos das features.\n"
   ]
  },
  {
   "cell_type": "code",
   "execution_count": 12,
   "id": "7f1b68d0",
   "metadata": {},
   "outputs": [],
   "source": [
    "qc = QuantumCircuit(num_qubits)\n",
    "qc.compose(feature_map, inplace=True)\n",
    "qc.compose(ansatz, inplace=True)"
   ]
  },
  {
   "cell_type": "markdown",
   "id": "011baf03",
   "metadata": {},
   "source": [
    "# EstimatorQNN\n",
    "- Transforma o circuito (qc) em uma rede neural quântica treinável.\n",
    "\n",
    "- E permite treinar ela usando PyTorch, igual uma rede neural clássica."
   ]
  },
  {
   "cell_type": "code",
   "execution_count": 13,
   "id": "5b791e32",
   "metadata": {},
   "outputs": [
    {
     "name": "stderr",
     "output_type": "stream",
     "text": [
      "/tmp/ipykernel_9170/3022605767.py:1: DeprecationWarning: V1 Primitives are deprecated as of qiskit-machine-learning 0.8.0 and will be removed no sooner than 4 months after the release date. Use V2 primitives for continued compatibility and support.\n",
      "  qnn = EstimatorQNN(circuit=qc, input_params=feature_map.parameters, weight_params=ansatz.parameters)\n"
     ]
    }
   ],
   "source": [
    "qnn = EstimatorQNN(circuit=qc, input_params=feature_map.parameters, weight_params=ansatz.parameters) \n",
    "model = TorchConnector(qnn)"
   ]
  },
  {
   "cell_type": "markdown",
   "id": "617ab480",
   "metadata": {},
   "source": [
    "# Otimização com PyTorch\n",
    "- X_train_tensor e y_train_tensor → Convertem os dados de treino (X_train e y_train) de NumPy pra tensor do PyTorch, que é o formato que o modelo entende.\n",
    "\n",
    "- optimizer = torch.optim.Adam(...) → Define o otimizador Adam, que ajusta os pesos do modelo pra minimizar o erro.\n",
    "\n",
    "- lr=0.1 → Taxa de aprendizado (velocidade que ele ajusta os pesos com base nos erros, não pode ser muito alto e não muito baixo).\n",
    "\n",
    "- loss_func = torch.nn.BCELoss() → Função de perda para problemas de classificação binária — mede o erro entre a saída do modelo (probabilidade) e o valor real (0 ou 1)."
   ]
  },
  {
   "cell_type": "code",
   "execution_count": 14,
   "id": "67e13ab7",
   "metadata": {},
   "outputs": [],
   "source": [
    "X_train_tensor = torch.tensor(X_train, dtype=torch.float32)\n",
    "y_train_tensor = torch.tensor(y_train, dtype=torch.float32)\n",
    "\n",
    "optimizer = torch.optim.Adam(model.parameters(), lr=0.1)\n",
    "loss_func = torch.nn.BCELoss()"
   ]
  },
  {
   "cell_type": "markdown",
   "id": "2ce3aeeb",
   "metadata": {},
   "source": [
    "# Treinamento\n",
    "- model.train() → Coloca o modelo no modo treino\n",
    "- optimizer.zero_grad() → Zera os gradientes dos cálculos anteriores pra não acumular.\n",
    "- outputs = model(X_train_tensor) →  usa os dados de treino no modelo para fazer uma previsão/estimativa.\n",
    "- loss → calcula o erro\n",
    "- loss.backward() → Calcula os gradientes, ou seja, descobre pra onde e quanto cada peso deve mudar pra reduzir o erro.\n",
    "- optimizer.step() → usa esses gradientes pra mudar os pesos do ansatz. Ele faz isso pra tentar diminuir o erro na próxima vez que roda"
   ]
  },
  {
   "cell_type": "code",
   "execution_count": 15,
   "id": "d156d576",
   "metadata": {},
   "outputs": [],
   "source": [
    "for epoch in range(20):\n",
    "    model.train()\n",
    "    optimizer.zero_grad()\n",
    "    outputs = model(X_train_tensor)\n",
    "    loss = loss_func(torch.sigmoid(outputs.squeeze()), y_train_tensor)\n",
    "    loss.backward()\n",
    "    optimizer.step()"
   ]
  },
  {
   "cell_type": "markdown",
   "id": "61790019",
   "metadata": {},
   "source": [
    "# Avaliação\n",
    "- Primeiro ele, Faz previsão no conjunto de teste, sem atualizar o modelo.\n",
    "- Transforma saída em probabilidade e decide se é classe 0 ou 1.\n",
    "- Prepara os resultados para análise (cálculo das métricas).\n",
    "# Métricas\n",
    "- Acurácia: porcentagem de previsões corretas (tanto verdadeiros positivos quanto verdadeiros negativos).\n",
    "\n",
    "- Precisão: proporção de previsões positivas que estavam corretas (foca em evitar falsos positivos).\n",
    "\n",
    "- Recall: proporção de casos positivos corretamente identificados (foca em evitar falsos negativos)."
   ]
  },
  {
   "cell_type": "code",
   "execution_count": 16,
   "id": "449f5f0e",
   "metadata": {},
   "outputs": [
    {
     "name": "stdout",
     "output_type": "stream",
     "text": [
      "MÉTRICAS:\n",
      "Acurácia: 0.85\n",
      "Precisão: 0.89\n",
      "Recall: 0.80\n",
      "F1: 0.84\n"
     ]
    }
   ],
   "source": [
    "with torch.no_grad():\n",
    "    outputs = model(torch.tensor(X_test, dtype=torch.float32)).squeeze()\n",
    "    y_pred = torch.sigmoid(outputs).round().numpy()\n",
    "\n",
    "accuracy = accuracy_score(y_test, y_pred)\n",
    "precision = precision_score(y_test, y_pred)\n",
    "recall = recall_score(y_test, y_pred)\n",
    "f1 = f1_score(y_test, y_pred)\n",
    "\n",
    "print(\"MÉTRICAS:\")\n",
    "print(f\"Acurácia: {accuracy:.2f}\")\n",
    "print(f\"Precisão: {precision:.2f}\")\n",
    "print(f\"Recall: {recall:.2f}\")\n",
    "print(f\"F1: {f1:.2f}\")"
   ]
  },
  {
   "cell_type": "markdown",
   "id": "dd969493",
   "metadata": {},
   "source": [
    "## Conclusões e próximos passos\n",
    "\n",
    "- O experimento de Blind Quantum Computing foi executado com sucesso.\n",
    "- Próximos passos podem incluir: testar outros datasets, aprimorar o circuito quântico, ou analisar a segurança do protocolo."
   ]
  },
  {
   "cell_type": "code",
   "execution_count": 17,
   "id": "c39fa38e",
   "metadata": {},
   "outputs": [
    {
     "name": "stderr",
     "output_type": "stream",
     "text": [
      "2025-06-30 12:08:46,255: Timeslot 0: Iniciando protocolo Andrew Childs entre Alice 6 e Bob 0.\n",
      "2025-06-30 12:08:46,257: Limpando a memória do cliente (Alice) antes de iniciar o protocolo.\n",
      "2025-06-30 12:08:46,257: Limpando a memória do servidor (Bob) antes de iniciar o protocolo.\n",
      "2025-06-30 12:08:46,258: Cliente criou 4 qubits para a transmissão.\n",
      "2025-06-30 12:08:46,259: Qubit 202 registrado no timeslot 0\n",
      "2025-06-30 12:08:46,259: Qubit 981 registrado no timeslot 0\n",
      "2025-06-30 12:08:46,260: Qubit 594 registrado no timeslot 0\n",
      "2025-06-30 12:08:46,262: Qubit 435 registrado no timeslot 0\n",
      "2025-06-30 12:08:46,262: Qubit 202 criado pelo Cliente - Estado: 0, Fase: 1\n",
      "2025-06-30 12:08:46,265: Qubit 981 criado pelo Cliente - Estado: 0, Fase: 1\n",
      "2025-06-30 12:08:46,265: Qubit 594 criado pelo Cliente - Estado: 0, Fase: 1\n",
      "2025-06-30 12:08:46,266: Qubit 435 criado pelo Cliente - Estado: 0, Fase: 1\n",
      "2025-06-30 12:08:46,266: Alice recebeu 4 qubits. Total: 4 qubits na memória.\n",
      "2025-06-30 12:08:46,267: Instruções clássicas enviadas pelo Cliente: ['Z', 'Z', 'X', 'Y']\n",
      "2025-06-30 12:08:46,267: Timeslot 1: Buscando rota válida entre 6 e 0.\n",
      "2025-06-30 12:08:46,270: Rota válida encontrada: [6, 3, 0]\n",
      "2025-06-30 12:08:46,271: Rota calculada para o transporte: [6, 3, 0]\n",
      "2025-06-30 12:08:46,271: Timeslot 1: Limpando pares EPRs residuais antes de iniciar o protocolo.\n",
      "2025-06-30 12:08:46,272: Pares EPRs limpos no segmento 6 -> 3.\n",
      "2025-06-30 12:08:46,272: Pares EPRs limpos no segmento 3 -> 0.\n",
      "2025-06-30 12:08:46,273: Usando a rota fornecida: [6, 3, 0]\n",
      "2025-06-30 12:08:46,274: Par EPR <quantumnet.objects.epr.Epr object at 0x7790271349e0> adicionado ao canal (6, 3).\n",
      "2025-06-30 12:08:46,274: Par EPR <quantumnet.objects.epr.Epr object at 0x77905831ba10> adicionado ao canal (6, 3).\n",
      "2025-06-30 12:08:46,275: Par EPR <quantumnet.objects.epr.Epr object at 0x778f493c90a0> adicionado ao canal (6, 3).\n",
      "2025-06-30 12:08:46,275: Par EPR <quantumnet.objects.epr.Epr object at 0x778f493c8fb0> adicionado ao canal (6, 3).\n",
      "2025-06-30 12:08:46,276: Par EPR <quantumnet.objects.epr.Epr object at 0x778f493c9040> adicionado ao canal (6, 3).\n",
      "2025-06-30 12:08:46,276: Par EPR <quantumnet.objects.epr.Epr object at 0x778f493c8e60> adicionado ao canal (6, 3).\n",
      "2025-06-30 12:08:46,277: Par EPR <quantumnet.objects.epr.Epr object at 0x778f493c9400> adicionado ao canal (6, 3).\n",
      "2025-06-30 12:08:46,277: Par EPR <quantumnet.objects.epr.Epr object at 0x778f493c8c50> adicionado ao canal (6, 3).\n",
      "2025-06-30 12:08:46,278: Par EPR <quantumnet.objects.epr.Epr object at 0x778f54b30b30> adicionado ao canal (3, 0).\n",
      "2025-06-30 12:08:46,278: Par EPR <quantumnet.objects.epr.Epr object at 0x778f493c9460> adicionado ao canal (3, 0).\n",
      "2025-06-30 12:08:46,279: Par EPR <quantumnet.objects.epr.Epr object at 0x778f49ef4830> adicionado ao canal (3, 0).\n",
      "2025-06-30 12:08:46,280: Par EPR <quantumnet.objects.epr.Epr object at 0x778f4afae540> adicionado ao canal (3, 0).\n",
      "2025-06-30 12:08:46,281: Par EPR <quantumnet.objects.epr.Epr object at 0x778f5488b320> adicionado ao canal (3, 0).\n",
      "2025-06-30 12:08:46,281: Par EPR <quantumnet.objects.epr.Epr object at 0x778f493c8aa0> adicionado ao canal (3, 0).\n",
      "2025-06-30 12:08:46,282: Par EPR <quantumnet.objects.epr.Epr object at 0x778f493c8860> adicionado ao canal (3, 0).\n",
      "2025-06-30 12:08:46,282: Par EPR <quantumnet.objects.epr.Epr object at 0x778f493c8800> adicionado ao canal (3, 0).\n",
      "2025-06-30 12:08:46,283: 8 pares EPRs criados para cada segmento da rota [6, 3, 0].\n",
      "2025-06-30 12:08:46,284: Fidelidade do EPR 6->3: 1.0\n",
      "2025-06-30 12:08:46,284: Fidelidade do EPR 3->0: 1.0\n",
      "2025-06-30 12:08:46,285: Produto das fidelidades para rota [6, 3, 0]: 1.0\n",
      "2025-06-30 12:08:46,285: Fidelidade atual da rota: 1.0\n",
      "2025-06-30 12:08:46,286: Fidelidade final: 1.0000 (F_qubit: 0.9418 * F_rota: 1.0000)\n",
      "2025-06-30 12:08:46,287: Fidelidade do EPR 6->3: 0.999\n",
      "2025-06-30 12:08:46,288: Fidelidade do EPR 3->0: 0.999\n",
      "2025-06-30 12:08:46,288: Produto das fidelidades para rota [6, 3, 0]: 0.998001\n",
      "2025-06-30 12:08:46,289: Fidelidade atual da rota: 0.998001\n",
      "2025-06-30 12:08:46,290: Fidelidade final: 0.9980 (F_qubit: 0.9210 * F_rota: 0.9980)\n",
      "2025-06-30 12:08:46,291: Fidelidade do EPR 6->3: 0.998001\n",
      "2025-06-30 12:08:46,291: Fidelidade do EPR 3->0: 0.998001\n",
      "2025-06-30 12:08:46,292: Produto das fidelidades para rota [6, 3, 0]: 0.996005996001\n",
      "2025-06-30 12:08:46,292: Fidelidade atual da rota: 0.996005996001\n",
      "2025-06-30 12:08:46,293: Fidelidade final: 0.9960 (F_qubit: 0.9926 * F_rota: 0.9960)\n",
      "2025-06-30 12:08:46,293: Fidelidade do EPR 6->3: 0.997002999\n",
      "2025-06-30 12:08:46,294: Fidelidade do EPR 3->0: 0.997002999\n",
      "2025-06-30 12:08:46,294: Produto das fidelidades para rota [6, 3, 0]: 0.994014980014994\n",
      "2025-06-30 12:08:46,295: Fidelidade atual da rota: 0.994014980014994\n",
      "2025-06-30 12:08:46,295: Fidelidade final: 0.9940 (F_qubit: 0.9894 * F_rota: 0.9940)\n",
      "2025-06-30 12:08:46,296: Foram utilizados 8 pares EPRs ao longo da transmissão.\n",
      "2025-06-30 12:08:46,297: Transmissão de 4 qubits entre 6 e 0 concluída com sucesso.\n",
      "2025-06-30 12:08:46,297: Cliente enviou 4 qubits para o Servidor.\n",
      "2025-06-30 12:08:46,299: Servidor tem 4 qubits na memória após a recepção.\n",
      "2025-06-30 12:08:46,299: Timeslot 6: Servidor aplicando operações nos qubits.\n",
      "2025-06-30 12:08:46,300: Timeslot 7: Servidor aplicando operações nos qubits.\n",
      "2025-06-30 12:08:46,301: Servidor aplicou as operações instruídas pelo Cliente nos qubits.\n",
      "2025-06-30 12:08:46,301: Qubit 202 após operações de Servidor - Estado: 0, Fase: 1\n",
      "2025-06-30 12:08:46,302: Qubit 981 após operações de Servidor - Estado: 0, Fase: 1\n",
      "2025-06-30 12:08:46,302: Qubit 594 após operações de Servidor - Estado: 1, Fase: 1\n",
      "2025-06-30 12:08:46,303: Qubit 435 após operações de Servidor - Estado: 1, Fase: -1\n",
      "2025-06-30 12:08:46,303: Limpando a memória do cliente antes de receber os qubits devolvidos.\n",
      "2025-06-30 12:08:46,304: Usando a rota fornecida: [0, 3, 6]\n",
      "2025-06-30 12:08:46,305: Etapa de retorno: consumindo EPRs existentes na rota [0, 3, 6].\n",
      "2025-06-30 12:08:46,306: Fidelidade do EPR 0->3: 0.994014980014994\n",
      "2025-06-30 12:08:46,306: Fidelidade do EPR 3->6: 0.994014980014994\n",
      "2025-06-30 12:08:46,307: Produto das fidelidades para rota [0, 3, 6]: 0.9880657804942089\n",
      "2025-06-30 12:08:46,307: Fidelidade atual da rota: 0.9880657804942089\n",
      "2025-06-30 12:08:46,308: Fidelidade final: 0.9881 (F_qubit: 0.9362 * F_rota: 0.9881)\n",
      "2025-06-30 12:08:46,308: Fidelidade do EPR 0->3: 0.993020965034979\n",
      "2025-06-30 12:08:46,309: Fidelidade do EPR 3->6: 0.993020965034979\n",
      "2025-06-30 12:08:46,309: Produto das fidelidades para rota [0, 3, 6]: 0.9860906369990011\n",
      "2025-06-30 12:08:46,310: Fidelidade atual da rota: 0.9860906369990011\n",
      "2025-06-30 12:08:46,310: Fidelidade final: 0.9861 (F_qubit: 0.9155 * F_rota: 0.9861)\n",
      "2025-06-30 12:08:46,311: Fidelidade do EPR 0->3: 0.9920279440699441\n",
      "2025-06-30 12:08:46,311: Fidelidade do EPR 3->6: 0.9920279440699441\n",
      "2025-06-30 12:08:46,312: Produto das fidelidades para rota [0, 3, 6]: 0.9841194418156402\n",
      "2025-06-30 12:08:46,313: Fidelidade atual da rota: 0.9841194418156402\n",
      "2025-06-30 12:08:46,313: Fidelidade final: 0.9841 (F_qubit: 0.9867 * F_rota: 0.9841)\n",
      "2025-06-30 12:08:46,314: Fidelidade do EPR 0->3: 0.9910359161258742\n",
      "2025-06-30 12:08:46,314: Fidelidade do EPR 3->6: 0.9910359161258742\n",
      "2025-06-30 12:08:46,315: Produto das fidelidades para rota [0, 3, 6]: 0.9821521870514507\n",
      "2025-06-30 12:08:46,315: Fidelidade atual da rota: 0.9821521870514507\n",
      "2025-06-30 12:08:46,316: Fidelidade final: 0.9822 (F_qubit: 0.9835 * F_rota: 0.9822)\n",
      "2025-06-30 12:08:46,318: Foram utilizados 8 pares EPRs ao longo da transmissão.\n",
      "2025-06-30 12:08:46,318: Transmissão de 4 qubits entre 0 e 6 concluída com sucesso.\n",
      "2025-06-30 12:08:46,319: Servidor devolveu 0 qubits para o cliente.\n",
      "2025-06-30 12:08:46,319: Qubit 202 devolvido para o cliente - Estado: 0, Fase: 1\n",
      "2025-06-30 12:08:46,320: Qubit 981 devolvido para o cliente - Estado: 0, Fase: 1\n",
      "2025-06-30 12:08:46,320: Qubit 594 devolvido para o cliente - Estado: 1, Fase: 1\n",
      "2025-06-30 12:08:46,321: Qubit 435 devolvido para o cliente - Estado: 1, Fase: -1\n",
      "2025-06-30 12:08:46,321: Cliente aplicou a decodificação Clifford no qubit 202.\n",
      "2025-06-30 12:08:46,322: Cliente aplicou a decodificação Clifford no qubit 981.\n",
      "2025-06-30 12:08:46,322: Cliente aplicou a decodificação Clifford no qubit 594.\n",
      "2025-06-30 12:08:46,322: Cliente aplicou a decodificação Clifford no qubit 435.\n",
      "2025-06-30 12:08:46,323: Protocolo concluído com sucesso. O cliente tem 4 qubits decodificados.\n"
     ]
    },
    {
     "name": "stdout",
     "output_type": "stream",
     "text": [
      "Circuito do QNN tem profundidade: 2\n",
      "Tempo de Operação: 2\n"
     ]
    },
    {
     "data": {
      "text/plain": [
       "[<quantumnet.objects.qubit.Qubit at 0x778f4a93b230>,\n",
       " <quantumnet.objects.qubit.Qubit at 0x778f548b1880>,\n",
       " <quantumnet.objects.qubit.Qubit at 0x778f548b15b0>,\n",
       " <quantumnet.objects.qubit.Qubit at 0x778f493c9c70>]"
      ]
     },
     "execution_count": 17,
     "metadata": {},
     "output_type": "execute_result"
    }
   ],
   "source": [
    "circuit_depth = qc.depth()\n",
    "\n",
    "print(f\"Circuito do QNN tem profundidade: {circuit_depth}\")\n",
    "\n",
    "rede.application_layer.run_app(\n",
    "    app_name=\"AC_BQC\",\n",
    "    alice_id=6,         \n",
    "    bob_id=0,           \n",
    "    num_qubits=num_qubits,\n",
    "    scenario=1,        \n",
    "    circuit_depth=circuit_depth\n",
    ")"
   ]
  }
 ],
 "metadata": {
  "kernelspec": {
   "display_name": ".venv",
   "language": "python",
   "name": "python3"
  },
  "language_info": {
   "codemirror_mode": {
    "name": "ipython",
    "version": 3
   },
   "file_extension": ".py",
   "mimetype": "text/x-python",
   "name": "python",
   "nbconvert_exporter": "python",
   "pygments_lexer": "ipython3",
   "version": "3.12.1"
  }
 },
 "nbformat": 4,
 "nbformat_minor": 5
}
