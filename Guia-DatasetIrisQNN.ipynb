{
 "cells": [
  {
   "cell_type": "markdown",
   "metadata": {},
   "source": [
    "# IRIS QNN - Blind Quantum Computing\n",
    "\n",
    "Este notebook executa o código de Blind Quantum Computing utilizando Qiskit. O objetivo é demonstrar como rodar experimentos quânticos de forma segura e privada, utilizando um dataset de exemplo (Iris)."
   ]
  },
  {
   "cell_type": "code",
   "execution_count": null,
   "id": "0bef704f",
   "metadata": {},
   "outputs": [
    {
     "name": "stdout",
     "output_type": "stream",
     "text": [
      "Requirement already satisfied: matplotlib in c:\\users\\dreysv\\appdata\\local\\packages\\pythonsoftwarefoundation.python.3.11_qbz5n2kfra8p0\\localcache\\local-packages\\python311\\site-packages (3.10.5)\n",
      "Requirement already satisfied: contourpy>=1.0.1 in c:\\users\\dreysv\\appdata\\local\\packages\\pythonsoftwarefoundation.python.3.11_qbz5n2kfra8p0\\localcache\\local-packages\\python311\\site-packages (from matplotlib) (1.3.3)\n",
      "Requirement already satisfied: cycler>=0.10 in c:\\users\\dreysv\\appdata\\local\\packages\\pythonsoftwarefoundation.python.3.11_qbz5n2kfra8p0\\localcache\\local-packages\\python311\\site-packages (from matplotlib) (0.12.1)\n",
      "Requirement already satisfied: fonttools>=4.22.0 in c:\\users\\dreysv\\appdata\\local\\packages\\pythonsoftwarefoundation.python.3.11_qbz5n2kfra8p0\\localcache\\local-packages\\python311\\site-packages (from matplotlib) (4.59.1)\n",
      "Requirement already satisfied: kiwisolver>=1.3.1 in c:\\users\\dreysv\\appdata\\local\\packages\\pythonsoftwarefoundation.python.3.11_qbz5n2kfra8p0\\localcache\\local-packages\\python311\\site-packages (from matplotlib) (1.4.9)\n",
      "Requirement already satisfied: numpy>=1.23 in c:\\users\\dreysv\\appdata\\local\\packages\\pythonsoftwarefoundation.python.3.11_qbz5n2kfra8p0\\localcache\\local-packages\\python311\\site-packages (from matplotlib) (2.3.2)\n",
      "Requirement already satisfied: packaging>=20.0 in c:\\users\\dreysv\\appdata\\local\\packages\\pythonsoftwarefoundation.python.3.11_qbz5n2kfra8p0\\localcache\\local-packages\\python311\\site-packages (from matplotlib) (25.0)\n",
      "Requirement already satisfied: pillow>=8 in c:\\users\\dreysv\\appdata\\local\\packages\\pythonsoftwarefoundation.python.3.11_qbz5n2kfra8p0\\localcache\\local-packages\\python311\\site-packages (from matplotlib) (11.3.0)\n",
      "Requirement already satisfied: pyparsing>=2.3.1 in c:\\users\\dreysv\\appdata\\local\\packages\\pythonsoftwarefoundation.python.3.11_qbz5n2kfra8p0\\localcache\\local-packages\\python311\\site-packages (from matplotlib) (3.2.3)\n",
      "Requirement already satisfied: python-dateutil>=2.7 in c:\\users\\dreysv\\appdata\\local\\packages\\pythonsoftwarefoundation.python.3.11_qbz5n2kfra8p0\\localcache\\local-packages\\python311\\site-packages (from matplotlib) (2.9.0.post0)\n",
      "Requirement already satisfied: six>=1.5 in c:\\users\\dreysv\\appdata\\local\\packages\\pythonsoftwarefoundation.python.3.11_qbz5n2kfra8p0\\localcache\\local-packages\\python311\\site-packages (from python-dateutil>=2.7->matplotlib) (1.17.0)\n"
     ]
    },
    {
     "name": "stderr",
     "output_type": "stream",
     "text": [
      "\n",
      "[notice] A new release of pip is available: 24.0 -> 25.2\n",
      "[notice] To update, run: C:\\Users\\Dreysv\\AppData\\Local\\Microsoft\\WindowsApps\\PythonSoftwareFoundation.Python.3.11_qbz5n2kfra8p0\\python.exe -m pip install --upgrade pip\n"
     ]
    },
    {
     "name": "stdout",
     "output_type": "stream",
     "text": [
      "Requirement already satisfied: qiskit in c:\\users\\dreysv\\appdata\\local\\packages\\pythonsoftwarefoundation.python.3.11_qbz5n2kfra8p0\\localcache\\local-packages\\python311\\site-packages (1.4.3)\n",
      "Requirement already satisfied: qiskit-machine-learning in c:\\users\\dreysv\\appdata\\local\\packages\\pythonsoftwarefoundation.python.3.11_qbz5n2kfra8p0\\localcache\\local-packages\\python311\\site-packages (0.8.3)\n",
      "Requirement already satisfied: scikit-learn in c:\\users\\dreysv\\appdata\\local\\packages\\pythonsoftwarefoundation.python.3.11_qbz5n2kfra8p0\\localcache\\local-packages\\python311\\site-packages (1.7.1)\n",
      "Requirement already satisfied: torch in c:\\users\\dreysv\\appdata\\local\\packages\\pythonsoftwarefoundation.python.3.11_qbz5n2kfra8p0\\localcache\\local-packages\\python311\\site-packages (2.8.0)\n",
      "Requirement already satisfied: rustworkx>=0.15.0 in c:\\users\\dreysv\\appdata\\local\\packages\\pythonsoftwarefoundation.python.3.11_qbz5n2kfra8p0\\localcache\\local-packages\\python311\\site-packages (from qiskit) (0.17.1)\n",
      "Requirement already satisfied: numpy<3,>=1.17 in c:\\users\\dreysv\\appdata\\local\\packages\\pythonsoftwarefoundation.python.3.11_qbz5n2kfra8p0\\localcache\\local-packages\\python311\\site-packages (from qiskit) (2.3.2)\n",
      "Requirement already satisfied: scipy>=1.5 in c:\\users\\dreysv\\appdata\\local\\packages\\pythonsoftwarefoundation.python.3.11_qbz5n2kfra8p0\\localcache\\local-packages\\python311\\site-packages (from qiskit) (1.16.1)\n",
      "Requirement already satisfied: sympy>=1.3 in c:\\users\\dreysv\\appdata\\local\\packages\\pythonsoftwarefoundation.python.3.11_qbz5n2kfra8p0\\localcache\\local-packages\\python311\\site-packages (from qiskit) (1.14.0)\n",
      "Requirement already satisfied: dill>=0.3 in c:\\users\\dreysv\\appdata\\local\\packages\\pythonsoftwarefoundation.python.3.11_qbz5n2kfra8p0\\localcache\\local-packages\\python311\\site-packages (from qiskit) (0.4.0)\n",
      "Requirement already satisfied: python-dateutil>=2.8.0 in c:\\users\\dreysv\\appdata\\local\\packages\\pythonsoftwarefoundation.python.3.11_qbz5n2kfra8p0\\localcache\\local-packages\\python311\\site-packages (from qiskit) (2.9.0.post0)\n",
      "Requirement already satisfied: stevedore>=3.0.0 in c:\\users\\dreysv\\appdata\\local\\packages\\pythonsoftwarefoundation.python.3.11_qbz5n2kfra8p0\\localcache\\local-packages\\python311\\site-packages (from qiskit) (5.4.1)\n",
      "Requirement already satisfied: typing-extensions in c:\\users\\dreysv\\appdata\\local\\packages\\pythonsoftwarefoundation.python.3.11_qbz5n2kfra8p0\\localcache\\local-packages\\python311\\site-packages (from qiskit) (4.14.1)\n",
      "Requirement already satisfied: symengine<0.14,>=0.11 in c:\\users\\dreysv\\appdata\\local\\packages\\pythonsoftwarefoundation.python.3.11_qbz5n2kfra8p0\\localcache\\local-packages\\python311\\site-packages (from qiskit) (0.13.0)\n",
      "Requirement already satisfied: setuptools>=40.1 in c:\\program files\\windowsapps\\pythonsoftwarefoundation.python.3.11_3.11.2544.0_x64__qbz5n2kfra8p0\\lib\\site-packages (from qiskit-machine-learning) (65.5.0)\n",
      "Requirement already satisfied: joblib>=1.2.0 in c:\\users\\dreysv\\appdata\\local\\packages\\pythonsoftwarefoundation.python.3.11_qbz5n2kfra8p0\\localcache\\local-packages\\python311\\site-packages (from scikit-learn) (1.5.1)\n",
      "Requirement already satisfied: threadpoolctl>=3.1.0 in c:\\users\\dreysv\\appdata\\local\\packages\\pythonsoftwarefoundation.python.3.11_qbz5n2kfra8p0\\localcache\\local-packages\\python311\\site-packages (from scikit-learn) (3.6.0)\n",
      "Requirement already satisfied: filelock in c:\\users\\dreysv\\appdata\\local\\packages\\pythonsoftwarefoundation.python.3.11_qbz5n2kfra8p0\\localcache\\local-packages\\python311\\site-packages (from torch) (3.19.1)\n",
      "Requirement already satisfied: networkx in c:\\users\\dreysv\\appdata\\local\\packages\\pythonsoftwarefoundation.python.3.11_qbz5n2kfra8p0\\localcache\\local-packages\\python311\\site-packages (from torch) (3.5)\n",
      "Requirement already satisfied: jinja2 in c:\\users\\dreysv\\appdata\\local\\packages\\pythonsoftwarefoundation.python.3.11_qbz5n2kfra8p0\\localcache\\local-packages\\python311\\site-packages (from torch) (3.1.6)\n",
      "Requirement already satisfied: fsspec in c:\\users\\dreysv\\appdata\\local\\packages\\pythonsoftwarefoundation.python.3.11_qbz5n2kfra8p0\\localcache\\local-packages\\python311\\site-packages (from torch) (2025.7.0)\n",
      "Requirement already satisfied: six>=1.5 in c:\\users\\dreysv\\appdata\\local\\packages\\pythonsoftwarefoundation.python.3.11_qbz5n2kfra8p0\\localcache\\local-packages\\python311\\site-packages (from python-dateutil>=2.8.0->qiskit) (1.17.0)\n",
      "Requirement already satisfied: pbr>=2.0.0 in c:\\users\\dreysv\\appdata\\local\\packages\\pythonsoftwarefoundation.python.3.11_qbz5n2kfra8p0\\localcache\\local-packages\\python311\\site-packages (from stevedore>=3.0.0->qiskit) (7.0.0)\n",
      "Requirement already satisfied: mpmath<1.4,>=1.1.0 in c:\\users\\dreysv\\appdata\\local\\packages\\pythonsoftwarefoundation.python.3.11_qbz5n2kfra8p0\\localcache\\local-packages\\python311\\site-packages (from sympy>=1.3->qiskit) (1.3.0)\n",
      "Requirement already satisfied: MarkupSafe>=2.0 in c:\\users\\dreysv\\appdata\\local\\packages\\pythonsoftwarefoundation.python.3.11_qbz5n2kfra8p0\\localcache\\local-packages\\python311\\site-packages (from jinja2->torch) (3.0.2)\n"
     ]
    },
    {
     "name": "stderr",
     "output_type": "stream",
     "text": [
      "\n",
      "[notice] A new release of pip is available: 24.0 -> 25.2\n",
      "[notice] To update, run: C:\\Users\\Dreysv\\AppData\\Local\\Microsoft\\WindowsApps\\PythonSoftwareFoundation.Python.3.11_qbz5n2kfra8p0\\python.exe -m pip install --upgrade pip\n"
     ]
    }
   ],
   "source": [
    "# INSTALE AS DEPEDÊNCIAS\n",
    "!pip install matplotlib qiskit qiskit-machine-learning scikit-learn torch"
   ]
  },
  {
   "cell_type": "code",
   "execution_count": 7,
   "id": "e258a9d5",
   "metadata": {},
   "outputs": [],
   "source": [
    "# instalar as bibliotecas necessárias\n",
    "\n",
    "from qiskit import QuantumCircuit\n",
    "from qiskit.circuit.library import ZZFeatureMap, RealAmplitudes\n",
    "from qiskit.primitives import Estimator\n",
    "from qiskit_machine_learning.neural_networks import EstimatorQNN\n",
    "from qiskit_machine_learning.connectors import TorchConnector\n",
    "from sklearn.model_selection import train_test_split\n",
    "from sklearn.preprocessing import MinMaxScaler\n",
    "from sklearn.datasets import load_iris\n",
    "from sklearn.metrics import accuracy_score, precision_score, recall_score, f1_score\n",
    "import torch\n",
    "import numpy as np\n",
    "import random\n",
    "import matplotlib.pyplot as plt\n",
    "import collections\n",
    "from quantumnet.components import Network, Logger\n",
    "from qiskit_aer import AerSimulator\n",
    "from qiskit_aer.noise import NoiseModel, depolarizing_error"
   ]
  },
  {
   "cell_type": "markdown",
   "id": "61ef7192",
   "metadata": {},
   "source": [
    "# Controle de Aleatoriedade e Reprodutibilidade\n",
    "O trecho abaixo define uma semente fixa (SEED = 42) e a aplica nas bibliotecas random, numpy e torch. Isso garante que os resultados aleatórios (como inicialização de pesos e embaralhamento de dados) sejam os mesmos a cada execução do código, o que é essencial para fins de reprodutibilidade. \n",
    "\n",
    "Além disso, o uso de torch.use_deterministic_algorithms(True) força o PyTorch a utilizar apenas algoritmos determinísticos, evitando variações internas e tornando os experimentos mais consistentes e confiáveis."
   ]
  },
  {
   "cell_type": "code",
   "execution_count": 8,
   "id": "c7874f20",
   "metadata": {},
   "outputs": [],
   "source": [
    "SEED = 42\n",
    "random.seed(SEED)\n",
    "np.random.seed(SEED)\n",
    "torch.manual_seed(SEED)\n",
    "torch.cuda.manual_seed_all(SEED)\n",
    "\n",
    "torch.use_deterministic_algorithms(True)"
   ]
  },
  {
   "cell_type": "markdown",
   "id": "f346e9e1",
   "metadata": {},
   "source": [
    "# Inicializar a rede"
   ]
  },
  {
   "cell_type": "code",
   "execution_count": 9,
   "metadata": {},
   "outputs": [
    {
     "name": "stderr",
     "output_type": "stream",
     "text": [
      "2025-08-15 16:10:11,108: Host 0 inicializado com 0 qubits.\n",
      "2025-08-15 16:10:11,109: Host 1 inicializado com 0 qubits.\n",
      "2025-08-15 16:10:11,110: Host 2 inicializado com 0 qubits.\n",
      "2025-08-15 16:10:11,111: Host 3 inicializado com 0 qubits.\n",
      "2025-08-15 16:10:11,112: Host 4 inicializado com 0 qubits.\n",
      "2025-08-15 16:10:11,113: Host 5 inicializado com 0 qubits.\n",
      "2025-08-15 16:10:11,113: Host 6 inicializado com 0 qubits.\n",
      "2025-08-15 16:10:11,114: Host 7 inicializado com 0 qubits.\n",
      "2025-08-15 16:10:11,115: Host 8 inicializado com 0 qubits.\n",
      "2025-08-15 16:10:11,116: Par EPR <quantumnet.objects.epr.Epr object at 0x000002E97E711F10> adicionado ao canal.\n",
      "2025-08-15 16:10:11,116: Par EPR <quantumnet.objects.epr.Epr object at 0x000002E97F307AD0> adicionado ao canal.\n",
      "2025-08-15 16:10:11,117: Par EPR <quantumnet.objects.epr.Epr object at 0x000002E97F3825D0> adicionado ao canal.\n",
      "2025-08-15 16:10:11,118: Par EPR <quantumnet.objects.epr.Epr object at 0x000002E97F3824D0> adicionado ao canal.\n",
      "2025-08-15 16:10:11,118: Par EPR <quantumnet.objects.epr.Epr object at 0x000002E97F382950> adicionado ao canal.\n",
      "2025-08-15 16:10:11,119: Par EPR <quantumnet.objects.epr.Epr object at 0x000002E97F382A50> adicionado ao canal.\n",
      "2025-08-15 16:10:11,120: Par EPR <quantumnet.objects.epr.Epr object at 0x000002E97F381C50> adicionado ao canal.\n",
      "2025-08-15 16:10:11,120: Par EPR <quantumnet.objects.epr.Epr object at 0x000002E97F30BA90> adicionado ao canal.\n",
      "2025-08-15 16:10:11,121: Par EPR <quantumnet.objects.epr.Epr object at 0x000002E97F309E10> adicionado ao canal.\n",
      "2025-08-15 16:10:11,122: Par EPR <quantumnet.objects.epr.Epr object at 0x000002E97F309E50> adicionado ao canal.\n",
      "2025-08-15 16:10:11,122: Par EPR <quantumnet.objects.epr.Epr object at 0x000002E97F3837D0> adicionado ao canal.\n",
      "2025-08-15 16:10:11,123: Par EPR <quantumnet.objects.epr.Epr object at 0x000002E97565BA50> adicionado ao canal.\n",
      "2025-08-15 16:10:11,124: Par EPR <quantumnet.objects.epr.Epr object at 0x000002E97F309110> adicionado ao canal.\n",
      "2025-08-15 16:10:11,124: Par EPR <quantumnet.objects.epr.Epr object at 0x000002E97F380190> adicionado ao canal.\n",
      "2025-08-15 16:10:11,125: Par EPR <quantumnet.objects.epr.Epr object at 0x000002E97F30BCD0> adicionado ao canal.\n",
      "2025-08-15 16:10:11,126: Par EPR <quantumnet.objects.epr.Epr object at 0x000002E9756608D0> adicionado ao canal.\n",
      "2025-08-15 16:10:11,126: Par EPR <quantumnet.objects.epr.Epr object at 0x000002E97E6BA550> adicionado ao canal.\n",
      "2025-08-15 16:10:11,127: Par EPR <quantumnet.objects.epr.Epr object at 0x000002E97F381810> adicionado ao canal.\n",
      "2025-08-15 16:10:11,131: Par EPR <quantumnet.objects.epr.Epr object at 0x000002E97F30B710> adicionado ao canal.\n",
      "2025-08-15 16:10:11,132: Par EPR <quantumnet.objects.epr.Epr object at 0x000002E97E6EBF50> adicionado ao canal.\n",
      "2025-08-15 16:10:11,133: Par EPR <quantumnet.objects.epr.Epr object at 0x000002E97F308F10> adicionado ao canal.\n",
      "2025-08-15 16:10:11,133: Par EPR <quantumnet.objects.epr.Epr object at 0x000002E97F308490> adicionado ao canal.\n",
      "2025-08-15 16:10:11,134: Par EPR <quantumnet.objects.epr.Epr object at 0x000002E97F369E90> adicionado ao canal.\n",
      "2025-08-15 16:10:11,136: Par EPR <quantumnet.objects.epr.Epr object at 0x000002E97F3068D0> adicionado ao canal.\n"
     ]
    },
    {
     "name": "stdout",
     "output_type": "stream",
     "text": [
      "Hosts inicializados\n",
      "Canais inicializados\n",
      "Pares EPRs adicionados\n"
     ]
    },
    {
     "data": {
      "image/png": "[encoded data removed]",
      "text/plain": [
       "<Figure size 640x480 with 1 Axes>"
      ]
     },
     "metadata": {},
     "output_type": "display_data"
    }
   ],
   "source": [
    "rede = Network()\n",
    "rede.set_ready_topology('grade',8,3,3) \n",
    "rede.draw()\n",
    "Logger.activate(Logger)"
   ]
  },
  {
   "cell_type": "markdown",
   "id": "1b433ee2",
   "metadata": {},
   "source": [
    "# Backend com Ruído"
   ]
  },
  {
   "cell_type": "code",
   "execution_count": 10,
   "id": "91949400",
   "metadata": {},
   "outputs": [
    {
     "name": "stderr",
     "output_type": "stream",
     "text": [
      "C:\\Users\\Dreysv\\AppData\\Local\\Temp\\ipykernel_1504\\1609314416.py:13: DeprecationWarning: The class ``qiskit.primitives.estimator.Estimator`` is deprecated as of qiskit 1.2. It will be removed no earlier than 3 months after the release date. All implementations of the `BaseEstimatorV1` interface have been deprecated in favor of their V2 counterparts. The V2 alternative for the `Estimator` class is `StatevectorEstimator`.\n",
      "  estimator = Estimator(options={\n"
     ]
    }
   ],
   "source": [
    "noise_model = NoiseModel()\n",
    "error_1q = depolarizing_error(0.01, 1)  # 1% de erro para portas de 1 qubit\n",
    "error_2q = depolarizing_error(0.02, 2)  # 2% de erro para portas de 2 qubits\n",
    "\n",
    "noise_model.add_all_qubit_quantum_error(error_1q, ['h', 'x', 'y', 'z', 'rx', 'ry', 'rz'])\n",
    "noise_model.add_all_qubit_quantum_error(error_2q, ['cx'])\n",
    "\n",
    "simulator = AerSimulator(\n",
    "    noise_model=noise_model,\n",
    "    shots=1024\n",
    ")\n",
    "\n",
    "estimator = Estimator(options={\n",
    "    \"backend\": simulator,\n",
    "    \"resilience_level\": 1,\n",
    "    \"approximation\": True\n",
    "})"
   ]
  },
  {
   "cell_type": "markdown",
   "id": "7053bbdb",
   "metadata": {},
   "source": [
    "# Carrega o conjunto de dados Iris\n",
    "- X → dados (características/features) \n",
    "- y → rótulos (classes/labels)"
   ]
  },
  {
   "cell_type": "code",
   "execution_count": 11,
   "id": "cf2f77c5",
   "metadata": {},
   "outputs": [],
   "source": [
    "iris = load_iris()\n",
    "X = iris.data \n",
    "y = iris.target"
   ]
  },
  {
   "cell_type": "markdown",
   "id": "031feca8",
   "metadata": {},
   "source": [
    "# Reduz para duas classes (binário)\n",
    "- o QNN padrão trabalha com 0/1\n",
    "\n",
    "- Por isso, o conjunto Iris foi reduzido para apenas 2 classes, ou seja, só foram usados os exemplos das flores das espécies setosa e versicolor, excluindo a terceira (virginica).\n",
    "- Porém, as características (ou variáveis de entrada) — como comprimento e largura da sépala e da pétala — foram mantidas.\n",
    "- Isso significa que só simplificamos as saídas (as classes), mas não mexemos nas entradas.\n",
    "\n",
    "- Essa decisão foi feita para simplificar o código e permitir um foco mais direto no funcionamento do QML (Quantum Machine Learning) com redes neurais quânticas.\n",
    "- Embora seja possível adaptar o QNN para problemas multiclasse, isso exigiria um código mais avançado "
   ]
  },
  {
   "cell_type": "code",
   "execution_count": 12,
   "id": "ac2e83e1",
   "metadata": {},
   "outputs": [],
   "source": [
    "X = X[y != 2]\n",
    "y = y[y != 2]"
   ]
  },
  {
   "cell_type": "markdown",
   "id": "8e242a67",
   "metadata": {},
   "source": [
    "# Divide os dados \n",
    "80% treino e 20% teste\n",
    "\n",
    "- test_size -> define que 20% dos dados serão usados para teste (logo, 80% vão para treino)\n",
    "- random_state -> os dados são embaralhados aleatoriamente antes de dividir em treino e teste.\n",
    "- stratify -> mantém a mesma proporção de cada classe nos conjuntos de treino e teste (boa prática em classificações)"
   ]
  },
  {
   "cell_type": "code",
   "execution_count": 13,
   "id": "2897adcd",
   "metadata": {},
   "outputs": [
    {
     "name": "stdout",
     "output_type": "stream",
     "text": [
      "Distribuição das classes no y_train e y_test:\n",
      "Treino: Counter({np.int64(0): 40, np.int64(1): 40})\n",
      "Teste: Counter({np.int64(1): 10, np.int64(0): 10})\n"
     ]
    }
   ],
   "source": [
    "X_train, X_test, y_train, y_test = train_test_split(\n",
    "    X, y, test_size=0.2, random_state=SEED, stratify=y\n",
    ")\n",
    "\n",
    "print(\"Distribuição das classes no y_train e y_test:\")\n",
    "print(\"Treino:\", collections.Counter(y_train))\n",
    "print(\"Teste:\", collections.Counter(y_test))"
   ]
  },
  {
   "cell_type": "markdown",
   "id": "08049260",
   "metadata": {},
   "source": [
    "# Normaliza os dados\n",
    "- Normalizar = colocar tudo na mesma escala (de 0 a 1).\n",
    "- Isso ajuda o modelo a aprender melhor e evita que uma variável \"grite\" mais que as outras.\n",
    "- ex: Se uma variável vai de 0 a 1000 e outra vai de 0 a 1, a maior domina o aprendizado"
   ]
  },
  {
   "cell_type": "code",
   "execution_count": 14,
   "id": "e0c07bf4",
   "metadata": {},
   "outputs": [],
   "source": [
    "scaler = MinMaxScaler()\n",
    "X_train = scaler.fit_transform(X_train)\n",
    "X_test = scaler.transform(X_test)"
   ]
  },
  {
   "cell_type": "markdown",
   "id": "5c9c481d",
   "metadata": {},
   "source": [
    "# Define número de qubits\n",
    "- Se o conjunto de dados tem 4 features (ex: comprimento da pétala, largura da pétala etc),\n",
    "- então são necessários 4 qubits para representar e processar cada uma dessas features no circuito quântico."
   ]
  },
  {
   "cell_type": "code",
   "execution_count": 15,
   "id": "7c334bdf",
   "metadata": {},
   "outputs": [],
   "source": [
    "num_qubits = X_train.shape[1]"
   ]
  },
  {
   "cell_type": "markdown",
   "id": "9e029039",
   "metadata": {},
   "source": [
    "# Feature map e ansatz\n",
    "- Feature Map → insere as features no circuito quântico\n",
    "- RealAmplitudes → um tipo específico de ansatz do Qiskit, onde ele monta um circuito que trabalha com rotações e entrelaçamento. Isso faz com que ele consiga representar padrões/pesos diferentes nas features. \"onde tem peso para aprender\"\n",
    "\n",
    "- Quantos mais os números de reps crescer mais a chance de overfitting (treinar de uma forma errada)"
   ]
  },
  {
   "cell_type": "code",
   "execution_count": 16,
   "id": "ed8b1169",
   "metadata": {},
   "outputs": [],
   "source": [
    "feature_map = ZZFeatureMap(feature_dimension=num_qubits)\n",
    "ansatz = RealAmplitudes(num_qubits, reps=1)"
   ]
  },
  {
   "cell_type": "markdown",
   "id": "208560c7",
   "metadata": {},
   "source": [
    "# Cria o circuito\n",
    "- etapa que cria um circuito quântico vazio, transforma os dados clássicos (números normais) em um estado quântico e ) e depois coloca o ansatz para o modelo conseguir aprender os padrões/pesos das features.\n"
   ]
  },
  {
   "cell_type": "code",
   "execution_count": 17,
   "id": "7f1b68d0",
   "metadata": {},
   "outputs": [],
   "source": [
    "qc = QuantumCircuit(num_qubits)\n",
    "qc.compose(feature_map, inplace=True)\n",
    "qc.compose(ansatz, inplace=True)"
   ]
  },
  {
   "cell_type": "markdown",
   "id": "011baf03",
   "metadata": {},
   "source": [
    "# EstimatorQNN\n",
    "- Transforma o circuito (qc) em uma rede neural quântica treinável.\n",
    "\n",
    "- E permite treinar ela usando PyTorch, igual uma rede neural clássica."
   ]
  },
  {
   "cell_type": "code",
   "execution_count": 18,
   "id": "5b791e32",
   "metadata": {},
   "outputs": [
    {
     "name": "stderr",
     "output_type": "stream",
     "text": [
      "C:\\Users\\Dreysv\\AppData\\Local\\Temp\\ipykernel_1504\\2150709190.py:1: DeprecationWarning: V1 Primitives are deprecated as of qiskit-machine-learning 0.8.0 and will be removed no sooner than 4 months after the release date. Use V2 primitives for continued compatibility and support.\n",
      "  qnn = EstimatorQNN(circuit=qc, input_params=feature_map.parameters, weight_params=ansatz.parameters, estimator=estimator)\n"
     ]
    }
   ],
   "source": [
    "qnn = EstimatorQNN(circuit=qc, input_params=feature_map.parameters, weight_params=ansatz.parameters, estimator=estimator) \n",
    "model = TorchConnector(qnn)"
   ]
  },
  {
   "cell_type": "markdown",
   "id": "617ab480",
   "metadata": {},
   "source": [
    "# Otimização com PyTorch\n",
    "- X_train_tensor e y_train_tensor → Convertem os dados de treino (X_train e y_train) de NumPy pra tensor do PyTorch, que é o formato que o modelo entende.\n",
    "\n",
    "- optimizer = torch.optim.Adam(...) → Define o otimizador Adam, que ajusta os pesos do modelo pra minimizar o erro.\n",
    "\n",
    "- lr=0.1 → Taxa de aprendizado (velocidade que ele ajusta os pesos com base nos erros, não pode ser muito alto e não muito baixo).\n",
    "\n",
    "- loss_func = torch.nn.BCELoss() → Função de perda para problemas de classificação binária — mede o erro entre a saída do modelo (probabilidade) e o valor real (0 ou 1)."
   ]
  },
  {
   "cell_type": "code",
   "execution_count": 19,
   "id": "67e13ab7",
   "metadata": {},
   "outputs": [],
   "source": [
    "X_train_tensor = torch.tensor(X_train, dtype=torch.float32)\n",
    "y_train_tensor = torch.tensor(y_train, dtype=torch.float32)\n",
    "\n",
    "optimizer = torch.optim.Adam(model.parameters(), lr=0.1)\n",
    "loss_func = torch.nn.BCELoss()"
   ]
  },
  {
   "cell_type": "markdown",
   "id": "2ce3aeeb",
   "metadata": {},
   "source": [
    "# Treinamento\n",
    "- model.train() → Coloca o modelo no modo treino\n",
    "- optimizer.zero_grad() → Zera os gradientes dos cálculos anteriores pra não acumular.\n",
    "- outputs = model(X_train_tensor) →  usa os dados de treino no modelo para fazer uma previsão/estimativa.\n",
    "- loss → calcula o erro\n",
    "- loss.backward() → Calcula os gradientes, ou seja, descobre pra onde e quanto cada peso deve mudar pra reduzir o erro.\n",
    "- optimizer.step() → usa esses gradientes pra mudar os pesos do ansatz. Ele faz isso pra tentar diminuir o erro na próxima vez que roda"
   ]
  },
  {
   "cell_type": "code",
   "execution_count": 20,
   "id": "d156d576",
   "metadata": {},
   "outputs": [
    {
     "name": "stderr",
     "output_type": "stream",
     "text": [
      "2025-08-15 16:10:18,579: Timeslot 0: Iniciando protocolo Andrew Childs entre Alice 6 e Bob 0.\n",
      "2025-08-15 16:10:18,580: Limpando a memória do cliente (Alice) antes de iniciar o protocolo.\n",
      "2025-08-15 16:10:18,580: Limpando a memória do servidor (Bob) antes de iniciar o protocolo.\n",
      "2025-08-15 16:10:18,580: Cliente criou 4 qubits para a transmissão.\n",
      "2025-08-15 16:10:18,581: Qubit 344 registrado no timeslot 0\n",
      "2025-08-15 16:10:18,581: Qubit 389 registrado no timeslot 0\n",
      "2025-08-15 16:10:18,581: Qubit 867 registrado no timeslot 0\n",
      "2025-08-15 16:10:18,582: Qubit 270 registrado no timeslot 0\n",
      "2025-08-15 16:10:18,582: Qubit 344 criado pelo Cliente - Estado: 0, Fase: 1\n",
      "2025-08-15 16:10:18,583: Qubit 389 criado pelo Cliente - Estado: 0, Fase: 1\n",
      "2025-08-15 16:10:18,583: Qubit 867 criado pelo Cliente - Estado: 0, Fase: 1\n",
      "2025-08-15 16:10:18,583: Qubit 270 criado pelo Cliente - Estado: 0, Fase: 1\n",
      "2025-08-15 16:10:18,584: Alice recebeu 4 qubits. Total: 4 qubits na memória.\n",
      "2025-08-15 16:10:18,584: Instruções clássicas enviadas pelo Cliente: ['Z', 'Y', 'Z', 'X']\n",
      "2025-08-15 16:10:18,584: Timeslot 1: Buscando rota válida entre 6 e 0.\n",
      "2025-08-15 16:10:18,585: Rota válida encontrada: [6, 3, 0]\n",
      "2025-08-15 16:10:18,586: Rota calculada para o transporte: [6, 3, 0]\n",
      "2025-08-15 16:10:18,586: Timeslot 1: Limpando pares EPRs residuais antes de iniciar o protocolo.\n",
      "2025-08-15 16:10:18,586: Pares EPRs limpos no segmento 6 -> 3.\n",
      "2025-08-15 16:10:18,587: Pares EPRs limpos no segmento 3 -> 0.\n",
      "2025-08-15 16:10:18,587: Usando a rota fornecida: [6, 3, 0]\n",
      "2025-08-15 16:10:18,587: Ida: Criando 4 pares EPRs no segmento 6 -> 3.\n",
      "2025-08-15 16:10:18,588: Par EPR <quantumnet.objects.epr.Epr object at 0x000002E97F307AD0> adicionado ao canal (6, 3).\n",
      "2025-08-15 16:10:18,588: Par EPR <quantumnet.objects.epr.Epr object at 0x000002E97E711F10> adicionado ao canal (6, 3).\n",
      "2025-08-15 16:10:18,589: Par EPR <quantumnet.objects.epr.Epr object at 0x000002E97F3837D0> adicionado ao canal (6, 3).\n",
      "2025-08-15 16:10:18,589: Par EPR <quantumnet.objects.epr.Epr object at 0x000002E912F9CBD0> adicionado ao canal (6, 3).\n",
      "2025-08-15 16:10:18,589: Ida: Criando 4 pares EPRs no segmento 3 -> 0.\n",
      "2025-08-15 16:10:18,590: Par EPR <quantumnet.objects.epr.Epr object at 0x000002E912F9E290> adicionado ao canal (3, 0).\n",
      "2025-08-15 16:10:18,590: Par EPR <quantumnet.objects.epr.Epr object at 0x000002E912F9D210> adicionado ao canal (3, 0).\n",
      "2025-08-15 16:10:18,590: Par EPR <quantumnet.objects.epr.Epr object at 0x000002E912F9D490> adicionado ao canal (3, 0).\n",
      "2025-08-15 16:10:18,592: Par EPR <quantumnet.objects.epr.Epr object at 0x000002E912F9E2D0> adicionado ao canal (3, 0).\n",
      "2025-08-15 16:10:18,592: Fidelidade do EPR 6->3: 1.0\n",
      "2025-08-15 16:10:18,597: Fidelidade do EPR 3->0: 1.0\n",
      "2025-08-15 16:10:18,598: Produto das fidelidades para rota [6, 3, 0]: 1.0\n",
      "2025-08-15 16:10:18,599: Fidelidade atual da rota: 1.0\n",
      "2025-08-15 16:10:18,601: Fidelidade final: 1.0000 (F_qubit: 0.9084 * F_rota: 1.0000)\n",
      "2025-08-15 16:10:18,602: Fidelidade do EPR 6->3: 0.999\n",
      "2025-08-15 16:10:18,603: Fidelidade do EPR 3->0: 0.999\n",
      "2025-08-15 16:10:18,604: Produto das fidelidades para rota [6, 3, 0]: 0.998001\n",
      "2025-08-15 16:10:18,606: Fidelidade atual da rota: 0.998001\n",
      "2025-08-15 16:10:18,607: Fidelidade final: 0.9980 (F_qubit: 0.9069 * F_rota: 0.9980)\n",
      "2025-08-15 16:10:18,607: Fidelidade do EPR 6->3: 0.998001\n",
      "2025-08-15 16:10:18,607: Fidelidade do EPR 3->0: 0.998001\n",
      "2025-08-15 16:10:18,608: Produto das fidelidades para rota [6, 3, 0]: 0.996005996001\n",
      "2025-08-15 16:10:18,609: Fidelidade atual da rota: 0.996005996001\n",
      "2025-08-15 16:10:18,610: Fidelidade final: 0.9960 (F_qubit: 0.9307 * F_rota: 0.9960)\n",
      "2025-08-15 16:10:18,612: Fidelidade do EPR 6->3: 0.997002999\n",
      "2025-08-15 16:10:18,613: Fidelidade do EPR 3->0: 0.997002999\n",
      "2025-08-15 16:10:18,614: Produto das fidelidades para rota [6, 3, 0]: 0.994014980014994\n",
      "2025-08-15 16:10:18,614: Fidelidade atual da rota: 0.994014980014994\n",
      "2025-08-15 16:10:18,615: Fidelidade final: 0.9940 (F_qubit: 0.9758 * F_rota: 0.9940)\n",
      "2025-08-15 16:10:18,616: Foram utilizados 8 pares EPRs ao longo da transmissão.\n",
      "2025-08-15 16:10:18,617: Transmissão de 4 qubits entre 6 e 0 concluída com sucesso.\n",
      "2025-08-15 16:10:18,618: Cliente enviou 4 qubits para o Servidor.\n",
      "2025-08-15 16:10:18,619: Servidor tem 4 qubits na memória após a recepção.\n",
      "2025-08-15 16:10:18,620: Timeslot 6: Servidor aplicando operações nos qubits.\n",
      "2025-08-15 16:10:18,620: Timeslot 7: Servidor aplicando operações nos qubits.\n",
      "2025-08-15 16:10:18,621: Servidor aplicou as operações instruídas pelo Cliente nos qubits.\n",
      "2025-08-15 16:10:18,621: Qubit 344 após operações de Servidor - Estado: 0, Fase: 1\n",
      "2025-08-15 16:10:18,622: Qubit 389 após operações de Servidor - Estado: 1, Fase: -1\n",
      "2025-08-15 16:10:18,622: Qubit 867 após operações de Servidor - Estado: 0, Fase: 1\n",
      "2025-08-15 16:10:18,622: Qubit 270 após operações de Servidor - Estado: 1, Fase: 1\n",
      "2025-08-15 16:10:18,623: Limpando a memória do cliente antes de receber os qubits devolvidos.\n",
      "2025-08-15 16:10:18,623: Usando a rota fornecida: [0, 3, 6]\n",
      "2025-08-15 16:10:18,623: Volta: Criando 4 pares EPRs no segmento 0 -> 3.\n",
      "2025-08-15 16:10:18,624: Par EPR <quantumnet.objects.epr.Epr object at 0x000002E912F99AD0> adicionado ao canal (0, 3).\n",
      "2025-08-15 16:10:18,624: Par EPR <quantumnet.objects.epr.Epr object at 0x000002E912F9D950> adicionado ao canal (0, 3).\n",
      "2025-08-15 16:10:18,624: Par EPR <quantumnet.objects.epr.Epr object at 0x000002E91314E450> adicionado ao canal (0, 3).\n",
      "2025-08-15 16:10:18,625: Par EPR <quantumnet.objects.epr.Epr object at 0x000002E91312F490> adicionado ao canal (0, 3).\n",
      "2025-08-15 16:10:18,625: Volta: Criando 4 pares EPRs no segmento 3 -> 6.\n",
      "2025-08-15 16:10:18,626: Par EPR <quantumnet.objects.epr.Epr object at 0x000002E912F9D990> adicionado ao canal (3, 6).\n",
      "2025-08-15 16:10:18,626: Par EPR <quantumnet.objects.epr.Epr object at 0x000002E912F9EB90> adicionado ao canal (3, 6).\n",
      "2025-08-15 16:10:18,633: Par EPR <quantumnet.objects.epr.Epr object at 0x000002E913143050> adicionado ao canal (3, 6).\n",
      "2025-08-15 16:10:18,633: Par EPR <quantumnet.objects.epr.Epr object at 0x000002E912F9E4D0> adicionado ao canal (3, 6).\n",
      "2025-08-15 16:10:18,634: Fidelidade do EPR 0->3: 1.0\n",
      "2025-08-15 16:10:18,635: Fidelidade do EPR 3->6: 1.0\n",
      "2025-08-15 16:10:18,636: Produto das fidelidades para rota [0, 3, 6]: 1.0\n",
      "2025-08-15 16:10:18,636: Fidelidade atual da rota: 1.0\n",
      "2025-08-15 16:10:18,637: Fidelidade final: 1.0000 (F_qubit: 0.9030 * F_rota: 1.0000)\n",
      "2025-08-15 16:10:18,637: Fidelidade do EPR 0->3: 0.999\n",
      "2025-08-15 16:10:18,637: Fidelidade do EPR 3->6: 0.999\n",
      "2025-08-15 16:10:18,639: Produto das fidelidades para rota [0, 3, 6]: 0.998001\n",
      "2025-08-15 16:10:18,640: Fidelidade atual da rota: 0.998001\n",
      "2025-08-15 16:10:18,640: Fidelidade final: 0.9980 (F_qubit: 0.9015 * F_rota: 0.9980)\n",
      "2025-08-15 16:10:18,641: Fidelidade do EPR 0->3: 0.998001\n",
      "2025-08-15 16:10:18,641: Fidelidade do EPR 3->6: 0.998001\n",
      "2025-08-15 16:10:18,642: Produto das fidelidades para rota [0, 3, 6]: 0.996005996001\n",
      "2025-08-15 16:10:18,642: Fidelidade atual da rota: 0.996005996001\n",
      "2025-08-15 16:10:18,642: Fidelidade final: 0.9960 (F_qubit: 0.9251 * F_rota: 0.9960)\n",
      "2025-08-15 16:10:18,644: Fidelidade do EPR 0->3: 0.997002999\n",
      "2025-08-15 16:10:18,645: Fidelidade do EPR 3->6: 0.997002999\n",
      "2025-08-15 16:10:18,646: Produto das fidelidades para rota [0, 3, 6]: 0.994014980014994\n",
      "2025-08-15 16:10:18,648: Fidelidade atual da rota: 0.994014980014994\n",
      "2025-08-15 16:10:18,649: Fidelidade final: 0.9940 (F_qubit: 0.9700 * F_rota: 0.9940)\n",
      "2025-08-15 16:10:18,650: Foram utilizados 8 pares EPRs ao longo da transmissão.\n",
      "2025-08-15 16:10:18,650: Transmissão de 4 qubits entre 0 e 6 concluída com sucesso.\n",
      "2025-08-15 16:10:18,652: Servidor devolveu 0 qubits para o cliente.\n",
      "2025-08-15 16:10:18,652: Qubit 344 devolvido para o cliente - Estado: 0, Fase: 1\n",
      "2025-08-15 16:10:18,653: Qubit 389 devolvido para o cliente - Estado: 1, Fase: -1\n",
      "2025-08-15 16:10:18,654: Qubit 867 devolvido para o cliente - Estado: 0, Fase: 1\n",
      "2025-08-15 16:10:18,654: Qubit 270 devolvido para o cliente - Estado: 1, Fase: 1\n",
      "2025-08-15 16:10:18,655: Cliente aplicou a decodificação Clifford no qubit 344.\n",
      "2025-08-15 16:10:18,655: Cliente aplicou a decodificação Clifford no qubit 389.\n",
      "2025-08-15 16:10:18,655: Cliente aplicou a decodificação Clifford no qubit 867.\n",
      "2025-08-15 16:10:18,656: Cliente aplicou a decodificação Clifford no qubit 270.\n",
      "2025-08-15 16:10:18,656: Protocolo concluído com sucesso. O cliente tem 4 qubits decodificados.\n"
     ]
    },
    {
     "name": "stdout",
     "output_type": "stream",
     "text": [
      "Tempo de Operação: 2\n",
      "Epoch 1, Loss: 0.6550\n"
     ]
    },
    {
     "name": "stderr",
     "output_type": "stream",
     "text": [
      "2025-08-15 16:10:23,411: Timeslot 11: Iniciando protocolo Andrew Childs entre Alice 6 e Bob 0.\n",
      "2025-08-15 16:10:23,412: Limpando a memória do cliente (Alice) antes de iniciar o protocolo.\n",
      "2025-08-15 16:10:23,412: Limpando a memória do servidor (Bob) antes de iniciar o protocolo.\n",
      "2025-08-15 16:10:23,413: Cliente criou 4 qubits para a transmissão.\n",
      "2025-08-15 16:10:23,414: Qubit 996 registrado no timeslot 11\n",
      "2025-08-15 16:10:23,414: Qubit 80 registrado no timeslot 11\n",
      "2025-08-15 16:10:23,414: Qubit 849 registrado no timeslot 11\n",
      "2025-08-15 16:10:23,415: Qubit 906 registrado no timeslot 11\n",
      "2025-08-15 16:10:23,415: Qubit 996 criado pelo Cliente - Estado: 0, Fase: 1\n",
      "2025-08-15 16:10:23,415: Qubit 80 criado pelo Cliente - Estado: 0, Fase: 1\n",
      "2025-08-15 16:10:23,416: Qubit 849 criado pelo Cliente - Estado: 0, Fase: 1\n",
      "2025-08-15 16:10:23,416: Qubit 906 criado pelo Cliente - Estado: 0, Fase: 1\n",
      "2025-08-15 16:10:23,416: Alice recebeu 4 qubits. Total: 4 qubits na memória.\n",
      "2025-08-15 16:10:23,417: Instruções clássicas enviadas pelo Cliente: ['Z', 'X', 'Z', 'X']\n",
      "2025-08-15 16:10:23,417: Timeslot 12: Buscando rota válida entre 6 e 0.\n",
      "2025-08-15 16:10:23,418: Sem pares EPRs entre 6 e 3 na rota [6, 3, 0]\n",
      "2025-08-15 16:10:23,418: Nenhuma rota válida encontrada.\n",
      "2025-08-15 16:10:23,420: Erro: Nenhuma rota encontrada entre 6 e 0.\n"
     ]
    },
    {
     "name": "stdout",
     "output_type": "stream",
     "text": [
      "Epoch 2, Loss: 0.6399\n"
     ]
    },
    {
     "name": "stderr",
     "output_type": "stream",
     "text": [
      "2025-08-15 16:10:28,129: Timeslot 12: Iniciando protocolo Andrew Childs entre Alice 6 e Bob 0.\n",
      "2025-08-15 16:10:28,129: Limpando a memória do cliente (Alice) antes de iniciar o protocolo.\n",
      "2025-08-15 16:10:28,130: Limpando a memória do servidor (Bob) antes de iniciar o protocolo.\n",
      "2025-08-15 16:10:28,131: Cliente criou 4 qubits para a transmissão.\n",
      "2025-08-15 16:10:28,131: Qubit 46 registrado no timeslot 12\n",
      "2025-08-15 16:10:28,131: Qubit 791 registrado no timeslot 12\n",
      "2025-08-15 16:10:28,131: Qubit 81 registrado no timeslot 12\n",
      "2025-08-15 16:10:28,131: Qubit 887 registrado no timeslot 12\n",
      "2025-08-15 16:10:28,132: Qubit 46 criado pelo Cliente - Estado: 0, Fase: 1\n",
      "2025-08-15 16:10:28,132: Qubit 791 criado pelo Cliente - Estado: 0, Fase: 1\n",
      "2025-08-15 16:10:28,133: Qubit 81 criado pelo Cliente - Estado: 0, Fase: 1\n",
      "2025-08-15 16:10:28,133: Qubit 887 criado pelo Cliente - Estado: 0, Fase: 1\n",
      "2025-08-15 16:10:28,133: Alice recebeu 4 qubits. Total: 4 qubits na memória.\n",
      "2025-08-15 16:10:28,135: Instruções clássicas enviadas pelo Cliente: ['Y', 'Y', 'Z', 'Y']\n",
      "2025-08-15 16:10:28,136: Timeslot 13: Buscando rota válida entre 6 e 0.\n",
      "2025-08-15 16:10:28,136: Sem pares EPRs entre 6 e 3 na rota [6, 3, 0]\n",
      "2025-08-15 16:10:28,137: Nenhuma rota válida encontrada.\n",
      "2025-08-15 16:10:28,137: Erro: Nenhuma rota encontrada entre 6 e 0.\n"
     ]
    },
    {
     "name": "stdout",
     "output_type": "stream",
     "text": [
      "Epoch 3, Loss: 0.6257\n"
     ]
    },
    {
     "name": "stderr",
     "output_type": "stream",
     "text": [
      "2025-08-15 16:10:32,991: Timeslot 13: Iniciando protocolo Andrew Childs entre Alice 6 e Bob 0.\n",
      "2025-08-15 16:10:32,992: Limpando a memória do cliente (Alice) antes de iniciar o protocolo.\n",
      "2025-08-15 16:10:32,992: Limpando a memória do servidor (Bob) antes de iniciar o protocolo.\n",
      "2025-08-15 16:10:32,993: Cliente criou 4 qubits para a transmissão.\n",
      "2025-08-15 16:10:32,993: Qubit 166 registrado no timeslot 13\n",
      "2025-08-15 16:10:32,994: Qubit 214 registrado no timeslot 13\n",
      "2025-08-15 16:10:32,994: Qubit 718 registrado no timeslot 13\n",
      "2025-08-15 16:10:32,994: Qubit 663 registrado no timeslot 13\n",
      "2025-08-15 16:10:32,995: Qubit 166 criado pelo Cliente - Estado: 0, Fase: 1\n",
      "2025-08-15 16:10:32,995: Qubit 214 criado pelo Cliente - Estado: 0, Fase: 1\n",
      "2025-08-15 16:10:32,995: Qubit 718 criado pelo Cliente - Estado: 0, Fase: 1\n",
      "2025-08-15 16:10:32,996: Qubit 663 criado pelo Cliente - Estado: 0, Fase: 1\n",
      "2025-08-15 16:10:32,996: Alice recebeu 4 qubits. Total: 4 qubits na memória.\n",
      "2025-08-15 16:10:32,997: Instruções clássicas enviadas pelo Cliente: ['Z', 'X', 'Z', 'Z']\n",
      "2025-08-15 16:10:32,997: Timeslot 14: Buscando rota válida entre 6 e 0.\n",
      "2025-08-15 16:10:32,997: Sem pares EPRs entre 6 e 3 na rota [6, 3, 0]\n",
      "2025-08-15 16:10:32,998: Nenhuma rota válida encontrada.\n",
      "2025-08-15 16:10:32,998: Erro: Nenhuma rota encontrada entre 6 e 0.\n"
     ]
    },
    {
     "name": "stdout",
     "output_type": "stream",
     "text": [
      "Epoch 4, Loss: 0.6129\n"
     ]
    },
    {
     "name": "stderr",
     "output_type": "stream",
     "text": [
      "2025-08-15 16:10:37,599: Timeslot 14: Iniciando protocolo Andrew Childs entre Alice 6 e Bob 0.\n",
      "2025-08-15 16:10:37,600: Limpando a memória do cliente (Alice) antes de iniciar o protocolo.\n",
      "2025-08-15 16:10:37,600: Limpando a memória do servidor (Bob) antes de iniciar o protocolo.\n",
      "2025-08-15 16:10:37,601: Cliente criou 4 qubits para a transmissão.\n",
      "2025-08-15 16:10:37,601: Qubit 250 registrado no timeslot 14\n",
      "2025-08-15 16:10:37,602: Qubit 388 registrado no timeslot 14\n",
      "2025-08-15 16:10:37,602: Qubit 947 registrado no timeslot 14\n",
      "2025-08-15 16:10:37,602: Qubit 570 registrado no timeslot 14\n",
      "2025-08-15 16:10:37,603: Qubit 250 criado pelo Cliente - Estado: 0, Fase: 1\n",
      "2025-08-15 16:10:37,603: Qubit 388 criado pelo Cliente - Estado: 0, Fase: 1\n",
      "2025-08-15 16:10:37,603: Qubit 947 criado pelo Cliente - Estado: 0, Fase: 1\n",
      "2025-08-15 16:10:37,604: Qubit 570 criado pelo Cliente - Estado: 0, Fase: 1\n",
      "2025-08-15 16:10:37,604: Alice recebeu 4 qubits. Total: 4 qubits na memória.\n",
      "2025-08-15 16:10:37,605: Instruções clássicas enviadas pelo Cliente: ['Y', 'X', 'X', 'X']\n",
      "2025-08-15 16:10:37,605: Timeslot 15: Buscando rota válida entre 6 e 0.\n",
      "2025-08-15 16:10:37,606: Sem pares EPRs entre 6 e 3 na rota [6, 3, 0]\n",
      "2025-08-15 16:10:37,606: Nenhuma rota válida encontrada.\n",
      "2025-08-15 16:10:37,606: Erro: Nenhuma rota encontrada entre 6 e 0.\n"
     ]
    },
    {
     "name": "stdout",
     "output_type": "stream",
     "text": [
      "Epoch 5, Loss: 0.6019\n"
     ]
    }
   ],
   "source": [
    "for epoch in range(5):\n",
    "    model.train()\n",
    "    total_loss = 0.0\n",
    "\n",
    "    optimizer.zero_grad()\n",
    "\n",
    "    output = model(X_train_tensor)\n",
    "    prediction = torch.sigmoid(output.squeeze())\n",
    "    loss = loss_func(prediction, y_train_tensor)\n",
    "    loss.backward()\n",
    "    optimizer.step()\n",
    "\n",
    "    trained_weights = model.weight.detach().numpy()\n",
    "\n",
    "    final_circuit = QuantumCircuit(num_qubits)\n",
    "    final_circuit.compose(feature_map, inplace=True)\n",
    "    final_circuit.compose(ansatz.assign_parameters(trained_weights), inplace=True)\n",
    "\n",
    "    total_loss += loss.item()\n",
    "\n",
    "    quantum_circuit = final_circuit\n",
    "    circuit_depth = quantum_circuit.depth()\n",
    "\n",
    "    rede.application_layer.run_app(\n",
    "        \"AC_BQC\",\n",
    "        alice_id=6,\n",
    "        bob_id=0,\n",
    "        num_qubits=num_qubits,\n",
    "        scenario=2,\n",
    "        circuit_depth=circuit_depth\n",
    "        )\n",
    "\n",
    "    print(f\"Epoch {epoch+1}, Loss: {total_loss:.4f}\")"
   ]
  },
  {
   "cell_type": "markdown",
   "id": "61790019",
   "metadata": {},
   "source": [
    "# Avaliação\n",
    "- Primeiro ele, Faz previsão no conjunto de teste, sem atualizar o modelo.\n",
    "- Transforma saída em probabilidade e decide se é classe 0 ou 1.\n",
    "- Prepara os resultados para análise (cálculo das métricas).\n",
    "# Métricas\n",
    "- Acurácia: porcentagem de previsões corretas (tanto verdadeiros positivos quanto verdadeiros negativos).\n",
    "\n",
    "- Precisão: proporção de previsões positivas que estavam corretas (foca em evitar falsos positivos).\n",
    "\n",
    "- Recall: proporção de casos positivos corretamente identificados (foca em evitar falsos negativos)."
   ]
  },
  {
   "cell_type": "code",
   "execution_count": 21,
   "id": "449f5f0e",
   "metadata": {},
   "outputs": [
    {
     "name": "stdout",
     "output_type": "stream",
     "text": [
      "MÉTRICAS:\n",
      "Acurácia: 0.60\n",
      "Precisão: 0.67\n",
      "Recall: 0.40\n",
      "F1: 0.50\n"
     ]
    }
   ],
   "source": [
    "#acontece de forma transparente e não encapsulado como o vqc\n",
    "with torch.no_grad():\n",
    "    outputs = model(torch.tensor(X_test, dtype=torch.float32)).squeeze()\n",
    "    y_pred = torch.sigmoid(outputs).round().numpy()\n",
    "\n",
    "accuracy = accuracy_score(y_test, y_pred)\n",
    "precision = precision_score(y_test, y_pred)\n",
    "recall = recall_score(y_test, y_pred)\n",
    "f1 = f1_score(y_test, y_pred)\n",
    "\n",
    "print(\"MÉTRICAS:\")\n",
    "print(f\"Acurácia: {accuracy:.2f}\")\n",
    "print(f\"Precisão: {precision:.2f}\")\n",
    "print(f\"Recall: {recall:.2f}\")\n",
    "print(f\"F1: {f1:.2f}\")"
   ]
  },
  {
   "cell_type": "markdown",
   "id": "dd969493",
   "metadata": {},
   "source": [
    "## Conclusões e próximos passos\n",
    "\n",
    "- O experimento de Blind Quantum Computing foi executado com sucesso.\n",
    "- Próximos passos podem incluir: testar outros datasets, aprimorar o circuito quântico, ou analisar a segurança do protocolo."
   ]
  }
 ],
 "metadata": {
  "kernelspec": {
   "display_name": "Python 3",
   "language": "python",
   "name": "python3"
  },
  "language_info": {
   "codemirror_mode": {
    "name": "ipython",
    "version": 3
   },
   "file_extension": ".py",
   "mimetype": "text/x-python",
   "name": "python",
   "nbconvert_exporter": "python",
   "pygments_lexer": "ipython3",
   "version": "3.11.9"
  }
 },
 "nbformat": 4,
 "nbformat_minor": 5
}
