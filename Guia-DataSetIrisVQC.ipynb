{
 "cells": [
  {
   "cell_type": "markdown",
   "id": "e6476cd7",
   "metadata": {},
   "source": [
    "\n",
    "# IRIS VQC - Blind QUantum Computing\n",
    "\n",
    "Este notebook executa o código de Blind Quantum Computing utilizando Qiskit,  O objetivo é demonstrar como rodar experimentos quânticos de forma segura e privada, utilizando machine learning (aplicando **QNN (EstimatorQNN)** com um **classificador VQC**) com o dataset de exemplo (Iris).\n",
    "\n",
    "Inclui:\n",
    "- Pré-processamento do Iris (binário: *Setosa vs. Versicolor*)\n",
    "- Construção do circuito (Feature Map + Ansatz)\n",
    "- Treinamento do VQC com **ADAM**\n",
    "- Envio do circuito por época\n",
    "- Métricas finais e matriz de confusão"
   ]
  },
  {
   "cell_type": "code",
   "execution_count": 95,
   "id": "fd9d222b",
   "metadata": {},
   "outputs": [
    {
     "name": "stdout",
     "output_type": "stream",
     "text": [
      "Requirement already satisfied: qiskit in c:\\users\\dreysv\\appdata\\local\\packages\\pythonsoftwarefoundation.python.3.11_qbz5n2kfra8p0\\localcache\\local-packages\\python311\\site-packages (1.4.3)\n",
      "Requirement already satisfied: qiskit-aer in c:\\users\\dreysv\\appdata\\local\\packages\\pythonsoftwarefoundation.python.3.11_qbz5n2kfra8p0\\localcache\\local-packages\\python311\\site-packages (0.17.1)\n",
      "Requirement already satisfied: qiskit-machine-learning in c:\\users\\dreysv\\appdata\\local\\packages\\pythonsoftwarefoundation.python.3.11_qbz5n2kfra8p0\\localcache\\local-packages\\python311\\site-packages (0.8.3)\n",
      "Requirement already satisfied: qiskit-algorithms in c:\\users\\dreysv\\appdata\\local\\packages\\pythonsoftwarefoundation.python.3.11_qbz5n2kfra8p0\\localcache\\local-packages\\python311\\site-packages (0.3.1)\n",
      "Requirement already satisfied: scikit-learn in c:\\users\\dreysv\\appdata\\local\\packages\\pythonsoftwarefoundation.python.3.11_qbz5n2kfra8p0\\localcache\\local-packages\\python311\\site-packages (1.7.1)\n",
      "Requirement already satisfied: numpy in c:\\users\\dreysv\\appdata\\local\\packages\\pythonsoftwarefoundation.python.3.11_qbz5n2kfra8p0\\localcache\\local-packages\\python311\\site-packages (2.3.2)\n",
      "Requirement already satisfied: rustworkx>=0.15.0 in c:\\users\\dreysv\\appdata\\local\\packages\\pythonsoftwarefoundation.python.3.11_qbz5n2kfra8p0\\localcache\\local-packages\\python311\\site-packages (from qiskit) (0.17.1)\n",
      "Requirement already satisfied: scipy>=1.5 in c:\\users\\dreysv\\appdata\\local\\packages\\pythonsoftwarefoundation.python.3.11_qbz5n2kfra8p0\\localcache\\local-packages\\python311\\site-packages (from qiskit) (1.16.1)\n",
      "Requirement already satisfied: sympy>=1.3 in c:\\users\\dreysv\\appdata\\local\\packages\\pythonsoftwarefoundation.python.3.11_qbz5n2kfra8p0\\localcache\\local-packages\\python311\\site-packages (from qiskit) (1.14.0)\n",
      "Requirement already satisfied: dill>=0.3 in c:\\users\\dreysv\\appdata\\local\\packages\\pythonsoftwarefoundation.python.3.11_qbz5n2kfra8p0\\localcache\\local-packages\\python311\\site-packages (from qiskit) (0.4.0)\n",
      "Requirement already satisfied: python-dateutil>=2.8.0 in c:\\users\\dreysv\\appdata\\local\\packages\\pythonsoftwarefoundation.python.3.11_qbz5n2kfra8p0\\localcache\\local-packages\\python311\\site-packages (from qiskit) (2.9.0.post0)\n",
      "Requirement already satisfied: stevedore>=3.0.0 in c:\\users\\dreysv\\appdata\\local\\packages\\pythonsoftwarefoundation.python.3.11_qbz5n2kfra8p0\\localcache\\local-packages\\python311\\site-packages (from qiskit) (5.4.1)\n",
      "Requirement already satisfied: typing-extensions in c:\\users\\dreysv\\appdata\\local\\packages\\pythonsoftwarefoundation.python.3.11_qbz5n2kfra8p0\\localcache\\local-packages\\python311\\site-packages (from qiskit) (4.14.1)\n",
      "Requirement already satisfied: symengine<0.14,>=0.11 in c:\\users\\dreysv\\appdata\\local\\packages\\pythonsoftwarefoundation.python.3.11_qbz5n2kfra8p0\\localcache\\local-packages\\python311\\site-packages (from qiskit) (0.13.0)\n",
      "Requirement already satisfied: psutil>=5 in c:\\users\\dreysv\\appdata\\local\\packages\\pythonsoftwarefoundation.python.3.11_qbz5n2kfra8p0\\localcache\\local-packages\\python311\\site-packages (from qiskit-aer) (7.0.0)\n",
      "Requirement already satisfied: setuptools>=40.1 in c:\\program files\\windowsapps\\pythonsoftwarefoundation.python.3.11_3.11.2544.0_x64__qbz5n2kfra8p0\\lib\\site-packages (from qiskit-machine-learning) (65.5.0)\n",
      "Requirement already satisfied: joblib>=1.2.0 in c:\\users\\dreysv\\appdata\\local\\packages\\pythonsoftwarefoundation.python.3.11_qbz5n2kfra8p0\\localcache\\local-packages\\python311\\site-packages (from scikit-learn) (1.5.1)\n",
      "Requirement already satisfied: threadpoolctl>=3.1.0 in c:\\users\\dreysv\\appdata\\local\\packages\\pythonsoftwarefoundation.python.3.11_qbz5n2kfra8p0\\localcache\\local-packages\\python311\\site-packages (from scikit-learn) (3.6.0)\n",
      "Requirement already satisfied: six>=1.5 in c:\\users\\dreysv\\appdata\\local\\packages\\pythonsoftwarefoundation.python.3.11_qbz5n2kfra8p0\\localcache\\local-packages\\python311\\site-packages (from python-dateutil>=2.8.0->qiskit) (1.17.0)\n",
      "Requirement already satisfied: pbr>=2.0.0 in c:\\users\\dreysv\\appdata\\local\\packages\\pythonsoftwarefoundation.python.3.11_qbz5n2kfra8p0\\localcache\\local-packages\\python311\\site-packages (from stevedore>=3.0.0->qiskit) (7.0.0)\n",
      "Requirement already satisfied: mpmath<1.4,>=1.1.0 in c:\\users\\dreysv\\appdata\\local\\packages\\pythonsoftwarefoundation.python.3.11_qbz5n2kfra8p0\\localcache\\local-packages\\python311\\site-packages (from sympy>=1.3->qiskit) (1.3.0)\n"
     ]
    },
    {
     "name": "stderr",
     "output_type": "stream",
     "text": [
      "\n",
      "[notice] A new release of pip is available: 24.0 -> 25.2\n",
      "[notice] To update, run: C:\\Users\\Dreysv\\AppData\\Local\\Microsoft\\WindowsApps\\PythonSoftwareFoundation.Python.3.11_qbz5n2kfra8p0\\python.exe -m pip install --upgrade pip\n"
     ]
    }
   ],
   "source": [
    "# Instalar dependências\n",
    "!pip install qiskit qiskit-aer qiskit-machine-learning qiskit-algorithms scikit-learn numpy"
   ]
  },
  {
   "cell_type": "code",
   "execution_count": 96,
   "id": "6218f158",
   "metadata": {},
   "outputs": [],
   "source": [
    "# instalar as bibliotecas necessárias\n",
    "\n",
    "import os\n",
    "import random\n",
    "import numpy as np\n",
    "import collections\n",
    "import matplotlib\n",
    "\n",
    "from qiskit import QuantumCircuit\n",
    "from qiskit.circuit.library import ZZFeatureMap, RealAmplitudes\n",
    "from qiskit.primitives import Estimator\n",
    "from qiskit_machine_learning.neural_networks import EstimatorQNN\n",
    "from qiskit_machine_learning.algorithms.classifiers import NeuralNetworkClassifier\n",
    "from qiskit_machine_learning.utils.loss_functions import CrossEntropyLoss\n",
    "from qiskit_algorithms.optimizers import ADAM\n",
    "\n",
    "from sklearn.datasets import load_iris\n",
    "from sklearn.preprocessing import StandardScaler\n",
    "from sklearn.model_selection import train_test_split\n",
    "from sklearn.metrics import accuracy_score, precision_score, recall_score, f1_score, confusion_matrix\n",
    "import itertools\n",
    "\n",
    "from quantumnet.components import Network, Logger\n"
   ]
  },
  {
   "cell_type": "markdown",
   "id": "7c91cb20",
   "metadata": {},
   "source": [
    "# Controle de Aleatoriedade e Reprodutibilidade\n",
    "O trecho abaixo define uma semente fixa (SEED = 42) e a aplica nas bibliotecas random, numpy e torch. Isso garante que os resultados aleatórios (como inicialização de pesos e embaralhamento de dados) sejam os mesmos a cada execução do código, o que é essencial para fins de reprodutibilidade. \n",
    "\n",
    "Além disso, o uso de torch.use_deterministic_algorithms(True) força o PyTorch a utilizar apenas algoritmos determinísticos, evitando variações internas e tornando os experimentos mais consistentes e confiáveis."
   ]
  },
  {
   "cell_type": "code",
   "execution_count": 97,
   "id": "3e2a396e",
   "metadata": {},
   "outputs": [],
   "source": [
    "\n",
    "SEED = 42\n",
    "os.environ['PYTHONHASHSEED'] = str(SEED)\n",
    "random.seed(SEED)\n",
    "np.random.seed(SEED)"
   ]
  },
  {
   "cell_type": "markdown",
   "id": "a18c6799",
   "metadata": {},
   "source": [
    "# Callback: envio do circuito por época"
   ]
  },
  {
   "cell_type": "code",
   "execution_count": 98,
   "id": "1d914404",
   "metadata": {},
   "outputs": [],
   "source": [
    "\n",
    "def enviar_circuito_por_epoca(circuito, epoch, num_qubits, circuit_depth):\n",
    "    print(f\"[Epoch {epoch+1}] Enviando circuito para a rede...\")\n",
    "    try:\n",
    "        rede.application_layer.run_app(\n",
    "            \"AC_BQC\",\n",
    "            alice_id=6,\n",
    "            bob_id=0,\n",
    "            num_qubits=num_qubits,\n",
    "            scenario=2,\n",
    "            circuit_depth=circuit_depth,\n",
    "            circuito=circuito\n",
    "        )\n",
    "        print(f\"[Epoch {epoch+1}] Envio concluído.\")\n",
    "    except Exception as e:\n",
    "        print(f\"[Epoch {epoch+1}] Erro ao enviar circuito: {str(e)}\")\n"
   ]
  },
  {
   "cell_type": "markdown",
   "id": "5f95b5a9",
   "metadata": {},
   "source": [
    "# Inicializar a rede"
   ]
  },
  {
   "cell_type": "code",
   "execution_count": 99,
   "id": "5affe03c",
   "metadata": {},
   "outputs": [
    {
     "name": "stderr",
     "output_type": "stream",
     "text": [
      "2025-08-18 15:07:27,772: Host 0 inicializado com 0 qubits.\n",
      "2025-08-18 15:07:27,773: Host 1 inicializado com 0 qubits.\n",
      "2025-08-18 15:07:27,774: Host 2 inicializado com 0 qubits.\n",
      "2025-08-18 15:07:27,774: Host 3 inicializado com 0 qubits.\n",
      "2025-08-18 15:07:27,775: Host 4 inicializado com 0 qubits.\n",
      "2025-08-18 15:07:27,775: Host 5 inicializado com 0 qubits.\n",
      "2025-08-18 15:07:27,776: Host 6 inicializado com 0 qubits.\n",
      "2025-08-18 15:07:27,776: Host 7 inicializado com 0 qubits.\n",
      "2025-08-18 15:07:27,776: Host 8 inicializado com 0 qubits.\n",
      "2025-08-18 15:07:27,777: Par EPR <quantumnet.objects.epr.Epr object at 0x000002DE53178690> adicionado ao canal.\n",
      "2025-08-18 15:07:27,778: Par EPR <quantumnet.objects.epr.Epr object at 0x000002DE52CD1510> adicionado ao canal.\n",
      "2025-08-18 15:07:27,778: Par EPR <quantumnet.objects.epr.Epr object at 0x000002DE52CBB8D0> adicionado ao canal.\n",
      "2025-08-18 15:07:27,778: Par EPR <quantumnet.objects.epr.Epr object at 0x000002DE52DA1350> adicionado ao canal.\n",
      "2025-08-18 15:07:27,779: Par EPR <quantumnet.objects.epr.Epr object at 0x000002DE53179810> adicionado ao canal.\n",
      "2025-08-18 15:07:27,779: Par EPR <quantumnet.objects.epr.Epr object at 0x000002DE52CA1750> adicionado ao canal.\n",
      "2025-08-18 15:07:27,780: Par EPR <quantumnet.objects.epr.Epr object at 0x000002DE52B68D50> adicionado ao canal.\n",
      "2025-08-18 15:07:27,780: Par EPR <quantumnet.objects.epr.Epr object at 0x000002DE50E664D0> adicionado ao canal.\n",
      "2025-08-18 15:07:27,781: Par EPR <quantumnet.objects.epr.Epr object at 0x000002DE52B68E50> adicionado ao canal.\n",
      "2025-08-18 15:07:27,782: Par EPR <quantumnet.objects.epr.Epr object at 0x000002DE52B6B6D0> adicionado ao canal.\n",
      "2025-08-18 15:07:27,782: Par EPR <quantumnet.objects.epr.Epr object at 0x000002DE531780D0> adicionado ao canal.\n",
      "2025-08-18 15:07:27,783: Par EPR <quantumnet.objects.epr.Epr object at 0x000002DE531796D0> adicionado ao canal.\n",
      "2025-08-18 15:07:27,783: Par EPR <quantumnet.objects.epr.Epr object at 0x000002DE53178410> adicionado ao canal.\n",
      "2025-08-18 15:07:27,784: Par EPR <quantumnet.objects.epr.Epr object at 0x000002DE513112D0> adicionado ao canal.\n",
      "2025-08-18 15:07:27,784: Par EPR <quantumnet.objects.epr.Epr object at 0x000002DE52F49390> adicionado ao canal.\n",
      "2025-08-18 15:07:27,784: Par EPR <quantumnet.objects.epr.Epr object at 0x000002DE52F4A510> adicionado ao canal.\n",
      "2025-08-18 15:07:27,785: Par EPR <quantumnet.objects.epr.Epr object at 0x000002DE505450D0> adicionado ao canal.\n",
      "2025-08-18 15:07:27,785: Par EPR <quantumnet.objects.epr.Epr object at 0x000002DE52CBDB10> adicionado ao canal.\n",
      "2025-08-18 15:07:27,786: Par EPR <quantumnet.objects.epr.Epr object at 0x000002DE52DC6490> adicionado ao canal.\n",
      "2025-08-18 15:07:27,786: Par EPR <quantumnet.objects.epr.Epr object at 0x000002DE53179390> adicionado ao canal.\n",
      "2025-08-18 15:07:27,787: Par EPR <quantumnet.objects.epr.Epr object at 0x000002DE52F61B10> adicionado ao canal.\n",
      "2025-08-18 15:07:27,787: Par EPR <quantumnet.objects.epr.Epr object at 0x000002DE52F60110> adicionado ao canal.\n",
      "2025-08-18 15:07:27,788: Par EPR <quantumnet.objects.epr.Epr object at 0x000002DE52E78FD0> adicionado ao canal.\n",
      "2025-08-18 15:07:27,788: Par EPR <quantumnet.objects.epr.Epr object at 0x000002DE52DC6690> adicionado ao canal.\n"
     ]
    },
    {
     "name": "stdout",
     "output_type": "stream",
     "text": [
      "Hosts inicializados\n",
      "Canais inicializados\n",
      "Pares EPRs adicionados\n",
      "Rede pronta.\n"
     ]
    }
   ],
   "source": [
    "\n",
    "rede = Network()\n",
    "rede.set_ready_topology('grade', 8, 3, 3)\n",
    "Logger.activate(Logger)\n",
    "print(\"Rede pronta.\")\n"
   ]
  },
  {
   "cell_type": "markdown",
   "id": "959714f5",
   "metadata": {},
   "source": [
    "# Carrega o conjunto de dados Iris\n",
    "- X → dados (características/features) \n",
    "- y → rótulos (classes/labels)ris (binário)"
   ]
  },
  {
   "cell_type": "code",
   "execution_count": 100,
   "id": "069608eb",
   "metadata": {},
   "outputs": [],
   "source": [
    "\n",
    "iris = load_iris()\n",
    "X = iris.data\n",
    "y = iris.target\n",
    "\n",
    "scaler = StandardScaler()\n",
    "X = scaler.fit_transform(X)"
   ]
  },
  {
   "cell_type": "markdown",
   "id": "a03be17f",
   "metadata": {},
   "source": [
    "# Reduz para duas classes (binário)"
   ]
  },
  {
   "cell_type": "code",
   "execution_count": 101,
   "id": "201e3961",
   "metadata": {},
   "outputs": [],
   "source": [
    "\n",
    "X = X[y < 2]\n",
    "y = y[y < 2]\n"
   ]
  },
  {
   "cell_type": "markdown",
   "id": "ef5a3a46",
   "metadata": {},
   "source": [
    "# Divide os dados \n",
    "80% treino e 20% teste\n"
   ]
  },
  {
   "cell_type": "code",
   "execution_count": 102,
   "id": "3ea6276d",
   "metadata": {},
   "outputs": [
    {
     "name": "stdout",
     "output_type": "stream",
     "text": [
      "Distribuição das classes no y_train e y_test:\n",
      "Treino: Counter({np.int64(1): 42, np.int64(0): 38})\n",
      "Teste: Counter({np.int64(0): 12, np.int64(1): 8})\n"
     ]
    }
   ],
   "source": [
    "\n",
    "X_train, X_test, y_train, y_test = train_test_split(\n",
    "    X, y, test_size=0.2, random_state=SEED\n",
    ")\n",
    "print(\"Distribuição das classes no y_train e y_test:\")\n",
    "print(\"Treino:\", collections.Counter(y_train))\n",
    "print(\"Teste:\", collections.Counter(y_test))"
   ]
  },
  {
   "cell_type": "markdown",
   "id": "988df641",
   "metadata": {},
   "source": [
    "# Cria o circuito quântico (FeatureMap + Ansatz)"
   ]
  },
  {
   "cell_type": "code",
   "execution_count": 103,
   "id": "5cee4de6",
   "metadata": {},
   "outputs": [],
   "source": [
    "\n",
    "num_qubits = 4\n",
    "feature_map = ZZFeatureMap(num_qubits)\n",
    "ansatz = RealAmplitudes(num_qubits, reps=1)\n",
    "\n",
    "qc = QuantumCircuit(num_qubits)\n",
    "qc.compose(feature_map, inplace=True)\n",
    "qc.compose(ansatz, inplace=True)"
   ]
  },
  {
   "cell_type": "markdown",
   "id": "d679cd5c",
   "metadata": {},
   "source": [
    "# EstimatorQNN "
   ]
  },
  {
   "cell_type": "code",
   "execution_count": 104,
   "id": "3c52edd8",
   "metadata": {},
   "outputs": [
    {
     "name": "stderr",
     "output_type": "stream",
     "text": [
      "C:\\Users\\Dreysv\\AppData\\Local\\Temp\\ipykernel_1852\\1789396687.py:1: DeprecationWarning: The class ``qiskit.primitives.estimator.Estimator`` is deprecated as of qiskit 1.2. It will be removed no earlier than 3 months after the release date. All implementations of the `BaseEstimatorV1` interface have been deprecated in favor of their V2 counterparts. The V2 alternative for the `Estimator` class is `StatevectorEstimator`.\n",
      "  estimator = Estimator()\n",
      "C:\\Users\\Dreysv\\AppData\\Local\\Temp\\ipykernel_1852\\1789396687.py:3: DeprecationWarning: V1 Primitives are deprecated as of qiskit-machine-learning 0.8.0 and will be removed no sooner than 4 months after the release date. Use V2 primitives for continued compatibility and support.\n",
      "  qnn = EstimatorQNN(\n"
     ]
    }
   ],
   "source": [
    "\n",
    "estimator = Estimator()\n",
    "\n",
    "qnn = EstimatorQNN(\n",
    "    circuit=qc,\n",
    "    input_params=feature_map.parameters,\n",
    "    weight_params=ansatz.parameters,\n",
    "    estimator=estimator,\n",
    "    input_gradients=True\n",
    ")\n"
   ]
  },
  {
   "cell_type": "markdown",
   "id": "b5d30c23",
   "metadata": {},
   "source": [
    "## 8. Treinamento"
   ]
  },
  {
   "cell_type": "code",
   "execution_count": null,
   "id": "cc2eb65d",
   "metadata": {},
   "outputs": [
    {
     "name": "stdout",
     "output_type": "stream",
     "text": [
      "\n",
      "TREINANDO VQC...\n"
     ]
    }
   ],
   "source": [
    "\n",
    "print(\"\\nTREINANDO VQC...\")\n",
    "\n",
    "vqc = NeuralNetworkClassifier(\n",
    "    neural_network=qnn,\n",
    "    loss=CrossEntropyLoss(),\n",
    "    optimizer=ADAM(maxiter=25),\n",
    "    callback=lambda weights, loss, step: enviar_circuito_por_epoca(\n",
    "        circuito=feature_map.compose(ansatz.assign_parameters(weights)),\n",
    "        epoch=step,\n",
    "        num_qubits=num_qubits,\n",
    "        circuit_depth=feature_map.compose(ansatz).depth()\n",
    "    )\n",
    ")\n",
    "\n",
    "vqc.fit(X_train, y_train)\n",
    "print(\"Treinamento concluído.\")\n"
   ]
  },
  {
   "cell_type": "markdown",
   "id": "1cc58bf9",
   "metadata": {},
   "source": [
    "## 9. Avaliação: métricas e matriz de confusão"
   ]
  },
  {
   "cell_type": "code",
   "execution_count": null,
   "id": "94da5368",
   "metadata": {},
   "outputs": [],
   "source": [
    "\n",
    "print(\"\\nCALCULANDO MÉTRICAS...\")\n",
    "y_pred = vqc.predict(X_test)\n",
    "\n",
    "y_test_int = y_test.astype(int)\n",
    "y_pred_int = y_pred.astype(int)\n",
    "\n",
    "accuracy = accuracy_score(y_test_int, y_pred_int)\n",
    "precision = precision_score(y_test_int, y_pred_int, average='weighted', zero_division=0)\n",
    "recall = recall_score(y_test_int, y_pred_int, average='weighted', zero_division=0)\n",
    "f1 = f1_score(y_test_int, y_pred_int, average='weighted', zero_division=0)\n",
    "\n",
    "print(\"\\nMÉTRICAS FINAIS:\")\n",
    "print(f\"Acurácia : {accuracy:.4f}\")\n",
    "print(f\"Precisão : {precision:.4f}\")\n",
    "print(f\"Recall   : {recall:.4f}\")\n",
    "print(f\"F1 Score : {f1:.4f}\")"
   ]
  }
 ],
 "metadata": {
  "kernelspec": {
   "display_name": "Python 3",
   "language": "python",
   "name": "python3"
  },
  "language_info": {
   "codemirror_mode": {
    "name": "ipython",
    "version": 3
   },
   "file_extension": ".py",
   "mimetype": "text/x-python",
   "name": "python",
   "nbconvert_exporter": "python",
   "pygments_lexer": "ipython3",
   "version": "3.11.9"
  }
 },
 "nbformat": 4,
 "nbformat_minor": 5
}
