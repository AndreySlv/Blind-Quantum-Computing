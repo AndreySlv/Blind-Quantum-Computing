{
 "cells": [
  {
   "cell_type": "markdown",
   "id": "f6a044af",
   "metadata": {},
   "source": [
    "# MNISQ VQC — Blind QUantum Computing\n",
    "\n"
   ]
  },
  {
   "cell_type": "code",
   "execution_count": 1,
   "id": "49012751",
   "metadata": {},
   "outputs": [
    {
     "name": "stdout",
     "output_type": "stream",
     "text": [
      "Requirement already satisfied: qiskit in /home/codespace/.local/lib/python3.12/site-packages (1.2.4)\n",
      "Collecting qiskit\n",
      "  Downloading qiskit-2.1.2-cp39-abi3-manylinux_2_17_x86_64.manylinux2014_x86_64.whl.metadata (12 kB)\n",
      "Collecting qiskit-aer\n",
      "  Downloading qiskit_aer-0.17.1-cp312-cp312-manylinux_2_17_x86_64.manylinux2014_x86_64.whl.metadata (8.3 kB)\n",
      "Collecting qiskit-machine-learning\n",
      "  Downloading qiskit_machine_learning-0.8.3-py3-none-any.whl.metadata (13 kB)\n",
      "Collecting qiskit-algorithms\n",
      "  Downloading qiskit_algorithms-0.3.1-py3-none-any.whl.metadata (4.2 kB)\n",
      "Requirement already satisfied: scikit-learn in /home/codespace/.local/lib/python3.12/site-packages (1.7.0)\n",
      "Collecting scikit-learn\n",
      "  Downloading scikit_learn-1.7.1-cp312-cp312-manylinux2014_x86_64.manylinux_2_17_x86_64.whl.metadata (11 kB)\n",
      "Requirement already satisfied: matplotlib in /home/codespace/.local/lib/python3.12/site-packages (3.9.2)\n",
      "Collecting matplotlib\n",
      "  Downloading matplotlib-3.10.5-cp312-cp312-manylinux2014_x86_64.manylinux_2_17_x86_64.whl.metadata (11 kB)\n",
      "Requirement already satisfied: numpy in /home/codespace/.local/lib/python3.12/site-packages (2.1.0)\n",
      "Collecting numpy\n",
      "  Downloading numpy-2.3.2-cp312-cp312-manylinux_2_27_x86_64.manylinux_2_28_x86_64.whl.metadata (62 kB)\n",
      "Requirement already satisfied: rustworkx>=0.15.0 in /home/codespace/.local/lib/python3.12/site-packages (from qiskit) (0.15.1)\n",
      "Requirement already satisfied: scipy>=1.5 in /home/codespace/.local/lib/python3.12/site-packages (from qiskit) (1.14.1)\n",
      "Requirement already satisfied: dill>=0.3 in /home/codespace/.local/lib/python3.12/site-packages (from qiskit) (0.3.9)\n",
      "Requirement already satisfied: stevedore>=3.0.0 in /home/codespace/.local/lib/python3.12/site-packages (from qiskit) (5.3.0)\n",
      "Requirement already satisfied: typing-extensions in /home/codespace/.local/lib/python3.12/site-packages (from qiskit) (4.12.2)\n",
      "Requirement already satisfied: psutil>=5 in /home/codespace/.local/lib/python3.12/site-packages (from qiskit-aer) (6.0.0)\n",
      "Requirement already satisfied: python-dateutil>=2.8.0 in /home/codespace/.local/lib/python3.12/site-packages (from qiskit-aer) (2.9.0.post0)\n",
      "Collecting qiskit\n",
      "  Downloading qiskit-1.4.4-cp39-abi3-manylinux_2_17_x86_64.manylinux2014_x86_64.whl.metadata (12 kB)\n",
      "Requirement already satisfied: setuptools>=40.1 in /home/codespace/.local/lib/python3.12/site-packages (from qiskit-machine-learning) (80.9.0)\n",
      "Requirement already satisfied: sympy>=1.3 in /home/codespace/.local/lib/python3.12/site-packages (from qiskit) (1.13.3)\n",
      "Requirement already satisfied: symengine<0.14,>=0.11 in /home/codespace/.local/lib/python3.12/site-packages (from qiskit) (0.13.0)\n",
      "Requirement already satisfied: joblib>=1.2.0 in /home/codespace/.local/lib/python3.12/site-packages (from scikit-learn) (1.5.1)\n",
      "Requirement already satisfied: threadpoolctl>=3.1.0 in /home/codespace/.local/lib/python3.12/site-packages (from scikit-learn) (3.6.0)\n",
      "Requirement already satisfied: contourpy>=1.0.1 in /home/codespace/.local/lib/python3.12/site-packages (from matplotlib) (1.3.0)\n",
      "Requirement already satisfied: cycler>=0.10 in /home/codespace/.local/lib/python3.12/site-packages (from matplotlib) (0.12.1)\n",
      "Requirement already satisfied: fonttools>=4.22.0 in /home/codespace/.local/lib/python3.12/site-packages (from matplotlib) (4.53.1)\n",
      "Requirement already satisfied: kiwisolver>=1.3.1 in /home/codespace/.local/lib/python3.12/site-packages (from matplotlib) (1.4.5)\n",
      "Requirement already satisfied: packaging>=20.0 in /home/codespace/.local/lib/python3.12/site-packages (from matplotlib) (24.1)\n",
      "Requirement already satisfied: pillow>=8 in /home/codespace/.local/lib/python3.12/site-packages (from matplotlib) (10.4.0)\n",
      "Requirement already satisfied: pyparsing>=2.3.1 in /home/codespace/.local/lib/python3.12/site-packages (from matplotlib) (3.1.4)\n",
      "Requirement already satisfied: six>=1.5 in /home/codespace/.local/lib/python3.12/site-packages (from python-dateutil>=2.8.0->qiskit-aer) (1.16.0)\n",
      "Collecting numpy\n",
      "  Downloading numpy-2.2.6-cp312-cp312-manylinux_2_17_x86_64.manylinux2014_x86_64.whl.metadata (62 kB)\n",
      "Requirement already satisfied: pbr>=2.0.0 in /home/codespace/.local/lib/python3.12/site-packages (from stevedore>=3.0.0->qiskit) (6.1.0)\n",
      "Requirement already satisfied: mpmath<1.4,>=1.1.0 in /home/codespace/.local/lib/python3.12/site-packages (from sympy>=1.3->qiskit) (1.3.0)\n",
      "Downloading qiskit_aer-0.17.1-cp312-cp312-manylinux_2_17_x86_64.manylinux2014_x86_64.whl (12.4 MB)\n",
      "\u001b[2K   \u001b[90m━━━━━━━━━━━━━━━━━━━━━━━━━━━━━━━━━━━━━━━━\u001b[0m \u001b[32m12.4/12.4 MB\u001b[0m \u001b[31m53.0 MB/s\u001b[0m eta \u001b[36m0:00:00\u001b[0m:00:01\u001b[0m\n",
      "\u001b[?25hDownloading qiskit_machine_learning-0.8.3-py3-none-any.whl (231 kB)\n",
      "Downloading qiskit-1.4.4-cp39-abi3-manylinux_2_17_x86_64.manylinux2014_x86_64.whl (6.8 MB)\n",
      "\u001b[2K   \u001b[90m━━━━━━━━━━━━━━━━━━━━━━━━━━━━━━━━━━━━━━━━\u001b[0m \u001b[32m6.8/6.8 MB\u001b[0m \u001b[31m41.5 MB/s\u001b[0m eta \u001b[36m0:00:00\u001b[0m\n",
      "\u001b[?25hDownloading qiskit_algorithms-0.3.1-py3-none-any.whl (310 kB)\n",
      "Downloading scikit_learn-1.7.1-cp312-cp312-manylinux2014_x86_64.manylinux_2_17_x86_64.whl (9.5 MB)\n",
      "\u001b[2K   \u001b[90m━━━━━━━━━━━━━━━━━━━━━━━━━━━━━━━━━━━━━━━━\u001b[0m \u001b[32m9.5/9.5 MB\u001b[0m \u001b[31m53.7 MB/s\u001b[0m eta \u001b[36m0:00:00\u001b[0m\n",
      "\u001b[?25hDownloading matplotlib-3.10.5-cp312-cp312-manylinux2014_x86_64.manylinux_2_17_x86_64.whl (8.7 MB)\n",
      "\u001b[2K   \u001b[90m━━━━━━━━━━━━━━━━━━━━━━━━━━━━━━━━━━━━━━━━\u001b[0m \u001b[32m8.7/8.7 MB\u001b[0m \u001b[31m53.9 MB/s\u001b[0m eta \u001b[36m0:00:00\u001b[0m\n",
      "\u001b[?25hDownloading numpy-2.2.6-cp312-cp312-manylinux_2_17_x86_64.manylinux2014_x86_64.whl (16.5 MB)\n",
      "\u001b[2K   \u001b[90m━━━━━━━━━━━━━━━━━━━━━━━━━━━━━━━━━━━━━━━━\u001b[0m \u001b[32m16.5/16.5 MB\u001b[0m \u001b[31m53.7 MB/s\u001b[0m eta \u001b[36m0:00:00\u001b[0m:00:01\u001b[0m\n",
      "\u001b[?25hInstalling collected packages: numpy, scikit-learn, qiskit, matplotlib, qiskit-machine-learning, qiskit-algorithms, qiskit-aer\n",
      "\u001b[2K  Attempting uninstall: numpy\n",
      "\u001b[2K    Found existing installation: numpy 2.1.0\n",
      "\u001b[2K    Uninstalling numpy-2.1.0:\n",
      "\u001b[2K      Successfully uninstalled numpy-2.1.0\n",
      "\u001b[2K  Attempting uninstall: scikit-learn━━━━━━━━━━━━\u001b[0m \u001b[32m0/7\u001b[0m [numpy]\n",
      "\u001b[2K    Found existing installation: scikit-learn 1.7.032m0/7\u001b[0m [numpy]\n",
      "\u001b[2K    Uninstalling scikit-learn-1.7.0:━━━━━━━━━━━━━━━━━━━━━━━━━━━━━━\u001b[0m \u001b[32m1/7\u001b[0m [scikit-learn]\n",
      "\u001b[2K      Successfully uninstalled scikit-learn-1.7.0━━━━━━━━━━━━━\u001b[0m \u001b[32m1/7\u001b[0m [scikit-learn]\n",
      "\u001b[2K  Attempting uninstall: qiskit0m━━━━━━━━━━━━━━━━━━━━━━━━━━━━━━━━━━\u001b[0m \u001b[32m1/7\u001b[0m [scikit-learn]\n",
      "\u001b[2K    Found existing installation: qiskit 1.2.4━━━━━━━━━━━━━━━━━\u001b[0m \u001b[32m1/7\u001b[0m [scikit-learn]\n",
      "\u001b[2K    Uninstalling qiskit-1.2.4:[0m\u001b[90m━━━━━━━━━━━━━━━━━━━━━━━━━━━━\u001b[0m \u001b[32m2/7\u001b[0m [qiskit]n]\n",
      "\u001b[2K      Successfully uninstalled qiskit-1.2.4━━━━━━━━━━━━━━━━━━━\u001b[0m \u001b[32m2/7\u001b[0m [qiskit]\n",
      "\u001b[2K  Attempting uninstall: matplotlib[90m━━━━━━━━━━━━━━━━━━━━━━━━━━━━\u001b[0m \u001b[32m2/7\u001b[0m [qiskit]\n",
      "\u001b[2K    Found existing installation: matplotlib 3.9.2━━━━━━━━━━━━━\u001b[0m \u001b[32m2/7\u001b[0m [qiskit]\n",
      "\u001b[2K    Uninstalling matplotlib-3.9.2:━━━━━━━━━━━━━━━━━━━━━━━━━━━━\u001b[0m \u001b[32m2/7\u001b[0m [qiskit]\n",
      "\u001b[2K      Successfully uninstalled matplotlib-3.9.2━━━━━━━━━━━━━━━━━━━\u001b[0m \u001b[32m3/7\u001b[0m [matplotlib]\n",
      "\u001b[2K   \u001b[90m━━━━━━━━━━━━━━━━━━━━━━━━━━━━━━━━━━━━━━━━\u001b[0m \u001b[32m7/7\u001b[0m [qiskit-aer]7\u001b[0m [qiskit-aer]rithms]rning]\n",
      "\u001b[1A\u001b[2KSuccessfully installed matplotlib-3.10.5 numpy-2.2.6 qiskit-1.4.4 qiskit-aer-0.17.1 qiskit-algorithms-0.3.1 qiskit-machine-learning-0.8.3 scikit-learn-1.7.1\n",
      "\n",
      "\u001b[1m[\u001b[0m\u001b[34;49mnotice\u001b[0m\u001b[1;39;49m]\u001b[0m\u001b[39;49m A new release of pip is available: \u001b[0m\u001b[31;49m25.1.1\u001b[0m\u001b[39;49m -> \u001b[0m\u001b[32;49m25.2\u001b[0m\n",
      "\u001b[1m[\u001b[0m\u001b[34;49mnotice\u001b[0m\u001b[1;39;49m]\u001b[0m\u001b[39;49m To update, run: \u001b[0m\u001b[32;49mpython3 -m pip install --upgrade pip\u001b[0m\n"
     ]
    }
   ],
   "source": [
    "#Instale as dependências (descomente e rode se necessário)\n",
    "!pip install --upgrade qiskit qiskit-aer qiskit-machine-learning qiskit-algorithms scikit-learn matplotlib numpy\n"
   ]
  },
  {
   "cell_type": "code",
   "execution_count": 2,
   "id": "a270c2b5",
   "metadata": {},
   "outputs": [],
   "source": [
    "# Imports e configurações iniciais\n",
    "import os\n",
    "import random\n",
    "import numpy as np\n",
    "import matplotlib.pyplot as plt\n",
    "\n",
    "from qiskit import QuantumCircuit, transpile\n",
    "from qiskit.circuit.library import ZZFeatureMap, RealAmplitudes\n",
    "from qiskit.primitives import Estimator\n",
    "from qiskit_machine_learning.neural_networks import EstimatorQNN\n",
    "from qiskit_machine_learning.algorithms.classifiers import NeuralNetworkClassifier\n",
    "from qiskit_machine_learning.utils.loss_functions import CrossEntropyLoss\n",
    "from qiskit_algorithms.optimizers import COBYLA\n",
    "\n",
    "from qiskit_aer import AerSimulator\n",
    "from qiskit_aer.noise import NoiseModel, depolarizing_error\n",
    "\n",
    "from sklearn.preprocessing import MinMaxScaler\n",
    "from sklearn.model_selection import train_test_split\n",
    "from sklearn.metrics import accuracy_score, precision_score, recall_score, f1_score\n",
    "\n",
    "# Visualização inline\n",
    "%matplotlib inline"
   ]
  },
  {
   "cell_type": "markdown",
   "id": "5c145361",
   "metadata": {},
   "source": [
    "# Controle de Aleatoriedade e Reprodutibilidade"
   ]
  },
  {
   "cell_type": "code",
   "execution_count": 3,
   "id": "3afec77b",
   "metadata": {},
   "outputs": [],
   "source": [
    "SEED = 40\n",
    "random.seed(SEED)\n",
    "np.random.seed(SEED)\n",
    "\n",
    "try:\n",
    "    from qiskit_algorithms.utils import algorithm_globals\n",
    "    algorithm_globals.random_seed = SEED\n",
    "except Exception as e:\n",
    "    print(\"Não foi possível configurar a semente global do Qiskit, continuando...\", str(e))\n"
   ]
  },
  {
   "cell_type": "markdown",
   "id": "2409e5da",
   "metadata": {},
   "source": [
    "# Callback: envio do circuito por época"
   ]
  },
  {
   "cell_type": "code",
   "execution_count": 4,
   "id": "8eb72584",
   "metadata": {},
   "outputs": [],
   "source": [
    "# Função de callback que envia circuitos por época — adapte para seu ambiente de rede (ou mantenha como stub).\n",
    "def enviar_circuito_por_epoca(circuito, epoch, num_qubits, circuit_depth):\n",
    "    print(f\"[Epoch {epoch+1}] Enviando circuito para a rede (stub)...\")\n",
    "    try:\n",
    "        rede.application_layer.run_app(\n",
    "            \"BFK_BQC\",\n",
    "            alice_id=6,\n",
    "            bob_id=0,\n",
    "            num_qubits=num_qubits,\n",
    "            scenario=2,\n",
    "            circuit_depth=circuit_depth,\n",
    "            circuit=circuito\n",
    "        )\n",
    "        print(f\"Circuit depth: {circuit_depth}, num_qubits: {num_qubits}\")\n",
    "    except Exception as e:\n",
    "        print(f\"[Epoch {epoch+1}] Erro ao enviar circuito: {str(e)}\")\n"
   ]
  },
  {
   "cell_type": "markdown",
   "id": "cf9bb47a",
   "metadata": {},
   "source": [
    "# Inicializar o Backend com Ruído"
   ]
  },
  {
   "cell_type": "code",
   "execution_count": 5,
   "id": "a1c955e4",
   "metadata": {},
   "outputs": [
    {
     "name": "stdout",
     "output_type": "stream",
     "text": [
      "Simulador configurado: AerSimulator('aer_simulator_statevector'\n",
      "             noise_model=<NoiseModel on ['t', 'y', 'rx', 's', 'cx', 'tdg', 'z', 'rz', 'cz', 'x', 'ry', 'sdg', 'swap', 'h']>)\n"
     ]
    }
   ],
   "source": [
    "# Configuração do modelo de ruído e do simulador (AER)\n",
    "noise_model = NoiseModel()\n",
    "error_1q = depolarizing_error(0.01, 1)  # 1% 1-qubit\n",
    "error_2q = depolarizing_error(0.02, 2)  # 2% 2-qubit\n",
    "\n",
    "# Adiciona erros para portas comuns (ajuste conforme seu conjunto de gates)\n",
    "noise_model.add_all_qubit_quantum_error(error_1q, ['h', 'x', 'y', 'z', 'rx', 'ry', 'rz', 's', 'sdg', 't', 'tdg'])\n",
    "noise_model.add_all_qubit_quantum_error(error_2q, ['cx', 'cz', 'swap'])\n",
    "\n",
    "simulator = AerSimulator(\n",
    "    noise_model=noise_model,\n",
    "    shots=1024,\n",
    "    method='statevector'\n",
    ")\n",
    "\n",
    "print('Simulador configurado:', simulator)\n"
   ]
  },
  {
   "cell_type": "markdown",
   "id": "8b7788cd",
   "metadata": {},
   "source": [
    "# Carrega o conjunto de dados mnisq\n"
   ]
  },
  {
   "cell_type": "code",
   "execution_count": 6,
   "id": "872e2b7e",
   "metadata": {},
   "outputs": [
    {
     "name": "stdout",
     "output_type": "stream",
     "text": [
      "Dados carregados: X.shape=(20, 4), y.shape=(20,)\n"
     ]
    }
   ],
   "source": [
    "path = \"base_test_mnist_784_f90/qasm/\"\n",
    "\n",
    "if not os.path.isdir(path):\n",
    "    raise FileNotFoundError(f\"Diretório não encontrado: {path}. Atualize a variável 'path' com o local correto dos QASM.\")\n",
    "\n",
    "file_list = sorted(os.listdir(path))[:20]  # pega os 20 primeiros arquivos para exemplo\n",
    "\n",
    "states = []\n",
    "labels = []\n",
    "\n",
    "for i, file_name in enumerate(file_list):\n",
    "    try:\n",
    "        full_path = os.path.join(path, file_name)\n",
    "        with open(full_path) as f:\n",
    "            qasm = f.read()\n",
    "            qc = QuantumCircuit.from_qasm_str(qasm)\n",
    "            # salva o statevector no circuito para execução\n",
    "            qc.save_statevector()\n",
    "            compiled = transpile(qc, simulator)\n",
    "            job = simulator.run(compiled)\n",
    "            result = job.result()\n",
    "            # dependendo da versão do qiskit, a chave pode variar; tentamos recuperar robustamente:\n",
    "            try:\n",
    "                state = result.data(0)['statevector']\n",
    "            except Exception:\n",
    "                state = result.get_statevector(compiled)\n",
    "            features = np.abs(state) ** 2\n",
    "            features = features[:4]  # reduz para 4 características (exemplo)\n",
    "            states.append(features)\n",
    "            labels.append(0 if i < 10 else 1)  # rótulo de exemplo: primeiros 10 -> classe 0, resto -> classe 1\n",
    "    except Exception as e:\n",
    "        print(f\"Erro ao processar {file_name}: {str(e)}\")\n",
    "\n",
    "X = np.array(states)\n",
    "y = np.array(labels)\n",
    "\n",
    "if len(X) == 0:\n",
    "    raise ValueError(\"Nenhum dado foi carregado corretamente! Verifique os arquivos QASM e o simulador.\")\n",
    "else:\n",
    "    print(f\"Dados carregados: X.shape={X.shape}, y.shape={y.shape}\")\n"
   ]
  },
  {
   "cell_type": "markdown",
   "id": "23aa3b52",
   "metadata": {},
   "source": [
    "# Normalização e divisão dos dados"
   ]
  },
  {
   "cell_type": "code",
   "execution_count": 7,
   "id": "a83c40ea",
   "metadata": {},
   "outputs": [
    {
     "name": "stdout",
     "output_type": "stream",
     "text": [
      "Num qubits (features) = 4\n"
     ]
    }
   ],
   "source": [
    "scaler = MinMaxScaler(feature_range=(0, 1))\n",
    "X = scaler.fit_transform(X)\n",
    "\n",
    "X_train, X_test, y_train, y_test = train_test_split(\n",
    "    X, y, test_size=0.2, random_state=SEED, stratify=y\n",
    ")\n",
    "\n",
    "num_qubits = X.shape[1]\n",
    "print(f\"Num qubits (features) = {num_qubits}\")\n"
   ]
  },
  {
   "cell_type": "markdown",
   "id": "4521c4fb",
   "metadata": {},
   "source": [
    "# Cria o circuito quântico (FeatureMap + Ansatz)"
   ]
  },
  {
   "cell_type": "code",
   "execution_count": 8,
   "id": "323bb4bb",
   "metadata": {},
   "outputs": [
    {
     "name": "stdout",
     "output_type": "stream",
     "text": [
      "Circuito pronto. Depth aproximado: 2\n"
     ]
    }
   ],
   "source": [
    "# Construção do feature map e ansatz\n",
    "feature_map = ZZFeatureMap(num_qubits, reps=10, entanglement=\"full\")\n",
    "ansatz = RealAmplitudes(num_qubits, reps=10, entanglement=\"full\")\n",
    "\n",
    "qc = QuantumCircuit(num_qubits)\n",
    "qc.compose(feature_map, inplace=True)\n",
    "qc.compose(ansatz, inplace=True)\n",
    "\n",
    "print('Circuito pronto. Depth aproximado:', qc.depth())\n"
   ]
  },
  {
   "cell_type": "markdown",
   "id": "06780e86",
   "metadata": {},
   "source": [
    "# EstimatorQNN "
   ]
  },
  {
   "cell_type": "code",
   "execution_count": 9,
   "id": "af715753",
   "metadata": {},
   "outputs": [
    {
     "name": "stdout",
     "output_type": "stream",
     "text": [
      "VQC (NeuralNetworkClassifier) configurado.\n"
     ]
    },
    {
     "name": "stderr",
     "output_type": "stream",
     "text": [
      "/tmp/ipykernel_36385/3632900870.py:1: DeprecationWarning: The class ``qiskit.primitives.estimator.Estimator`` is deprecated as of qiskit 1.2. It will be removed no earlier than 3 months after the release date. All implementations of the `BaseEstimatorV1` interface have been deprecated in favor of their V2 counterparts. The V2 alternative for the `Estimator` class is `StatevectorEstimator`.\n",
      "  estimator = Estimator(options={\n",
      "/tmp/ipykernel_36385/3632900870.py:7: DeprecationWarning: V1 Primitives are deprecated as of qiskit-machine-learning 0.8.0 and will be removed no sooner than 4 months after the release date. Use V2 primitives for continued compatibility and support.\n",
      "  qnn = EstimatorQNN(\n"
     ]
    }
   ],
   "source": [
    "estimator = Estimator(options={\n",
    "    \"backend\": simulator,\n",
    "    \"resilience_level\": 1,\n",
    "    \"approximation\": True\n",
    "})\n",
    "\n",
    "qnn = EstimatorQNN(\n",
    "    circuit=qc,\n",
    "    input_params=feature_map.parameters,\n",
    "    weight_params=ansatz.parameters,\n",
    "    estimator=estimator,\n",
    "    input_gradients=True\n",
    ")\n",
    "\n",
    "vqc = NeuralNetworkClassifier(\n",
    "    neural_network=qnn,\n",
    "    loss=CrossEntropyLoss(),\n",
    "    optimizer=COBYLA(maxiter=50),\n",
    "    warm_start=True,\n",
    "    callback=lambda weights, loss, step: enviar_circuito_por_epoca(\n",
    "        circuito=feature_map.compose(ansatz.assign_parameters(weights)),\n",
    "        epoch=step,\n",
    "        num_qubits=num_qubits,\n",
    "        circuit_depth=feature_map.compose(ansatz).depth()\n",
    "    )\n",
    ")\n",
    "\n",
    "print('VQC (NeuralNetworkClassifier) configurado.')\n"
   ]
  },
  {
   "cell_type": "markdown",
   "id": "0a32c11a",
   "metadata": {},
   "source": [
    "# Treinamento"
   ]
  },
  {
   "cell_type": "code",
   "execution_count": 10,
   "id": "a360da11",
   "metadata": {},
   "outputs": [
    {
     "name": "stdout",
     "output_type": "stream",
     "text": [
      "\n",
      "TREINANDO VQC COM BACKEND RUIDOSO...\n",
      "\n",
      "Treinamento concluído.\n"
     ]
    }
   ],
   "source": [
    "# Treinamento — execute quando pronto\n",
    "print(\"\\nTREINANDO VQC COM BACKEND RUIDOSO...\\n\")\n",
    "vqc.fit(X_train, y_train)\n",
    "print(\"Treinamento concluído.\")"
   ]
  },
  {
   "cell_type": "markdown",
   "id": "e34042af",
   "metadata": {},
   "source": [
    "# Avaliação: métricas"
   ]
  },
  {
   "cell_type": "code",
   "execution_count": 11,
   "id": "1eb1ef7b",
   "metadata": {},
   "outputs": [
    {
     "name": "stdout",
     "output_type": "stream",
     "text": [
      "\n",
      "CALCULANDO MÉTRICAS...\n",
      "\n",
      "\n",
      "MÉTRICAS FINAIS:\n",
      "Acurácia : 0.7500\n",
      "Precisão : 0.6667\n",
      "Recall   : 1.0000\n",
      "F1 Score : 0.8000\n",
      "\n",
      "Resultados Detalhados:\n",
      "Entradas:\n",
      " [[0.02382076 0.06204392 0.00488905 0.        ]\n",
      " [0.09984274 0.02038796 0.0134381  0.03818453]\n",
      " [0.04744901 0.         0.         0.0345028 ]\n",
      " [0.10683771 1.         1.         0.12099313]]\n",
      "Saídas Previstas:\n",
      " [[1]\n",
      " [1]\n",
      " [1]\n",
      " [0]]\n",
      "Saídas Reais:\n",
      " [1 0 1 0]\n"
     ]
    }
   ],
   "source": [
    "# Avaliação\n",
    "print(\"\\nCALCULANDO MÉTRICAS...\\n\")\n",
    "y_pred = vqc.predict(X_test)\n",
    "\n",
    "# Ajustes para formato binário\n",
    "y_pred = np.round(y_pred).astype(int)\n",
    "y_pred = np.clip(y_pred, 0, 1)\n",
    "\n",
    "accuracy = accuracy_score(y_test, y_pred)\n",
    "precision = precision_score(y_test, y_pred, average='binary', zero_division=0)\n",
    "recall = recall_score(y_test, y_pred, average='binary', zero_division=0)\n",
    "f1 = f1_score(y_test, y_pred, average='binary', zero_division=0)\n",
    "\n",
    "print(\"\\nMÉTRICAS FINAIS:\")\n",
    "print(f\"Acurácia : {accuracy:.4f}\")\n",
    "print(f\"Precisão : {precision:.4f}\")\n",
    "print(f\"Recall   : {recall:.4f}\")\n",
    "print(f\"F1 Score : {f1:.4f}\")\n",
    "\n",
    "print(\"\\nResultados Detalhados:\")\n",
    "print(\"Entradas:\\n\", X_test)\n",
    "print(\"Saídas Previstas:\\n\", y_pred)\n",
    "print(\"Saídas Reais:\\n\", y_test)\n"
   ]
  },
  {
   "cell_type": "markdown",
   "id": "2bef1d9a",
   "metadata": {},
   "source": [
    "# Gráfico"
   ]
  },
  {
   "cell_type": "code",
   "execution_count": 12,
   "id": "561609d7",
   "metadata": {},
   "outputs": [
    {
     "data": {
      "image/png": "[encoded data removed]",
      "text/plain": [
       "<Figure size 600x300 with 1 Axes>"
      ]
     },
     "metadata": {},
     "output_type": "display_data"
    }
   ],
   "source": [
    "plt.figure(figsize=(6,3))\n",
    "plt.title('Primeiras previsões vs rótulos reais')\n",
    "plt.plot(y_test, marker='o', label='real')\n",
    "plt.plot(y_pred, marker='x', linestyle='--', label='predito')\n",
    "plt.legend()\n",
    "plt.grid(True)\n",
    "plt.tight_layout()\n",
    "plt.show()"
   ]
  }
 ],
 "metadata": {
  "kernelspec": {
   "display_name": "Python 3",
   "language": "python",
   "name": "python3"
  },
  "language_info": {
   "codemirror_mode": {
    "name": "ipython",
    "version": 3
   },
   "file_extension": ".py",
   "mimetype": "text/x-python",
   "name": "python",
   "nbconvert_exporter": "python",
   "pygments_lexer": "ipython3",
   "version": "3.12.1"
  }
 },
 "nbformat": 4,
 "nbformat_minor": 5
}
