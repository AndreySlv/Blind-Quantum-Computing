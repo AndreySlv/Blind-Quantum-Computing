{
 "cells": [
  {
   "cell_type": "markdown",
   "id": "f6a044af",
   "metadata": {},
   "source": [
    "# MNISQ VQC — Blind Quantum Computing\n",
    "\n",
    "Este notebook demonstra como treinar um modelo de Rede Neural Quântica (VQC)\n",
    "usando o Qiskit Machine Learning e circuitos gerados a partir de arquivos QASM\n",
    "da base MNIST.\n"
   ]
  },
  {
   "cell_type": "code",
   "execution_count": 77,
   "id": "49012751",
   "metadata": {},
   "outputs": [
    {
     "name": "stdout",
     "output_type": "stream",
     "text": [
      "Requirement already satisfied: qiskit in /usr/local/python/3.12.1/lib/python3.12/site-packages (1.4.4)\n",
      "Requirement already satisfied: qiskit-aer in /usr/local/python/3.12.1/lib/python3.12/site-packages (0.17.1)\n",
      "Requirement already satisfied: qiskit-machine-learning in /usr/local/python/3.12.1/lib/python3.12/site-packages (0.8.3)\n",
      "Requirement already satisfied: qiskit-algorithms in /usr/local/python/3.12.1/lib/python3.12/site-packages (0.3.1)\n",
      "Requirement already satisfied: scikit-learn in /usr/local/python/3.12.1/lib/python3.12/site-packages (1.7.1)\n",
      "Requirement already satisfied: matplotlib in /usr/local/python/3.12.1/lib/python3.12/site-packages (3.10.5)\n",
      "Requirement already satisfied: numpy in /usr/local/python/3.12.1/lib/python3.12/site-packages (2.2.6)\n",
      "Requirement already satisfied: rustworkx>=0.15.0 in /home/codespace/.local/lib/python3.12/site-packages (from qiskit) (0.15.1)\n",
      "Requirement already satisfied: scipy>=1.5 in /home/codespace/.local/lib/python3.12/site-packages (from qiskit) (1.14.1)\n",
      "Requirement already satisfied: sympy>=1.3 in /home/codespace/.local/lib/python3.12/site-packages (from qiskit) (1.13.3)\n",
      "Requirement already satisfied: dill>=0.3 in /home/codespace/.local/lib/python3.12/site-packages (from qiskit) (0.3.9)\n",
      "Requirement already satisfied: python-dateutil>=2.8.0 in /home/codespace/.local/lib/python3.12/site-packages (from qiskit) (2.9.0.post0)\n",
      "Requirement already satisfied: stevedore>=3.0.0 in /home/codespace/.local/lib/python3.12/site-packages (from qiskit) (5.3.0)\n",
      "Requirement already satisfied: typing-extensions in /home/codespace/.local/lib/python3.12/site-packages (from qiskit) (4.12.2)\n",
      "Requirement already satisfied: symengine<0.14,>=0.11 in /home/codespace/.local/lib/python3.12/site-packages (from qiskit) (0.13.0)\n",
      "Requirement already satisfied: psutil>=5 in /home/codespace/.local/lib/python3.12/site-packages (from qiskit-aer) (6.0.0)\n",
      "Requirement already satisfied: setuptools>=40.1 in /home/codespace/.local/lib/python3.12/site-packages (from qiskit-machine-learning) (80.9.0)\n",
      "Requirement already satisfied: joblib>=1.2.0 in /home/codespace/.local/lib/python3.12/site-packages (from scikit-learn) (1.5.1)\n",
      "Requirement already satisfied: threadpoolctl>=3.1.0 in /home/codespace/.local/lib/python3.12/site-packages (from scikit-learn) (3.6.0)\n",
      "Requirement already satisfied: contourpy>=1.0.1 in /home/codespace/.local/lib/python3.12/site-packages (from matplotlib) (1.3.0)\n",
      "Requirement already satisfied: cycler>=0.10 in /home/codespace/.local/lib/python3.12/site-packages (from matplotlib) (0.12.1)\n",
      "Requirement already satisfied: fonttools>=4.22.0 in /home/codespace/.local/lib/python3.12/site-packages (from matplotlib) (4.53.1)\n",
      "Requirement already satisfied: kiwisolver>=1.3.1 in /home/codespace/.local/lib/python3.12/site-packages (from matplotlib) (1.4.5)\n",
      "Requirement already satisfied: packaging>=20.0 in /home/codespace/.local/lib/python3.12/site-packages (from matplotlib) (24.1)\n",
      "Requirement already satisfied: pillow>=8 in /home/codespace/.local/lib/python3.12/site-packages (from matplotlib) (10.4.0)\n",
      "Requirement already satisfied: pyparsing>=2.3.1 in /home/codespace/.local/lib/python3.12/site-packages (from matplotlib) (3.1.4)\n",
      "Requirement already satisfied: six>=1.5 in /home/codespace/.local/lib/python3.12/site-packages (from python-dateutil>=2.8.0->qiskit) (1.16.0)\n",
      "Requirement already satisfied: pbr>=2.0.0 in /home/codespace/.local/lib/python3.12/site-packages (from stevedore>=3.0.0->qiskit) (6.1.0)\n",
      "Requirement already satisfied: mpmath<1.4,>=1.1.0 in /home/codespace/.local/lib/python3.12/site-packages (from sympy>=1.3->qiskit) (1.3.0)\n",
      "\n",
      "\u001b[1m[\u001b[0m\u001b[34;49mnotice\u001b[0m\u001b[1;39;49m]\u001b[0m\u001b[39;49m A new release of pip is available: \u001b[0m\u001b[31;49m25.1.1\u001b[0m\u001b[39;49m -> \u001b[0m\u001b[32;49m25.2\u001b[0m\n",
      "\u001b[1m[\u001b[0m\u001b[34;49mnotice\u001b[0m\u001b[1;39;49m]\u001b[0m\u001b[39;49m To update, run: \u001b[0m\u001b[32;49mpython3 -m pip install --upgrade pip\u001b[0m\n"
     ]
    }
   ],
   "source": [
    "#Instale as dependências (descomente e rode se necessário)\n",
    "!pip install qiskit qiskit-aer qiskit-machine-learning qiskit-algorithms scikit-learn matplotlib numpy"
   ]
  },
  {
   "cell_type": "code",
   "execution_count": null,
   "id": "a270c2b5",
   "metadata": {},
   "outputs": [],
   "source": [
    "# Imports e configurações iniciais\n",
    "import os\n",
    "import random\n",
    "import numpy as np\n",
    "import matplotlib\n",
    "import matplotlib.pyplot as plt\n",
    "\n",
    "from qiskit import QuantumCircuit, transpile\n",
    "from qiskit.circuit.library import ZZFeatureMap, RealAmplitudes\n",
    "from qiskit.primitives import Estimator\n",
    "from qiskit_machine_learning.neural_networks import EstimatorQNN\n",
    "from qiskit_machine_learning.algorithms.classifiers import NeuralNetworkClassifier\n",
    "from qiskit_machine_learning.utils.loss_functions import CrossEntropyLoss\n",
    "from qiskit_algorithms.optimizers import COBYLA\n",
    "\n",
    "from qiskit_aer import AerSimulator\n",
    "from qiskit_aer.noise import NoiseModel, depolarizing_error\n",
    "\n",
    "from sklearn.preprocessing import MinMaxScaler\n",
    "from sklearn.model_selection import train_test_split\n",
    "from sklearn.metrics import accuracy_score, precision_score, recall_score, f1_score, confusion_matrix\n",
    "\n",
    "import seaborn as sns\n",
    "\n",
    "%matplotlib inline\n",
    "\n",
    "def mostrar_matriz_confusao(y_true, y_pred, classes=None, title='Matriz de Confusão'):\n",
    "    \"\"\"\n",
    "    Calcula e mostra a matriz de confusão formatada\n",
    "    \"\"\"\n",
    "    from sklearn.metrics import confusion_matrix\n",
    "    \n",
    "    cm = confusion_matrix(y_true, y_pred)\n",
    "    \n",
    "    print(f\"\\n{title}\")\n",
    "    print(\"=\" * 30)\n",
    "    \n",
    "    if classes is None:\n",
    "        classes = [f'Classe {i}' for i in range(len(cm))]\n",
    "    \n",
    "    # Cabeçalho\n",
    "    header = \"         \" + \" \".join(f\"{cls:>8}\" for cls in classes)\n",
    "    print(header)\n",
    "    print(\" \" * 9 + \"-\" * (len(classes) * 9))\n",
    "    \n",
    "    # Linhas da matriz\n",
    "    for i, row in enumerate(cm):\n",
    "        row_str = f\"{classes[i]:<8} |\"\n",
    "        for val in row:\n",
    "            row_str += f\" {val:>7}\"\n",
    "        print(row_str)\n",
    "    \n",
    "    return cm\n",
    "\n",
    "def mostrar_matriz_confusao_normalizada(y_true, y_pred, classes=None, title='Matriz de Confusão Normalizada'):\n",
    "    \"\"\"\n",
    "    Calcula e mostra a matriz de confusão normalizada\n",
    "    \"\"\"\n",
    "    from sklearn.metrics import confusion_matrix\n",
    "    \n",
    "    cm = confusion_matrix(y_true, y_pred)\n",
    "    cm_norm = cm.astype('float') / cm.sum(axis=1)[:, np.newaxis]\n",
    "    \n",
    "    print(f\"\\n{title}\")\n",
    "    print(\"=\" * 40)\n",
    "    \n",
    "    if classes is None:\n",
    "        classes = [f'Classe {i}' for i in range(len(cm))]\n",
    "    \n",
    "    # Cabeçalho\n",
    "    header = \"         \" + \" \".join(f\"{cls:>10}\" for cls in classes)\n",
    "    print(header)\n",
    "    print(\" \" * 9 + \"-\" * (len(classes) * 11))\n",
    "    \n",
    "    # Linhas da matriz\n",
    "    for i, row in enumerate(cm_norm):\n",
    "        row_str = f\"{classes[i]:<8} |\"\n",
    "        for val in row:\n",
    "            row_str += f\" {val:>9.3f}\"\n",
    "        print(row_str)\n",
    "    \n",
    "    return cm_norm"
   ]
  },
  {
   "cell_type": "markdown",
   "id": "5c145361",
   "metadata": {},
   "source": [
    "# Controle de Aleatoriedade e Reprodutibilidade"
   ]
  },
  {
   "cell_type": "code",
   "execution_count": 79,
   "id": "3afec77b",
   "metadata": {},
   "outputs": [],
   "source": [
    "SEED = 42\n",
    "random.seed(SEED)\n",
    "np.random.seed(SEED)\n",
    "\n",
    "try:\n",
    "    from qiskit_algorithms.utils import algorithm_globals\n",
    "    algorithm_globals.random_seed = SEED\n",
    "except Exception as e:\n",
    "    print(\"Não foi possível configurar a semente global do Qiskit, continuando...\", str(e))\n"
   ]
  },
  {
   "cell_type": "markdown",
   "id": "2409e5da",
   "metadata": {},
   "source": [
    "# Callback: envio do circuito por época"
   ]
  },
  {
   "cell_type": "code",
   "execution_count": 80,
   "id": "8eb72584",
   "metadata": {},
   "outputs": [],
   "source": [
    "def enviar_circuito_por_epoca(circuito, epoch, num_qubits, circuit_depth):\n",
    "    print(f\"[Epoch {epoch+1}] Enviando circuito para a rede (stub)...\")\n",
    "    try:\n",
    "        rede.application_layer.run_app(\n",
    "            \"BFK_BQC\",\n",
    "            alice_id=6,\n",
    "            bob_id=0,\n",
    "            num_qubits=num_qubits,\n",
    "            scenario=2,\n",
    "            circuit_depth=circuit_depth,\n",
    "            circuit=circuito\n",
    "        )\n",
    "        print(f\"Circuit depth: {circuit_depth}, num_qubits: {num_qubits}\")\n",
    "    except Exception as e:\n",
    "        print(f\"[Epoch {epoch+1}] Erro ao enviar circuito: {str(e)}\")\n"
   ]
  },
  {
   "cell_type": "markdown",
   "id": "cf9bb47a",
   "metadata": {},
   "source": [
    "# Inicializar o Backend com Ruído"
   ]
  },
  {
   "cell_type": "code",
   "execution_count": 81,
   "id": "a1c955e4",
   "metadata": {},
   "outputs": [
    {
     "name": "stdout",
     "output_type": "stream",
     "text": [
      "Simulador configurado: AerSimulator('aer_simulator_statevector'\n",
      "             noise_model=<NoiseModel on ['cx', 'y', 'h', 's', 'cz', 'rz', 'swap', 'z', 't', 'ry', 'x', 'rx', 'sdg', 'tdg']>)\n"
     ]
    }
   ],
   "source": [
    "# Configuração do modelo de ruído e do simulador (AER)\n",
    "noise_model = NoiseModel()\n",
    "error_1q = depolarizing_error(0.01, 1)  # 1% 1-qubit\n",
    "error_2q = depolarizing_error(0.02, 2)  # 2% 2-qubit\n",
    "\n",
    "# Adiciona erros para portas comuns (ajuste conforme seu conjunto de gates)\n",
    "noise_model.add_all_qubit_quantum_error(error_1q, ['h', 'x', 'y', 'z', 'rx', 'ry', 'rz', 's', 'sdg', 't', 'tdg'])\n",
    "noise_model.add_all_qubit_quantum_error(error_2q, ['cx', 'cz', 'swap'])\n",
    "\n",
    "simulator = AerSimulator(\n",
    "    noise_model=noise_model,\n",
    "    shots=1024,\n",
    "    method='statevector'\n",
    ")\n",
    "\n",
    "print('Simulador configurado:', simulator)\n"
   ]
  },
  {
   "cell_type": "markdown",
   "id": "8b7788cd",
   "metadata": {},
   "source": [
    "# Carregar os arquivos QASM da base MNIST."
   ]
  },
  {
   "cell_type": "code",
   "execution_count": 82,
   "id": "872e2b7e",
   "metadata": {},
   "outputs": [
    {
     "name": "stdout",
     "output_type": "stream",
     "text": [
      "Dados carregados: X.shape=(20, 4), y.shape=(20,)\n"
     ]
    }
   ],
   "source": [
    "path = \"base_test_mnist_784_f90/qasm/\"\n",
    "\n",
    "if not os.path.isdir(path):\n",
    "    raise FileNotFoundError(f\"Diretório não encontrado: {path}. Atualize a variável 'path' com o local correto dos QASM.\")\n",
    "\n",
    "file_list = sorted(os.listdir(path))[:20]  # pega os 20 primeiros arquivos para exemplo\n",
    "\n",
    "states = []\n",
    "labels = []\n",
    "\n",
    "for i, file_name in enumerate(file_list):\n",
    "    try:\n",
    "        full_path = os.path.join(path, file_name)\n",
    "        with open(full_path) as f:\n",
    "            qasm = f.read()\n",
    "            qc = QuantumCircuit.from_qasm_str(qasm)\n",
    "            # salva o statevector no circuito para execução\n",
    "            qc.save_statevector()\n",
    "            compiled = transpile(qc, simulator)\n",
    "            job = simulator.run(compiled)\n",
    "            result = job.result()\n",
    "            # dependendo da versão do qiskit, a chave pode variar; tentamos recuperar robustamente:\n",
    "            try:\n",
    "                state = result.data(0)['statevector']\n",
    "            except Exception:\n",
    "                state = result.get_statevector(compiled)\n",
    "            features = np.abs(state) ** 2\n",
    "            features = features[:4]  # reduz para 4 características (exemplo)\n",
    "            states.append(features)\n",
    "            labels.append(0 if i < 10 else 1)  # rótulo de exemplo: primeiros 10 -> classe 0, resto -> classe 1\n",
    "    except Exception as e:\n",
    "        print(f\"Erro ao processar {file_name}: {str(e)}\")\n",
    "\n",
    "X = np.array(states)\n",
    "y = np.array(labels)\n",
    "\n",
    "if len(X) == 0:\n",
    "    raise ValueError(\"Nenhum dado foi carregado corretamente! Verifique os arquivos QASM e o simulador.\")\n",
    "else:\n",
    "    print(f\"Dados carregados: X.shape={X.shape}, y.shape={y.shape}\")\n"
   ]
  },
  {
   "cell_type": "markdown",
   "id": "23aa3b52",
   "metadata": {},
   "source": [
    "# Normalização e divisão dos dados"
   ]
  },
  {
   "cell_type": "code",
   "execution_count": 83,
   "id": "a83c40ea",
   "metadata": {},
   "outputs": [
    {
     "name": "stdout",
     "output_type": "stream",
     "text": [
      "Num qubits (features) = 4\n"
     ]
    }
   ],
   "source": [
    "scaler = MinMaxScaler(feature_range=(0, 1))\n",
    "X = scaler.fit_transform(X)\n",
    "\n",
    "X_train, X_test, y_train, y_test = train_test_split(\n",
    "    X, y, test_size=0.2, random_state=SEED, stratify=y\n",
    ")\n",
    "\n",
    "num_qubits = X.shape[1]\n",
    "print(f\"Num qubits (features) = {num_qubits}\")\n"
   ]
  },
  {
   "cell_type": "markdown",
   "id": "4521c4fb",
   "metadata": {},
   "source": [
    "# Cria o circuito quântico (FeatureMap + Ansatz)"
   ]
  },
  {
   "cell_type": "code",
   "execution_count": 84,
   "id": "323bb4bb",
   "metadata": {},
   "outputs": [
    {
     "name": "stdout",
     "output_type": "stream",
     "text": [
      "Circuito pronto. Depth aproximado: 2\n"
     ]
    }
   ],
   "source": [
    "# Construção do feature map e ansatz\n",
    "feature_map = ZZFeatureMap(num_qubits, reps=10, entanglement=\"full\")\n",
    "ansatz = RealAmplitudes(num_qubits, reps=10, entanglement=\"full\")\n",
    "\n",
    "qc = QuantumCircuit(num_qubits)\n",
    "qc.compose(feature_map, inplace=True)\n",
    "qc.compose(ansatz, inplace=True)\n",
    "\n",
    "print('Circuito pronto. Depth aproximado:', qc.depth())\n"
   ]
  },
  {
   "cell_type": "markdown",
   "id": "06780e86",
   "metadata": {},
   "source": [
    "# EstimatorQNN "
   ]
  },
  {
   "cell_type": "code",
   "execution_count": 85,
   "id": "af715753",
   "metadata": {},
   "outputs": [
    {
     "name": "stdout",
     "output_type": "stream",
     "text": [
      "VQC (NeuralNetworkClassifier) configurado.\n"
     ]
    },
    {
     "name": "stderr",
     "output_type": "stream",
     "text": [
      "/tmp/ipykernel_46911/3632900870.py:1: DeprecationWarning: The class ``qiskit.primitives.estimator.Estimator`` is deprecated as of qiskit 1.2. It will be removed no earlier than 3 months after the release date. All implementations of the `BaseEstimatorV1` interface have been deprecated in favor of their V2 counterparts. The V2 alternative for the `Estimator` class is `StatevectorEstimator`.\n",
      "  estimator = Estimator(options={\n",
      "/tmp/ipykernel_46911/3632900870.py:7: DeprecationWarning: V1 Primitives are deprecated as of qiskit-machine-learning 0.8.0 and will be removed no sooner than 4 months after the release date. Use V2 primitives for continued compatibility and support.\n",
      "  qnn = EstimatorQNN(\n"
     ]
    }
   ],
   "source": [
    "estimator = Estimator(options={\n",
    "    \"backend\": simulator,\n",
    "    \"resilience_level\": 1,\n",
    "    \"approximation\": True\n",
    "})\n",
    "\n",
    "qnn = EstimatorQNN(\n",
    "    circuit=qc,\n",
    "    input_params=feature_map.parameters,\n",
    "    weight_params=ansatz.parameters,\n",
    "    estimator=estimator,\n",
    "    input_gradients=True\n",
    ")\n",
    "\n",
    "vqc = NeuralNetworkClassifier(\n",
    "    neural_network=qnn,\n",
    "    loss=CrossEntropyLoss(),\n",
    "    optimizer=COBYLA(maxiter=50),\n",
    "    warm_start=True,\n",
    "    callback=lambda weights, loss, step: enviar_circuito_por_epoca(\n",
    "        circuito=feature_map.compose(ansatz.assign_parameters(weights)),\n",
    "        epoch=step,\n",
    "        num_qubits=num_qubits,\n",
    "        circuit_depth=feature_map.compose(ansatz).depth()\n",
    "    )\n",
    ")\n",
    "\n",
    "print('VQC (NeuralNetworkClassifier) configurado.')\n"
   ]
  },
  {
   "cell_type": "markdown",
   "id": "0a32c11a",
   "metadata": {},
   "source": [
    "# Treinamento"
   ]
  },
  {
   "cell_type": "code",
   "execution_count": 86,
   "id": "a360da11",
   "metadata": {},
   "outputs": [
    {
     "name": "stdout",
     "output_type": "stream",
     "text": [
      "\n",
      "TREINANDO VQC COM BACKEND RUIDOSO...\n",
      "\n"
     ]
    },
    {
     "name": "stdout",
     "output_type": "stream",
     "text": [
      "Treinamento concluído.\n"
     ]
    }
   ],
   "source": [
    "\n",
    "print(\"\\nTREINANDO VQC COM BACKEND RUIDOSO...\\n\")\n",
    "vqc.fit(X_train, y_train)\n",
    "print(\"Treinamento concluído.\")"
   ]
  },
  {
   "cell_type": "markdown",
   "id": "e34042af",
   "metadata": {},
   "source": [
    "# Avaliação: métricas"
   ]
  },
  {
   "cell_type": "code",
   "execution_count": null,
   "id": "1eb1ef7b",
   "metadata": {},
   "outputs": [
    {
     "name": "stdout",
     "output_type": "stream",
     "text": [
      "\n",
      "CALCULANDO MÉTRICAS...\n",
      "\n",
      "\n",
      "==================================================\n",
      "MATRIZ DE CONFUSÃO\n",
      "==================================================\n",
      "\n",
      "Matriz de Confusão - VQC Quântico\n",
      "==============================\n",
      "         Classe 0 Classe 1\n",
      "         ------------------\n",
      "Classe 0 |       1       1\n",
      "Classe 1 |       0       2\n",
      "\n",
      "Matriz de Confusão Normalizada - VQC Quântico\n",
      "========================================\n",
      "           Classe 0   Classe 1\n",
      "         ----------------------\n",
      "Classe 0 |     0.500     0.500\n",
      "Classe 1 |     0.000     1.000\n",
      "\n",
      "Detalhamento da Matriz de Confusão:\n",
      "Verdadeiros Negativos (TN): 1\n",
      "Falsos Positivos (FP): 1\n",
      "Falsos Negativos (FN): 0\n",
      "Verdadeiros Positivos (TP): 2\n",
      "\n",
      "MÉTRICAS FINAIS:\n",
      "Acurácia : 0.7500\n",
      "Precisão : 0.6667\n",
      "Recall   : 1.0000\n",
      "F1 Score : 0.8000\n",
      "\n",
      "Resultados Detalhados:\n",
      "Entradas:\n",
      " [[0.3408383  0.24518567 0.02063648 0.10784593]\n",
      " [0.02018587 0.6965891  0.06959969 1.        ]\n",
      " [0.47196663 0.01034732 0.07137987 0.03969558]\n",
      " [0.77555404 0.07346659 0.00977839 0.03519183]]\n",
      "Saídas Previstas:\n",
      " [[1]\n",
      " [0]\n",
      " [1]\n",
      " [1]]\n",
      "Saídas Reais:\n",
      " [0 0 1 1]\n",
      "\n",
      "Matriz de confusão salva como 'matriz_confusao.png'\n"
     ]
    }
   ],
   "source": [
    "\n",
    "print(\"\\nCALCULANDO MÉTRICAS...\\n\")\n",
    "y_pred = vqc.predict(X_test)\n",
    "\n",
    "# Ajustes para formato binário\n",
    "y_pred = np.round(y_pred).astype(int)\n",
    "y_pred = np.clip(y_pred, 0, 1)\n",
    "\n",
    "# CALCULAR MATRIZ DE CONFUSÃO\n",
    "print(\"\\n\" + \"=\"*50)\n",
    "print(\"MATRIZ DE CONFUSÃO\")\n",
    "print(\"=\"*50)\n",
    "\n",
    "cm = mostrar_matriz_confusao(y_test, y_pred, classes=['Classe 0', 'Classe 1'], title='Matriz de Confusão - VQC Quântico')\n",
    "\n",
    "cm_norm = mostrar_matriz_confusao_normalizada(y_test, y_pred, classes=['Classe 0', 'Classe 1'], \n",
    "                              title='Matriz de Confusão Normalizada - VQC Quântico')\n",
    "tn, fp, fn, tp = cm.ravel()\n",
    "\n",
    "print(f\"\\nDetalhamento da Matriz de Confusão:\")\n",
    "print(f\"Verdadeiros Negativos (TN): {tn}\")\n",
    "print(f\"Falsos Positivos (FP): {fp}\")\n",
    "print(f\"Falsos Negativos (FN): {fn}\")\n",
    "print(f\"Verdadeiros Positivos (TP): {tp}\")\n",
    "\n",
    "accuracy = accuracy_score(y_test, y_pred)\n",
    "precision = precision_score(y_test, y_pred, average='binary', zero_division=0)\n",
    "recall = recall_score(y_test, y_pred, average='binary', zero_division=0)\n",
    "f1 = f1_score(y_test, y_pred, average='binary', zero_division=0)\n",
    "\n",
    "print(\"\\nMÉTRICAS FINAIS:\")\n",
    "print(f\"Acurácia : {accuracy:.4f}\")\n",
    "print(f\"Precisão : {precision:.4f}\")\n",
    "print(f\"Recall   : {recall:.4f}\")\n",
    "print(f\"F1 Score : {f1:.4f}\")\n",
    "\n",
    "print(\"\\nResultados Detalhados:\")\n",
    "print(\"Entradas:\\n\", X_test)\n",
    "print(\"Saídas Previstas:\\n\", y_pred)\n",
    "print(\"Saídas Reais:\\n\", y_test)\n",
    "\n"
   ]
  },
  {
   "cell_type": "markdown",
   "id": "2bef1d9a",
   "metadata": {},
   "source": [
    "# Gráfico"
   ]
  },
  {
   "cell_type": "code",
   "execution_count": 88,
   "id": "561609d7",
   "metadata": {},
   "outputs": [
    {
     "ename": "ImportError",
     "evalue": "cannot import name 'backend_agg' from 'matplotlib.backends' (/home/codespace/.local/lib/python3.12/site-packages/matplotlib/backends/__init__.py)",
     "output_type": "error",
     "traceback": [
      "\u001b[0;31m---------------------------------------------------------------------------\u001b[0m",
      "\u001b[0;31mImportError\u001b[0m                               Traceback (most recent call last)",
      "Cell \u001b[0;32mIn[88], line 1\u001b[0m\n\u001b[0;32m----> 1\u001b[0m \u001b[43mplt\u001b[49m\u001b[38;5;241;43m.\u001b[39;49m\u001b[43mfigure\u001b[49m\u001b[43m(\u001b[49m\u001b[43mfigsize\u001b[49m\u001b[38;5;241;43m=\u001b[39;49m\u001b[43m(\u001b[49m\u001b[38;5;241;43m6\u001b[39;49m\u001b[43m,\u001b[49m\u001b[38;5;241;43m3\u001b[39;49m\u001b[43m)\u001b[49m\u001b[43m)\u001b[49m\n\u001b[1;32m      2\u001b[0m plt\u001b[38;5;241m.\u001b[39mtitle(\u001b[38;5;124m'\u001b[39m\u001b[38;5;124mPrimeiras previsões vs rótulos reais\u001b[39m\u001b[38;5;124m'\u001b[39m)\n\u001b[1;32m      3\u001b[0m plt\u001b[38;5;241m.\u001b[39mplot(y_test, marker\u001b[38;5;241m=\u001b[39m\u001b[38;5;124m'\u001b[39m\u001b[38;5;124mo\u001b[39m\u001b[38;5;124m'\u001b[39m, label\u001b[38;5;241m=\u001b[39m\u001b[38;5;124m'\u001b[39m\u001b[38;5;124mreal\u001b[39m\u001b[38;5;124m'\u001b[39m)\n",
      "File \u001b[0;32m~/.local/lib/python3.12/site-packages/matplotlib/pyplot.py:1027\u001b[0m, in \u001b[0;36mfigure\u001b[0;34m(num, figsize, dpi, facecolor, edgecolor, frameon, FigureClass, clear, **kwargs)\u001b[0m\n",
      "File \u001b[0;32m~/.local/lib/python3.12/site-packages/matplotlib/pyplot.py:549\u001b[0m, in \u001b[0;36mnew_figure_manager\u001b[0;34m(*args, **kwargs)\u001b[0m\n",
      "File \u001b[0;32m~/.local/lib/python3.12/site-packages/matplotlib/pyplot.py:526\u001b[0m, in \u001b[0;36m_warn_if_gui_out_of_main_thread\u001b[0;34m()\u001b[0m\n",
      "File \u001b[0;32m~/.local/lib/python3.12/site-packages/matplotlib/pyplot.py:358\u001b[0m, in \u001b[0;36m_get_backend_mod\u001b[0;34m()\u001b[0m\n",
      "File \u001b[0;32m~/.local/lib/python3.12/site-packages/matplotlib/pyplot.py:415\u001b[0m, in \u001b[0;36mswitch_backend\u001b[0;34m(newbackend)\u001b[0m\n",
      "File \u001b[0;32m~/.local/lib/python3.12/site-packages/matplotlib/backends/registry.py:323\u001b[0m, in \u001b[0;36mload_backend_module\u001b[0;34m(self, backend)\u001b[0m\n",
      "File \u001b[0;32m/usr/local/python/3.12.1/lib/python3.12/importlib/__init__.py:90\u001b[0m, in \u001b[0;36mimport_module\u001b[0;34m(name, package)\u001b[0m\n\u001b[1;32m     88\u001b[0m             \u001b[38;5;28;01mbreak\u001b[39;00m\n\u001b[1;32m     89\u001b[0m         level \u001b[38;5;241m+\u001b[39m\u001b[38;5;241m=\u001b[39m \u001b[38;5;241m1\u001b[39m\n\u001b[0;32m---> 90\u001b[0m \u001b[38;5;28;01mreturn\u001b[39;00m \u001b[43m_bootstrap\u001b[49m\u001b[38;5;241;43m.\u001b[39;49m\u001b[43m_gcd_import\u001b[49m\u001b[43m(\u001b[49m\u001b[43mname\u001b[49m\u001b[43m[\u001b[49m\u001b[43mlevel\u001b[49m\u001b[43m:\u001b[49m\u001b[43m]\u001b[49m\u001b[43m,\u001b[49m\u001b[43m \u001b[49m\u001b[43mpackage\u001b[49m\u001b[43m,\u001b[49m\u001b[43m \u001b[49m\u001b[43mlevel\u001b[49m\u001b[43m)\u001b[49m\n",
      "File \u001b[0;32m<frozen importlib._bootstrap>:1387\u001b[0m, in \u001b[0;36m_gcd_import\u001b[0;34m(name, package, level)\u001b[0m\n",
      "File \u001b[0;32m<frozen importlib._bootstrap>:1360\u001b[0m, in \u001b[0;36m_find_and_load\u001b[0;34m(name, import_)\u001b[0m\n",
      "File \u001b[0;32m<frozen importlib._bootstrap>:1310\u001b[0m, in \u001b[0;36m_find_and_load_unlocked\u001b[0;34m(name, import_)\u001b[0m\n",
      "File \u001b[0;32m<frozen importlib._bootstrap>:488\u001b[0m, in \u001b[0;36m_call_with_frames_removed\u001b[0;34m(f, *args, **kwds)\u001b[0m\n",
      "File \u001b[0;32m<frozen importlib._bootstrap>:1387\u001b[0m, in \u001b[0;36m_gcd_import\u001b[0;34m(name, package, level)\u001b[0m\n",
      "File \u001b[0;32m<frozen importlib._bootstrap>:1360\u001b[0m, in \u001b[0;36m_find_and_load\u001b[0;34m(name, import_)\u001b[0m\n",
      "File \u001b[0;32m<frozen importlib._bootstrap>:1331\u001b[0m, in \u001b[0;36m_find_and_load_unlocked\u001b[0;34m(name, import_)\u001b[0m\n",
      "File \u001b[0;32m<frozen importlib._bootstrap>:935\u001b[0m, in \u001b[0;36m_load_unlocked\u001b[0;34m(spec)\u001b[0m\n",
      "File \u001b[0;32m<frozen importlib._bootstrap_external>:994\u001b[0m, in \u001b[0;36mexec_module\u001b[0;34m(self, module)\u001b[0m\n",
      "File \u001b[0;32m<frozen importlib._bootstrap>:488\u001b[0m, in \u001b[0;36m_call_with_frames_removed\u001b[0;34m(f, *args, **kwds)\u001b[0m\n",
      "File \u001b[0;32m~/.local/lib/python3.12/site-packages/matplotlib_inline/__init__.py:1\u001b[0m\n\u001b[0;32m----> 1\u001b[0m \u001b[38;5;28;01mfrom\u001b[39;00m \u001b[38;5;21;01m.\u001b[39;00m \u001b[38;5;28;01mimport\u001b[39;00m backend_inline, config  \u001b[38;5;66;03m# noqa\u001b[39;00m\n\u001b[1;32m      2\u001b[0m __version__ \u001b[38;5;241m=\u001b[39m \u001b[38;5;124m\"\u001b[39m\u001b[38;5;124m0.1.7\u001b[39m\u001b[38;5;124m\"\u001b[39m  \u001b[38;5;66;03m# noqa\u001b[39;00m\n",
      "File \u001b[0;32m~/.local/lib/python3.12/site-packages/matplotlib_inline/backend_inline.py:8\u001b[0m\n\u001b[1;32m      6\u001b[0m \u001b[38;5;28;01mimport\u001b[39;00m \u001b[38;5;21;01mmatplotlib\u001b[39;00m\n\u001b[1;32m      7\u001b[0m \u001b[38;5;28;01mfrom\u001b[39;00m \u001b[38;5;21;01mmatplotlib\u001b[39;00m \u001b[38;5;28;01mimport\u001b[39;00m colors\n\u001b[0;32m----> 8\u001b[0m \u001b[38;5;28;01mfrom\u001b[39;00m \u001b[38;5;21;01mmatplotlib\u001b[39;00m\u001b[38;5;21;01m.\u001b[39;00m\u001b[38;5;21;01mbackends\u001b[39;00m \u001b[38;5;28;01mimport\u001b[39;00m backend_agg\n\u001b[1;32m      9\u001b[0m \u001b[38;5;28;01mfrom\u001b[39;00m \u001b[38;5;21;01mmatplotlib\u001b[39;00m\u001b[38;5;21;01m.\u001b[39;00m\u001b[38;5;21;01mbackends\u001b[39;00m\u001b[38;5;21;01m.\u001b[39;00m\u001b[38;5;21;01mbackend_agg\u001b[39;00m \u001b[38;5;28;01mimport\u001b[39;00m FigureCanvasAgg\n\u001b[1;32m     10\u001b[0m \u001b[38;5;28;01mfrom\u001b[39;00m \u001b[38;5;21;01mmatplotlib\u001b[39;00m\u001b[38;5;21;01m.\u001b[39;00m\u001b[38;5;21;01m_pylab_helpers\u001b[39;00m \u001b[38;5;28;01mimport\u001b[39;00m Gcf\n",
      "\u001b[0;31mImportError\u001b[0m: cannot import name 'backend_agg' from 'matplotlib.backends' (/home/codespace/.local/lib/python3.12/site-packages/matplotlib/backends/__init__.py)"
     ]
    }
   ],
   "source": [
    "plt.figure(figsize=(6,3))\n",
    "plt.title('Primeiras previsões vs rótulos reais')\n",
    "plt.plot(y_test, marker='o', label='real')\n",
    "plt.plot(y_pred, marker='x', linestyle='--', label='predito')\n",
    "plt.legend()\n",
    "plt.grid(True)\n",
    "plt.tight_layout()\n",
    "plt.show()"
   ]
  }
 ],
 "metadata": {
  "kernelspec": {
   "display_name": "Python 3",
   "language": "python",
   "name": "python3"
  },
  "language_info": {
   "codemirror_mode": {
    "name": "ipython",
    "version": 3
   },
   "file_extension": ".py",
   "mimetype": "text/x-python",
   "name": "python",
   "nbconvert_exporter": "python",
   "pygments_lexer": "ipython3",
   "version": "3.12.1"
  }
 },
 "nbformat": 4,
 "nbformat_minor": 5
}
